{
 "cells": [
  {
   "cell_type": "markdown",
   "metadata": {},
   "source": [
    "## Import\n"
   ]
  },
  {
   "cell_type": "code",
   "execution_count": 45,
   "metadata": {},
   "outputs": [
    {
     "name": "stdout",
     "output_type": "stream",
     "text": [
      "Requirement already satisfied: pandas in /home/derek/git/neXSim-core-ker-experiments/venv/lib/python3.10/site-packages (2.2.3)\n",
      "Requirement already satisfied: numpy in /home/derek/git/neXSim-core-ker-experiments/venv/lib/python3.10/site-packages (2.1.2)\n",
      "Requirement already satisfied: python-dateutil>=2.8.2 in /home/derek/git/neXSim-core-ker-experiments/venv/lib/python3.10/site-packages (from pandas) (2.9.0.post0)\n",
      "Requirement already satisfied: tzdata>=2022.7 in /home/derek/git/neXSim-core-ker-experiments/venv/lib/python3.10/site-packages (from pandas) (2024.2)\n",
      "Requirement already satisfied: pytz>=2020.1 in /home/derek/git/neXSim-core-ker-experiments/venv/lib/python3.10/site-packages (from pandas) (2024.2)\n",
      "Requirement already satisfied: six>=1.5 in /home/derek/git/neXSim-core-ker-experiments/venv/lib/python3.10/site-packages (from python-dateutil>=2.8.2->pandas) (1.16.0)\n"
     ]
    }
   ],
   "source": [
    "! pip install pandas numpy\n",
    "\n",
    "\n",
    "import pandas as pd\n",
    "import numpy as np\n",
    "\n",
    "import os"
   ]
  },
  {
   "cell_type": "markdown",
   "metadata": {},
   "source": [
    "## File Loading\n"
   ]
  },
  {
   "cell_type": "code",
   "execution_count": 48,
   "metadata": {},
   "outputs": [],
   "source": [
    "SEEDS = ['actor', \n",
    "         'amusement_park', \n",
    "         'band', \n",
    "         'championship', \n",
    "         'chemical_element', \n",
    "         'company', \n",
    "         'comune', \n",
    "         'dialect', \n",
    "         'film', \n",
    "         'scientist', \n",
    "         'sculpture', \n",
    "         'university', \n",
    "         'vehicle', \n",
    "         'video_game']\n",
    "\n",
    "\n",
    "SIZES = [2,3,4,5,6]"
   ]
  },
  {
   "cell_type": "code",
   "execution_count": 49,
   "metadata": {},
   "outputs": [
    {
     "name": "stdout",
     "output_type": "stream",
     "text": [
      "['university', 'company', 'comune', 'amusement_park', 'film', 'vehicle', 'chemical_element', 'scientist', 'video_game', 'championship', 'actor', 'sculpture', 'dialect', 'band']\n",
      "Index(['SEED', 'UNIT', 'UNIT_SIZE', 'SUMMARY_SIZES', 'WT_SUMMARY_SIZES',\n",
      "       'SUMMARY_TILDE_SIZES', 'OLDKER_SIZE', 'WT_OLDKER_SIZE', 'NEWKER_SIZE',\n",
      "       'WT_NEWKER_SIZE', 'OLDCORE_SIZE', 'WT_OLDCORE_SIZE', 'NEWCORE_SIZE',\n",
      "       'WT_NEWCORE_SIZE', 'SUMMARY_COMPUTATION_TIME',\n",
      "       'SUMMARY_TILDE_COMPUTATION_TIME', 'OLDKER_COMPUTATION_TIME',\n",
      "       'NEWKER_COMPUTATION_TIME', 'OLDCORE_COMPUTATION_TIME',\n",
      "       'NEWCORE_COMPUTATION_TIME'],\n",
      "      dtype='object')\n",
      "(700000, 20)\n"
     ]
    }
   ],
   "source": [
    "# read the names of the subfolders in experiments\n",
    "\n",
    "print(os.listdir('../24-09-13'))\n",
    "\n",
    "merged = None\n",
    "\n",
    "\n",
    "for seed in SEEDS:\n",
    "    for size in SIZES:\n",
    "        _tmp = pd.read_csv(f'../24-09-13/{seed}/{size}.csv', sep=';')\n",
    "        if merged is None:\n",
    "            merged = _tmp\n",
    "        else:\n",
    "            merged = pd.concat([merged, _tmp])\n",
    "\n",
    "# drop the \"Unnamed: 15\" column\n",
    "merged = merged.drop('Unnamed: 20', axis=1)\n",
    "\n",
    "print(merged.columns) \n",
    "print(merged.shape)\n",
    "\n",
    "        \n",
    "\n"
   ]
  },
  {
   "cell_type": "code",
   "execution_count": 50,
   "metadata": {},
   "outputs": [
    {
     "name": "stdout",
     "output_type": "stream",
     "text": [
      "SEED                               object\n",
      "UNIT                               object\n",
      "UNIT_SIZE                           int64\n",
      "SUMMARY_SIZES                      object\n",
      "WT_SUMMARY_SIZES                   object\n",
      "SUMMARY_TILDE_SIZES                object\n",
      "OLDKER_SIZE                        object\n",
      "WT_OLDKER_SIZE                     object\n",
      "NEWKER_SIZE                         int64\n",
      "WT_NEWKER_SIZE                      int64\n",
      "OLDCORE_SIZE                      float64\n",
      "WT_OLDCORE_SIZE                   float64\n",
      "NEWCORE_SIZE                        int64\n",
      "WT_NEWCORE_SIZE                     int64\n",
      "SUMMARY_COMPUTATION_TIME          float64\n",
      "SUMMARY_TILDE_COMPUTATION_TIME    float64\n",
      "OLDKER_COMPUTATION_TIME            object\n",
      "NEWKER_COMPUTATION_TIME           float64\n",
      "OLDCORE_COMPUTATION_TIME          float64\n",
      "NEWCORE_COMPUTATION_TIME          float64\n",
      "dtype: object\n"
     ]
    }
   ],
   "source": [
    "# print the types of all columns\n",
    "\n",
    "print(merged.dtypes)"
   ]
  },
  {
   "cell_type": "code",
   "execution_count": 54,
   "metadata": {},
   "outputs": [],
   "source": [
    "timeouts = merged[merged['OLDKER_COMPUTATION_TIME'] != 'TIMEOUT']"
   ]
  },
  {
   "cell_type": "code",
   "execution_count": 55,
   "metadata": {},
   "outputs": [],
   "source": [
    "# remove the rows with \"TIMEOUT\" in \"OLDKER_COMPUTATION_TIME\"\n",
    "\n",
    "merged = merged[merged['OLDKER_COMPUTATION_TIME'] != 'TIMEOUT']"
   ]
  },
  {
   "cell_type": "code",
   "execution_count": 56,
   "metadata": {},
   "outputs": [
    {
     "data": {
      "text/html": [
       "<div>\n",
       "<style scoped>\n",
       "    .dataframe tbody tr th:only-of-type {\n",
       "        vertical-align: middle;\n",
       "    }\n",
       "\n",
       "    .dataframe tbody tr th {\n",
       "        vertical-align: top;\n",
       "    }\n",
       "\n",
       "    .dataframe thead th {\n",
       "        text-align: right;\n",
       "    }\n",
       "</style>\n",
       "<table border=\"1\" class=\"dataframe\">\n",
       "  <thead>\n",
       "    <tr style=\"text-align: right;\">\n",
       "      <th></th>\n",
       "      <th>SEED</th>\n",
       "      <th>UNIT</th>\n",
       "      <th>UNIT_SIZE</th>\n",
       "      <th>SUMMARY_SIZES</th>\n",
       "      <th>WT_SUMMARY_SIZES</th>\n",
       "      <th>SUMMARY_TILDE_SIZES</th>\n",
       "      <th>OLDKER_SIZE</th>\n",
       "      <th>WT_OLDKER_SIZE</th>\n",
       "      <th>NEWKER_SIZE</th>\n",
       "      <th>WT_NEWKER_SIZE</th>\n",
       "      <th>OLDCORE_SIZE</th>\n",
       "      <th>WT_OLDCORE_SIZE</th>\n",
       "      <th>NEWCORE_SIZE</th>\n",
       "      <th>WT_NEWCORE_SIZE</th>\n",
       "      <th>SUMMARY_COMPUTATION_TIME</th>\n",
       "      <th>SUMMARY_TILDE_COMPUTATION_TIME</th>\n",
       "      <th>OLDKER_COMPUTATION_TIME</th>\n",
       "      <th>NEWKER_COMPUTATION_TIME</th>\n",
       "      <th>OLDCORE_COMPUTATION_TIME</th>\n",
       "      <th>NEWCORE_COMPUTATION_TIME</th>\n",
       "    </tr>\n",
       "  </thead>\n",
       "  <tbody>\n",
       "    <tr>\n",
       "      <th>0</th>\n",
       "      <td>actor</td>\n",
       "      <td>bn:00915979n,bn:02426205n</td>\n",
       "      <td>2</td>\n",
       "      <td>260,265</td>\n",
       "      <td>519,528</td>\n",
       "      <td>6,12</td>\n",
       "      <td>4</td>\n",
       "      <td>8</td>\n",
       "      <td>4</td>\n",
       "      <td>8</td>\n",
       "      <td>NaN</td>\n",
       "      <td>NaN</td>\n",
       "      <td>255</td>\n",
       "      <td>510</td>\n",
       "      <td>18.28718</td>\n",
       "      <td>166.27281</td>\n",
       "      <td>4.50687</td>\n",
       "      <td>0.47434</td>\n",
       "      <td>NaN</td>\n",
       "      <td>31.17181</td>\n",
       "    </tr>\n",
       "    <tr>\n",
       "      <th>1</th>\n",
       "      <td>actor</td>\n",
       "      <td>bn:15939213n,bn:05144812n</td>\n",
       "      <td>2</td>\n",
       "      <td>257,256</td>\n",
       "      <td>512,512</td>\n",
       "      <td>5,5</td>\n",
       "      <td>4</td>\n",
       "      <td>9</td>\n",
       "      <td>4</td>\n",
       "      <td>9</td>\n",
       "      <td>NaN</td>\n",
       "      <td>NaN</td>\n",
       "      <td>255</td>\n",
       "      <td>511</td>\n",
       "      <td>13.63076</td>\n",
       "      <td>159.66753</td>\n",
       "      <td>2.48905</td>\n",
       "      <td>0.30096</td>\n",
       "      <td>NaN</td>\n",
       "      <td>11.97854</td>\n",
       "    </tr>\n",
       "    <tr>\n",
       "      <th>2</th>\n",
       "      <td>actor</td>\n",
       "      <td>bn:02688185n,bn:05472498n</td>\n",
       "      <td>2</td>\n",
       "      <td>260,256</td>\n",
       "      <td>519,511</td>\n",
       "      <td>8,5</td>\n",
       "      <td>5</td>\n",
       "      <td>10</td>\n",
       "      <td>5</td>\n",
       "      <td>10</td>\n",
       "      <td>NaN</td>\n",
       "      <td>NaN</td>\n",
       "      <td>256</td>\n",
       "      <td>512</td>\n",
       "      <td>17.72649</td>\n",
       "      <td>165.66927</td>\n",
       "      <td>2.10095</td>\n",
       "      <td>0.36817</td>\n",
       "      <td>NaN</td>\n",
       "      <td>13.64912</td>\n",
       "    </tr>\n",
       "    <tr>\n",
       "      <th>3</th>\n",
       "      <td>actor</td>\n",
       "      <td>bn:08476136n,bn:03875359n</td>\n",
       "      <td>2</td>\n",
       "      <td>255,258</td>\n",
       "      <td>510,515</td>\n",
       "      <td>4,7</td>\n",
       "      <td>4</td>\n",
       "      <td>9</td>\n",
       "      <td>4</td>\n",
       "      <td>9</td>\n",
       "      <td>NaN</td>\n",
       "      <td>NaN</td>\n",
       "      <td>255</td>\n",
       "      <td>511</td>\n",
       "      <td>16.19932</td>\n",
       "      <td>165.23915</td>\n",
       "      <td>1.68649</td>\n",
       "      <td>0.30547</td>\n",
       "      <td>NaN</td>\n",
       "      <td>12.06613</td>\n",
       "    </tr>\n",
       "    <tr>\n",
       "      <th>4</th>\n",
       "      <td>actor</td>\n",
       "      <td>bn:03340439n,bn:02366938n</td>\n",
       "      <td>2</td>\n",
       "      <td>259,270</td>\n",
       "      <td>517,538</td>\n",
       "      <td>8,10</td>\n",
       "      <td>6</td>\n",
       "      <td>12</td>\n",
       "      <td>6</td>\n",
       "      <td>12</td>\n",
       "      <td>NaN</td>\n",
       "      <td>NaN</td>\n",
       "      <td>257</td>\n",
       "      <td>514</td>\n",
       "      <td>14.90042</td>\n",
       "      <td>163.00551</td>\n",
       "      <td>15.89545</td>\n",
       "      <td>0.53593</td>\n",
       "      <td>NaN</td>\n",
       "      <td>11.95503</td>\n",
       "    </tr>\n",
       "    <tr>\n",
       "      <th>...</th>\n",
       "      <td>...</td>\n",
       "      <td>...</td>\n",
       "      <td>...</td>\n",
       "      <td>...</td>\n",
       "      <td>...</td>\n",
       "      <td>...</td>\n",
       "      <td>...</td>\n",
       "      <td>...</td>\n",
       "      <td>...</td>\n",
       "      <td>...</td>\n",
       "      <td>...</td>\n",
       "      <td>...</td>\n",
       "      <td>...</td>\n",
       "      <td>...</td>\n",
       "      <td>...</td>\n",
       "      <td>...</td>\n",
       "      <td>...</td>\n",
       "      <td>...</td>\n",
       "      <td>...</td>\n",
       "      <td>...</td>\n",
       "    </tr>\n",
       "    <tr>\n",
       "      <th>9995</th>\n",
       "      <td>video_game</td>\n",
       "      <td>bn:14680116n,bn:15167827n,bn:02922669n,bn:0285...</td>\n",
       "      <td>6</td>\n",
       "      <td>159,151,161,161,163,160</td>\n",
       "      <td>318,302,322,322,326,320</td>\n",
       "      <td>9,1,6,5,13,9</td>\n",
       "      <td>1</td>\n",
       "      <td>3</td>\n",
       "      <td>1</td>\n",
       "      <td>3</td>\n",
       "      <td>NaN</td>\n",
       "      <td>NaN</td>\n",
       "      <td>151</td>\n",
       "      <td>303</td>\n",
       "      <td>30.99152</td>\n",
       "      <td>53.39288</td>\n",
       "      <td>0.08591</td>\n",
       "      <td>1.08446</td>\n",
       "      <td>NaN</td>\n",
       "      <td>37.02958</td>\n",
       "    </tr>\n",
       "    <tr>\n",
       "      <th>9996</th>\n",
       "      <td>video_game</td>\n",
       "      <td>bn:14400546n,bn:21289459n,bn:00766180n,bn:0297...</td>\n",
       "      <td>6</td>\n",
       "      <td>160,154,168,160,156,161</td>\n",
       "      <td>319,308,335,319,312,322</td>\n",
       "      <td>9,4,18,10,6,5</td>\n",
       "      <td>2</td>\n",
       "      <td>5</td>\n",
       "      <td>2</td>\n",
       "      <td>5</td>\n",
       "      <td>NaN</td>\n",
       "      <td>NaN</td>\n",
       "      <td>152</td>\n",
       "      <td>305</td>\n",
       "      <td>42.13533</td>\n",
       "      <td>62.79648</td>\n",
       "      <td>4.91851</td>\n",
       "      <td>1.46194</td>\n",
       "      <td>NaN</td>\n",
       "      <td>31.53840</td>\n",
       "    </tr>\n",
       "    <tr>\n",
       "      <th>9997</th>\n",
       "      <td>video_game</td>\n",
       "      <td>bn:00163243n,bn:01802600n,bn:01178985n,bn:1387...</td>\n",
       "      <td>6</td>\n",
       "      <td>165,158,153,152,156,185</td>\n",
       "      <td>330,316,306,304,312,370</td>\n",
       "      <td>15,8,3,2,6,4</td>\n",
       "      <td>1</td>\n",
       "      <td>3</td>\n",
       "      <td>1</td>\n",
       "      <td>3</td>\n",
       "      <td>NaN</td>\n",
       "      <td>NaN</td>\n",
       "      <td>151</td>\n",
       "      <td>303</td>\n",
       "      <td>54.53325</td>\n",
       "      <td>57.14554</td>\n",
       "      <td>0.0837</td>\n",
       "      <td>1.00288</td>\n",
       "      <td>NaN</td>\n",
       "      <td>32.76456</td>\n",
       "    </tr>\n",
       "    <tr>\n",
       "      <th>9998</th>\n",
       "      <td>video_game</td>\n",
       "      <td>bn:13905103n,bn:16848904n,bn:01599502n,bn:0054...</td>\n",
       "      <td>6</td>\n",
       "      <td>152,151,159,158,163,157</td>\n",
       "      <td>304,302,317,316,325,314</td>\n",
       "      <td>2,1,9,8,12,7</td>\n",
       "      <td>1</td>\n",
       "      <td>3</td>\n",
       "      <td>1</td>\n",
       "      <td>3</td>\n",
       "      <td>NaN</td>\n",
       "      <td>NaN</td>\n",
       "      <td>151</td>\n",
       "      <td>303</td>\n",
       "      <td>35.64004</td>\n",
       "      <td>56.67127</td>\n",
       "      <td>0.86137</td>\n",
       "      <td>1.02951</td>\n",
       "      <td>NaN</td>\n",
       "      <td>30.00838</td>\n",
       "    </tr>\n",
       "    <tr>\n",
       "      <th>9999</th>\n",
       "      <td>video_game</td>\n",
       "      <td>bn:15034097n,bn:03515031n,bn:15918044n,bn:0063...</td>\n",
       "      <td>6</td>\n",
       "      <td>152,170,151,156,156,169</td>\n",
       "      <td>304,340,302,312,312,336</td>\n",
       "      <td>2,7,1,6,6,17</td>\n",
       "      <td>1</td>\n",
       "      <td>3</td>\n",
       "      <td>1</td>\n",
       "      <td>3</td>\n",
       "      <td>NaN</td>\n",
       "      <td>NaN</td>\n",
       "      <td>151</td>\n",
       "      <td>303</td>\n",
       "      <td>40.94818</td>\n",
       "      <td>75.82308</td>\n",
       "      <td>0.87061</td>\n",
       "      <td>1.04098</td>\n",
       "      <td>NaN</td>\n",
       "      <td>30.53518</td>\n",
       "    </tr>\n",
       "  </tbody>\n",
       "</table>\n",
       "<p>699977 rows × 20 columns</p>\n",
       "</div>"
      ],
      "text/plain": [
       "            SEED                                               UNIT  \\\n",
       "0          actor                          bn:00915979n,bn:02426205n   \n",
       "1          actor                          bn:15939213n,bn:05144812n   \n",
       "2          actor                          bn:02688185n,bn:05472498n   \n",
       "3          actor                          bn:08476136n,bn:03875359n   \n",
       "4          actor                          bn:03340439n,bn:02366938n   \n",
       "...          ...                                                ...   \n",
       "9995  video_game  bn:14680116n,bn:15167827n,bn:02922669n,bn:0285...   \n",
       "9996  video_game  bn:14400546n,bn:21289459n,bn:00766180n,bn:0297...   \n",
       "9997  video_game  bn:00163243n,bn:01802600n,bn:01178985n,bn:1387...   \n",
       "9998  video_game  bn:13905103n,bn:16848904n,bn:01599502n,bn:0054...   \n",
       "9999  video_game  bn:15034097n,bn:03515031n,bn:15918044n,bn:0063...   \n",
       "\n",
       "      UNIT_SIZE            SUMMARY_SIZES         WT_SUMMARY_SIZES  \\\n",
       "0             2                  260,265                  519,528   \n",
       "1             2                  257,256                  512,512   \n",
       "2             2                  260,256                  519,511   \n",
       "3             2                  255,258                  510,515   \n",
       "4             2                  259,270                  517,538   \n",
       "...         ...                      ...                      ...   \n",
       "9995          6  159,151,161,161,163,160  318,302,322,322,326,320   \n",
       "9996          6  160,154,168,160,156,161  319,308,335,319,312,322   \n",
       "9997          6  165,158,153,152,156,185  330,316,306,304,312,370   \n",
       "9998          6  152,151,159,158,163,157  304,302,317,316,325,314   \n",
       "9999          6  152,170,151,156,156,169  304,340,302,312,312,336   \n",
       "\n",
       "     SUMMARY_TILDE_SIZES OLDKER_SIZE WT_OLDKER_SIZE  NEWKER_SIZE  \\\n",
       "0                   6,12           4              8            4   \n",
       "1                    5,5           4              9            4   \n",
       "2                    8,5           5             10            5   \n",
       "3                    4,7           4              9            4   \n",
       "4                   8,10           6             12            6   \n",
       "...                  ...         ...            ...          ...   \n",
       "9995        9,1,6,5,13,9           1              3            1   \n",
       "9996       9,4,18,10,6,5           2              5            2   \n",
       "9997        15,8,3,2,6,4           1              3            1   \n",
       "9998        2,1,9,8,12,7           1              3            1   \n",
       "9999        2,7,1,6,6,17           1              3            1   \n",
       "\n",
       "      WT_NEWKER_SIZE  OLDCORE_SIZE  WT_OLDCORE_SIZE  NEWCORE_SIZE  \\\n",
       "0                  8           NaN              NaN           255   \n",
       "1                  9           NaN              NaN           255   \n",
       "2                 10           NaN              NaN           256   \n",
       "3                  9           NaN              NaN           255   \n",
       "4                 12           NaN              NaN           257   \n",
       "...              ...           ...              ...           ...   \n",
       "9995               3           NaN              NaN           151   \n",
       "9996               5           NaN              NaN           152   \n",
       "9997               3           NaN              NaN           151   \n",
       "9998               3           NaN              NaN           151   \n",
       "9999               3           NaN              NaN           151   \n",
       "\n",
       "      WT_NEWCORE_SIZE  SUMMARY_COMPUTATION_TIME  \\\n",
       "0                 510                  18.28718   \n",
       "1                 511                  13.63076   \n",
       "2                 512                  17.72649   \n",
       "3                 511                  16.19932   \n",
       "4                 514                  14.90042   \n",
       "...               ...                       ...   \n",
       "9995              303                  30.99152   \n",
       "9996              305                  42.13533   \n",
       "9997              303                  54.53325   \n",
       "9998              303                  35.64004   \n",
       "9999              303                  40.94818   \n",
       "\n",
       "      SUMMARY_TILDE_COMPUTATION_TIME OLDKER_COMPUTATION_TIME  \\\n",
       "0                          166.27281                 4.50687   \n",
       "1                          159.66753                 2.48905   \n",
       "2                          165.66927                 2.10095   \n",
       "3                          165.23915                 1.68649   \n",
       "4                          163.00551                15.89545   \n",
       "...                              ...                     ...   \n",
       "9995                        53.39288                 0.08591   \n",
       "9996                        62.79648                 4.91851   \n",
       "9997                        57.14554                  0.0837   \n",
       "9998                        56.67127                 0.86137   \n",
       "9999                        75.82308                 0.87061   \n",
       "\n",
       "      NEWKER_COMPUTATION_TIME  OLDCORE_COMPUTATION_TIME  \\\n",
       "0                     0.47434                       NaN   \n",
       "1                     0.30096                       NaN   \n",
       "2                     0.36817                       NaN   \n",
       "3                     0.30547                       NaN   \n",
       "4                     0.53593                       NaN   \n",
       "...                       ...                       ...   \n",
       "9995                  1.08446                       NaN   \n",
       "9996                  1.46194                       NaN   \n",
       "9997                  1.00288                       NaN   \n",
       "9998                  1.02951                       NaN   \n",
       "9999                  1.04098                       NaN   \n",
       "\n",
       "      NEWCORE_COMPUTATION_TIME  \n",
       "0                     31.17181  \n",
       "1                     11.97854  \n",
       "2                     13.64912  \n",
       "3                     12.06613  \n",
       "4                     11.95503  \n",
       "...                        ...  \n",
       "9995                  37.02958  \n",
       "9996                  31.53840  \n",
       "9997                  32.76456  \n",
       "9998                  30.00838  \n",
       "9999                  30.53518  \n",
       "\n",
       "[699977 rows x 20 columns]"
      ]
     },
     "execution_count": 56,
     "metadata": {},
     "output_type": "execute_result"
    }
   ],
   "source": [
    "timeouts"
   ]
  },
  {
   "cell_type": "code",
   "execution_count": 57,
   "metadata": {},
   "outputs": [],
   "source": [
    "# create the column \"OLDKER_COMPUTATION_TIME_FIX\" from \"OLDKER\" the column has to be of type float64\n",
    "\n",
    "merged['OLDKER_COMPUTATION_TIME_FIX'] = merged['OLDKER_COMPUTATION_TIME'].astype('float64')"
   ]
  },
  {
   "cell_type": "code",
   "execution_count": 58,
   "metadata": {},
   "outputs": [],
   "source": [
    "merged['OLDKER_SIZE_FIX'] = merged['OLDKER_SIZE'].astype('int64')"
   ]
  },
  {
   "cell_type": "code",
   "execution_count": 59,
   "metadata": {},
   "outputs": [
    {
     "name": "stdout",
     "output_type": "stream",
     "text": [
      "SEED                               object\n",
      "UNIT                               object\n",
      "UNIT_SIZE                           int64\n",
      "SUMMARY_SIZES                      object\n",
      "WT_SUMMARY_SIZES                   object\n",
      "SUMMARY_TILDE_SIZES                object\n",
      "OLDKER_SIZE                        object\n",
      "WT_OLDKER_SIZE                     object\n",
      "NEWKER_SIZE                         int64\n",
      "WT_NEWKER_SIZE                      int64\n",
      "OLDCORE_SIZE                      float64\n",
      "WT_OLDCORE_SIZE                   float64\n",
      "NEWCORE_SIZE                        int64\n",
      "WT_NEWCORE_SIZE                     int64\n",
      "SUMMARY_COMPUTATION_TIME          float64\n",
      "SUMMARY_TILDE_COMPUTATION_TIME    float64\n",
      "OLDKER_COMPUTATION_TIME            object\n",
      "NEWKER_COMPUTATION_TIME           float64\n",
      "OLDCORE_COMPUTATION_TIME          float64\n",
      "NEWCORE_COMPUTATION_TIME          float64\n",
      "OLDKER_COMPUTATION_TIME_FIX       float64\n",
      "OLDKER_SIZE_FIX                     int64\n",
      "dtype: object\n"
     ]
    }
   ],
   "source": [
    "print(merged.dtypes)"
   ]
  },
  {
   "cell_type": "code",
   "execution_count": 60,
   "metadata": {},
   "outputs": [
    {
     "name": "stdout",
     "output_type": "stream",
     "text": [
      "(699977, 22)\n"
     ]
    }
   ],
   "source": [
    "# PRINT the shape of the dataframe  \n",
    "\n",
    "print(merged.shape)"
   ]
  },
  {
   "cell_type": "code",
   "execution_count": 61,
   "metadata": {},
   "outputs": [],
   "source": [
    "# drop the column \"OLDKER_COMPUTATION_TIME\"\n",
    "\n",
    "merged = merged.drop('OLDKER_COMPUTATION_TIME', axis=1)\n",
    "merged = merged.drop('OLDKER_SIZE', axis=1)"
   ]
  },
  {
   "cell_type": "code",
   "execution_count": 62,
   "metadata": {},
   "outputs": [],
   "source": [
    "# drop the columns \"OLDCORE_SIZE\" and \"OLDCORE_COMPUTATION_TIME\"\n",
    "\n",
    "merged = merged.drop('OLDCORE_SIZE', axis=1)\n",
    "merged = merged.drop('OLDCORE_COMPUTATION_TIME', axis=1)"
   ]
  },
  {
   "cell_type": "code",
   "execution_count": 63,
   "metadata": {},
   "outputs": [],
   "source": [
    "# create the column \"SUMMARY_OLDKER_COMPUTATION_TIME\" as the sum of \"OLDKER_COMPUTATION_TIME_FIX\" and \"SUMMARY_TILDE_COMPUTATION_TIME\"\n",
    "\n",
    "merged['SUMMARY_OLDKER_COMPUTATION_TIME'] = merged['OLDKER_COMPUTATION_TIME_FIX'] + merged['SUMMARY_TILDE_COMPUTATION_TIME']\n"
   ]
  },
  {
   "cell_type": "code",
   "execution_count": 64,
   "metadata": {},
   "outputs": [
    {
     "name": "stdout",
     "output_type": "stream",
     "text": [
      "59559.0483\n"
     ]
    }
   ],
   "source": [
    "# print the max of \"SUMMARY_OLDKER_COMPUTATION_TIME\"\n",
    "\n",
    "print(merged['SUMMARY_OLDKER_COMPUTATION_TIME'].max())"
   ]
  },
  {
   "cell_type": "code",
   "execution_count": 65,
   "metadata": {},
   "outputs": [
    {
     "name": "stdout",
     "output_type": "stream",
     "text": [
      "      OLDKER_COMPUTATION_TIME_FIX  SUMMARY_TILDE_COMPUTATION_TIME\n",
      "4090                  59468.85897                        90.18933\n"
     ]
    }
   ],
   "source": [
    "# print the values of \"OLDKER_COMPUTATION_TIME_FIX\" and \"SUMMARY_TILDE_COMPUTATION_TIME\" corresponding to the max of \"SUMMARY_OLDKER_COMPUTATION_TIME\"\n",
    "\n",
    "print(merged[merged['SUMMARY_OLDKER_COMPUTATION_TIME'] == merged['SUMMARY_OLDKER_COMPUTATION_TIME'].max()][['OLDKER_COMPUTATION_TIME_FIX', 'SUMMARY_TILDE_COMPUTATION_TIME']])"
   ]
  },
  {
   "cell_type": "code",
   "execution_count": 66,
   "metadata": {},
   "outputs": [],
   "source": [
    "# create the column \"SUMMARY_NEWKER_COMPUTATION_TIME\" as the sum of \"NEWKER_COMPUTATION_TIME\" and \"SUMMARY_TILDE_COMPUTATION_TIME\"\n",
    "\n",
    "merged['SUMMARY_NEWKER_COMPUTATION_TIME'] = merged['NEWKER_COMPUTATION_TIME'] + merged['SUMMARY_TILDE_COMPUTATION_TIME']"
   ]
  },
  {
   "cell_type": "code",
   "execution_count": 67,
   "metadata": {},
   "outputs": [
    {
     "name": "stdout",
     "output_type": "stream",
     "text": [
      "718.92684\n"
     ]
    }
   ],
   "source": [
    "# print the max of \"SUMMARY_NEWKER_COMPUTATION_TIME\"\n",
    "\n",
    "print(merged['SUMMARY_NEWKER_COMPUTATION_TIME'].max())"
   ]
  },
  {
   "cell_type": "code",
   "execution_count": 68,
   "metadata": {},
   "outputs": [
    {
     "name": "stdout",
     "output_type": "stream",
     "text": [
      "      NEWKER_COMPUTATION_TIME  SUMMARY_TILDE_COMPUTATION_TIME\n",
      "9931                  0.19759                       718.72925\n"
     ]
    }
   ],
   "source": [
    "# print the values of \"NEWKER_COMPUTATION_TIME\" and \"SUMMARY_TILDE_COMPUTATION_TIME\" corresponding to the max of \"SUMMARY_NEWKER_COMPUTATION_TIME\"\n",
    "\n",
    "print(merged[merged['SUMMARY_NEWKER_COMPUTATION_TIME'] == merged['SUMMARY_NEWKER_COMPUTATION_TIME'].max()][['NEWKER_COMPUTATION_TIME', 'SUMMARY_TILDE_COMPUTATION_TIME']])"
   ]
  },
  {
   "cell_type": "code",
   "execution_count": 69,
   "metadata": {},
   "outputs": [],
   "source": [
    "# create the column \"SUMMARY_NEWCORE_COMPUTATION_TIME\" as the sum of \"NEWCORE_COMPUTATION_TIME\" and \"SUMMARY_COMPUTATION_TIME\"\n",
    "\n",
    "merged['SUMMARY_NEWCORE_COMPUTATION_TIME'] = merged['NEWCORE_COMPUTATION_TIME'] + merged['SUMMARY_COMPUTATION_TIME']"
   ]
  },
  {
   "cell_type": "code",
   "execution_count": 70,
   "metadata": {},
   "outputs": [
    {
     "name": "stdout",
     "output_type": "stream",
     "text": [
      "815.25427\n"
     ]
    }
   ],
   "source": [
    "# print the max of \"SUMMARY_NEWCORE_COMPUTATION_TIME\"\n",
    "\n",
    "print(merged['SUMMARY_NEWCORE_COMPUTATION_TIME'].max())"
   ]
  },
  {
   "cell_type": "code",
   "execution_count": 71,
   "metadata": {},
   "outputs": [
    {
     "name": "stdout",
     "output_type": "stream",
     "text": [
      "      NEWCORE_COMPUTATION_TIME  SUMMARY_COMPUTATION_TIME\n",
      "8860                 781.40134                  33.85293\n"
     ]
    }
   ],
   "source": [
    "# print the values of \"NEWCORE_COMPUTATION_TIME\" and \"SUMMARY_COMPUTATION_TIME\" corresponding to the max of \"SUMMARY_NEWCORE_COMPUTATION_TIME\"\n",
    "\n",
    "print(merged[merged['SUMMARY_NEWCORE_COMPUTATION_TIME'] == merged['SUMMARY_NEWCORE_COMPUTATION_TIME'].max()][['NEWCORE_COMPUTATION_TIME', 'SUMMARY_COMPUTATION_TIME']])"
   ]
  },
  {
   "cell_type": "markdown",
   "metadata": {},
   "source": [
    "## Algorithm Correctness"
   ]
  },
  {
   "cell_type": "markdown",
   "metadata": {},
   "source": [
    "### Timeout reporting:"
   ]
  },
  {
   "cell_type": "code",
   "execution_count": 72,
   "metadata": {},
   "outputs": [
    {
     "ename": "KeyError",
     "evalue": "'OLDKER_SIZE'",
     "output_type": "error",
     "traceback": [
      "\u001b[0;31m---------------------------------------------------------------------------\u001b[0m",
      "\u001b[0;31mKeyError\u001b[0m                                  Traceback (most recent call last)",
      "File \u001b[0;32m~/git/neXSim-core-ker-experiments/venv/lib/python3.10/site-packages/pandas/core/indexes/base.py:3805\u001b[0m, in \u001b[0;36mIndex.get_loc\u001b[0;34m(self, key)\u001b[0m\n\u001b[1;32m   3804\u001b[0m \u001b[38;5;28;01mtry\u001b[39;00m:\n\u001b[0;32m-> 3805\u001b[0m     \u001b[38;5;28;01mreturn\u001b[39;00m \u001b[38;5;28;43mself\u001b[39;49m\u001b[38;5;241;43m.\u001b[39;49m\u001b[43m_engine\u001b[49m\u001b[38;5;241;43m.\u001b[39;49m\u001b[43mget_loc\u001b[49m\u001b[43m(\u001b[49m\u001b[43mcasted_key\u001b[49m\u001b[43m)\u001b[49m\n\u001b[1;32m   3806\u001b[0m \u001b[38;5;28;01mexcept\u001b[39;00m \u001b[38;5;167;01mKeyError\u001b[39;00m \u001b[38;5;28;01mas\u001b[39;00m err:\n",
      "File \u001b[0;32mindex.pyx:167\u001b[0m, in \u001b[0;36mpandas._libs.index.IndexEngine.get_loc\u001b[0;34m()\u001b[0m\n",
      "File \u001b[0;32mindex.pyx:196\u001b[0m, in \u001b[0;36mpandas._libs.index.IndexEngine.get_loc\u001b[0;34m()\u001b[0m\n",
      "File \u001b[0;32mpandas/_libs/hashtable_class_helper.pxi:7081\u001b[0m, in \u001b[0;36mpandas._libs.hashtable.PyObjectHashTable.get_item\u001b[0;34m()\u001b[0m\n",
      "File \u001b[0;32mpandas/_libs/hashtable_class_helper.pxi:7089\u001b[0m, in \u001b[0;36mpandas._libs.hashtable.PyObjectHashTable.get_item\u001b[0;34m()\u001b[0m\n",
      "\u001b[0;31mKeyError\u001b[0m: 'OLDKER_SIZE'",
      "\nThe above exception was the direct cause of the following exception:\n",
      "\u001b[0;31mKeyError\u001b[0m                                  Traceback (most recent call last)",
      "Cell \u001b[0;32mIn[72], line 2\u001b[0m\n\u001b[1;32m      1\u001b[0m \u001b[38;5;66;03m# count the number of \"TIMEOUT\" in \"OLDKER_SIZE\" column\u001b[39;00m\n\u001b[0;32m----> 2\u001b[0m \u001b[38;5;28mprint\u001b[39m(merged[\u001b[43mmerged\u001b[49m\u001b[43m[\u001b[49m\u001b[38;5;124;43m'\u001b[39;49m\u001b[38;5;124;43mOLDKER_SIZE\u001b[39;49m\u001b[38;5;124;43m'\u001b[39;49m\u001b[43m]\u001b[49m \u001b[38;5;241m==\u001b[39m \u001b[38;5;124m'\u001b[39m\u001b[38;5;124mTIMEOUT\u001b[39m\u001b[38;5;124m'\u001b[39m]\u001b[38;5;241m.\u001b[39mshape[\u001b[38;5;241m0\u001b[39m])\n",
      "File \u001b[0;32m~/git/neXSim-core-ker-experiments/venv/lib/python3.10/site-packages/pandas/core/frame.py:4102\u001b[0m, in \u001b[0;36mDataFrame.__getitem__\u001b[0;34m(self, key)\u001b[0m\n\u001b[1;32m   4100\u001b[0m \u001b[38;5;28;01mif\u001b[39;00m \u001b[38;5;28mself\u001b[39m\u001b[38;5;241m.\u001b[39mcolumns\u001b[38;5;241m.\u001b[39mnlevels \u001b[38;5;241m>\u001b[39m \u001b[38;5;241m1\u001b[39m:\n\u001b[1;32m   4101\u001b[0m     \u001b[38;5;28;01mreturn\u001b[39;00m \u001b[38;5;28mself\u001b[39m\u001b[38;5;241m.\u001b[39m_getitem_multilevel(key)\n\u001b[0;32m-> 4102\u001b[0m indexer \u001b[38;5;241m=\u001b[39m \u001b[38;5;28;43mself\u001b[39;49m\u001b[38;5;241;43m.\u001b[39;49m\u001b[43mcolumns\u001b[49m\u001b[38;5;241;43m.\u001b[39;49m\u001b[43mget_loc\u001b[49m\u001b[43m(\u001b[49m\u001b[43mkey\u001b[49m\u001b[43m)\u001b[49m\n\u001b[1;32m   4103\u001b[0m \u001b[38;5;28;01mif\u001b[39;00m is_integer(indexer):\n\u001b[1;32m   4104\u001b[0m     indexer \u001b[38;5;241m=\u001b[39m [indexer]\n",
      "File \u001b[0;32m~/git/neXSim-core-ker-experiments/venv/lib/python3.10/site-packages/pandas/core/indexes/base.py:3812\u001b[0m, in \u001b[0;36mIndex.get_loc\u001b[0;34m(self, key)\u001b[0m\n\u001b[1;32m   3807\u001b[0m     \u001b[38;5;28;01mif\u001b[39;00m \u001b[38;5;28misinstance\u001b[39m(casted_key, \u001b[38;5;28mslice\u001b[39m) \u001b[38;5;129;01mor\u001b[39;00m (\n\u001b[1;32m   3808\u001b[0m         \u001b[38;5;28misinstance\u001b[39m(casted_key, abc\u001b[38;5;241m.\u001b[39mIterable)\n\u001b[1;32m   3809\u001b[0m         \u001b[38;5;129;01mand\u001b[39;00m \u001b[38;5;28many\u001b[39m(\u001b[38;5;28misinstance\u001b[39m(x, \u001b[38;5;28mslice\u001b[39m) \u001b[38;5;28;01mfor\u001b[39;00m x \u001b[38;5;129;01min\u001b[39;00m casted_key)\n\u001b[1;32m   3810\u001b[0m     ):\n\u001b[1;32m   3811\u001b[0m         \u001b[38;5;28;01mraise\u001b[39;00m InvalidIndexError(key)\n\u001b[0;32m-> 3812\u001b[0m     \u001b[38;5;28;01mraise\u001b[39;00m \u001b[38;5;167;01mKeyError\u001b[39;00m(key) \u001b[38;5;28;01mfrom\u001b[39;00m \u001b[38;5;21;01merr\u001b[39;00m\n\u001b[1;32m   3813\u001b[0m \u001b[38;5;28;01mexcept\u001b[39;00m \u001b[38;5;167;01mTypeError\u001b[39;00m:\n\u001b[1;32m   3814\u001b[0m     \u001b[38;5;66;03m# If we have a listlike key, _check_indexing_error will raise\u001b[39;00m\n\u001b[1;32m   3815\u001b[0m     \u001b[38;5;66;03m#  InvalidIndexError. Otherwise we fall through and re-raise\u001b[39;00m\n\u001b[1;32m   3816\u001b[0m     \u001b[38;5;66;03m#  the TypeError.\u001b[39;00m\n\u001b[1;32m   3817\u001b[0m     \u001b[38;5;28mself\u001b[39m\u001b[38;5;241m.\u001b[39m_check_indexing_error(key)\n",
      "\u001b[0;31mKeyError\u001b[0m: 'OLDKER_SIZE'"
     ]
    }
   ],
   "source": [
    "# count the number of \"TIMEOUT\" in \"OLDKER_SIZE\" column\n",
    "print(merged[merged['OLDKER_SIZE'] == 'TIMEOUT'].shape[0])"
   ]
  },
  {
   "cell_type": "code",
   "execution_count": 6,
   "metadata": {},
   "outputs": [
    {
     "name": "stdout",
     "output_type": "stream",
     "text": [
      "0\n"
     ]
    }
   ],
   "source": [
    "# count the number of \"TIMEOUT\" in \"NEWCORE_SIZE\" column\n",
    "print(merged[merged['NEWCORE_SIZE'] == 'TIMEOUT'].shape[0])"
   ]
  },
  {
   "cell_type": "code",
   "execution_count": 7,
   "metadata": {},
   "outputs": [
    {
     "name": "stdout",
     "output_type": "stream",
     "text": [
      "0\n"
     ]
    }
   ],
   "source": [
    "# count the number of \"TIMEOUT\" in \"NEWKER_SIZE\" column\n",
    "print(merged[merged['NEWKER_SIZE'] == 'TIMEOUT'].shape[0])"
   ]
  },
  {
   "cell_type": "code",
   "execution_count": 79,
   "metadata": {},
   "outputs": [
    {
     "name": "stdout",
     "output_type": "stream",
     "text": [
      "      UNIT_SIZE                       UNIT              SEED\n",
      "2762          2  bn:02402803n,bn:03446916n    amusement_park\n",
      "3892          2  bn:03085743n,bn:02402803n    amusement_park\n",
      "4760          2  bn:02402803n,bn:02898004n    amusement_park\n",
      "8859          2  bn:03444592n,bn:03284442n    amusement_park\n",
      "9220          2  bn:02402803n,bn:03444640n    amusement_park\n",
      "9930          2  bn:01278444n,bn:03446933n    amusement_park\n",
      "550           2  bn:02433103n,bn:00006908n  chemical_element\n",
      "3636          2  bn:00006872n,bn:00049739n  chemical_element\n",
      "7571          2  bn:00049739n,bn:00006881n  chemical_element\n",
      "8613          2  bn:15586463n,bn:00006905n  chemical_element\n",
      "3554          2  bn:16092513n,bn:15159811n              film\n",
      "3659          2  bn:14496655n,bn:16572511n              film\n",
      "6241          2  bn:03515773n,bn:05773657n              film\n",
      "9160          2  bn:03756889n,bn:03745983n              film\n"
     ]
    }
   ],
   "source": [
    "# print the units with TIMEOUT in \"OLDKER_SIZE\"\n",
    "\n",
    "timeout_df =merged[merged['OLDKER_SIZE'] == 'TIMEOUT']\n",
    "\n",
    "# PROJECT TMP over the columns 'UNIT_SIZE', 'UNIT', 'SEED'\n",
    "\n",
    "print(timeout_df[['UNIT_SIZE', 'UNIT', 'SEED']])\n",
    "\n",
    "\n",
    "save_path = 'stats/timeout_df.csv'\n",
    "\n",
    "timeout_df.to_csv(save_path, index=True)\n",
    "\n"
   ]
  },
  {
   "cell_type": "code",
   "execution_count": 80,
   "metadata": {},
   "outputs": [
    {
     "name": "stdout",
     "output_type": "stream",
     "text": [
      "True\n",
      "699986\n"
     ]
    }
   ],
   "source": [
    "# Check if whether there is no timeout, the output size of the two algorithms coincide.\n",
    "\n",
    "_no_timeout = merged[(merged['OLDKER_SIZE'] != 'TIMEOUT') & (merged['NEWKER_SIZE'] != 'TIMEOUT')]\n",
    "\n",
    "_no_timeout.loc[:, 'OLDKER_SIZE'] = _no_timeout.loc[:, 'OLDKER_SIZE'].astype(np.int64)\n",
    "\n",
    "\n",
    "print((_no_timeout['OLDKER_SIZE'] == _no_timeout['NEWKER_SIZE']).all())\n",
    "\n",
    "print(_no_timeout.shape[0])\n"
   ]
  },
  {
   "cell_type": "markdown",
   "metadata": {},
   "source": [
    "## Overall Size statistics"
   ]
  },
  {
   "cell_type": "code",
   "execution_count": 73,
   "metadata": {},
   "outputs": [],
   "source": [
    "# Compute core/ker ratio\n",
    "\n",
    "merged['CORE_KER_RATIO'] = merged['NEWCORE_SIZE'] / merged['NEWKER_SIZE']\n"
   ]
  },
  {
   "cell_type": "code",
   "execution_count": 94,
   "metadata": {},
   "outputs": [
    {
     "name": "stdout",
     "output_type": "stream",
     "text": [
      "count    699977.000000\n",
      "mean         73.212644\n",
      "std          48.297863\n",
      "min           3.285714\n",
      "5%            9.500000\n",
      "25%          40.000000\n",
      "50%          60.000000\n",
      "75%         121.000000\n",
      "95%         161.000000\n",
      "99%         195.000000\n",
      "max         268.000000\n",
      "Name: CORE_KER_RATIO, dtype: float64\n"
     ]
    }
   ],
   "source": [
    "# Compute statistics for the core/ker ratio\n",
    "\n",
    "_tmp = merged['CORE_KER_RATIO'].describe(percentiles=[.05, .25, .5, .75, .95, .99])\n",
    "\n",
    "# print the statistics on file\n",
    "\n",
    "print(_tmp)\n",
    "\n",
    "save_path = 'stats/overall/core_ker_size_ratio_stats.csv'\n",
    "\n",
    "_tmp.to_csv(save_path, index=True)\n"
   ]
  },
  {
   "cell_type": "code",
   "execution_count": 93,
   "metadata": {},
   "outputs": [
    {
     "name": "stdout",
     "output_type": "stream",
     "text": [
      "count    699977.000000\n",
      "mean          2.657266\n",
      "std           1.978247\n",
      "min           1.000000\n",
      "5%            1.000000\n",
      "25%           1.000000\n",
      "50%           2.000000\n",
      "75%           3.000000\n",
      "95%           6.000000\n",
      "99%           9.000000\n",
      "max          29.000000\n",
      "Name: NEWKER_SIZE, dtype: float64\n"
     ]
    }
   ],
   "source": [
    "# statistics for \"KER\"\n",
    "\n",
    "_tmp = merged['NEWKER_SIZE'].describe(percentiles=[.05, .25, .5, .75, .95, .99])\n",
    "\n",
    "print(_tmp)\n",
    "\n",
    "save_path = 'stats/overall/ker_size_stats.csv'\n",
    "_tmp.to_csv(save_path, index=True)\n"
   ]
  },
  {
   "cell_type": "code",
   "execution_count": 92,
   "metadata": {},
   "outputs": [
    {
     "name": "stdout",
     "output_type": "stream",
     "text": [
      "count    699977.000000\n",
      "mean        143.406343\n",
      "std          80.258405\n",
      "min          18.000000\n",
      "5%           35.000000\n",
      "25%          86.000000\n",
      "50%         127.000000\n",
      "75%         192.000000\n",
      "95%         314.000000\n",
      "99%         314.000000\n",
      "max         345.000000\n",
      "Name: NEWCORE_SIZE, dtype: float64\n"
     ]
    }
   ],
   "source": [
    "# statistics for \"CORE\"\n",
    "\n",
    "_tmp = merged['NEWCORE_SIZE'].describe(percentiles=[.05, .25, .5, .75, .95, .99])\n",
    "\n",
    "print(_tmp)\n",
    "\n",
    "save_path = 'stats/overall/core_size_stats.csv'\n",
    "\n",
    "_tmp.to_csv(save_path, index=True)\n"
   ]
  },
  {
   "cell_type": "markdown",
   "metadata": {},
   "source": [
    "## Grouped by cardinality and seed size statistics"
   ]
  },
  {
   "cell_type": "code",
   "execution_count": 80,
   "metadata": {},
   "outputs": [
    {
     "name": "stdout",
     "output_type": "stream",
     "text": [
      "              count       mean        std       min         5%        25%  \\\n",
      "UNIT_SIZE                                                                   \n",
      "2          139984.0  61.932737  43.723181  3.285714   9.000000  33.000000   \n",
      "3          140000.0  69.693693  47.161328  3.733333   9.000000  38.800000   \n",
      "4          140000.0  74.645606  48.545289  3.733333  10.000000  42.166667   \n",
      "5          140000.0  78.408711  49.356857  3.733333  11.666667  50.400000   \n",
      "6          139993.0  81.381591  49.994056  4.363636  11.666667  51.200000   \n",
      "\n",
      "                 50%         75%    95%    99%    max  \n",
      "UNIT_SIZE                                              \n",
      "2          52.333333   64.000000  151.0  195.0  268.0  \n",
      "3          59.500000   84.666667  161.0  195.0  254.0  \n",
      "4          62.000000  121.000000  161.0  195.0  254.0  \n",
      "5          62.600000  121.000000  161.0  195.0  253.0  \n",
      "6          63.500000  122.000000  161.0  195.0  252.0  \n"
     ]
    }
   ],
   "source": [
    "# Core/Ker ratio for each \"unit_size\"\n",
    "\n",
    "_tmp = merged.groupby('UNIT_SIZE')['CORE_KER_RATIO'].describe(percentiles=[.05, .25, .5, .75, .95, .99])\n",
    "\n",
    "print(_tmp)\n",
    "\n",
    "save_path = 'stats/by_size/core_ker_size_ratio.csv'\n",
    "\n",
    "_tmp.to_csv(save_path, index=True)\n"
   ]
  },
  {
   "cell_type": "code",
   "execution_count": 81,
   "metadata": {},
   "outputs": [
    {
     "name": "stdout",
     "output_type": "stream",
     "text": [
      "                    count        mean        std        min         5%  \\\n",
      "SEED                                                                     \n",
      "actor             50000.0   85.097022  45.346923  26.100000  51.200000   \n",
      "amusement_park    49994.0   70.671613  27.144074   8.294118  40.000000   \n",
      "band              50000.0   83.071552  31.244486  18.125000  41.666667   \n",
      "championship      50000.0   87.693542  32.375529  15.222222  47.333333   \n",
      "chemical_element  49996.0   26.703400   9.092686   3.500000  17.093750   \n",
      "company           50000.0  142.149533  61.048406  23.222222  48.500000   \n",
      "comune            50000.0   53.599131   5.683552  35.222222  52.333333   \n",
      "dialect           50000.0  100.458998  29.522201  10.863636  54.333333   \n",
      "film              49989.0   15.134133   9.404836   3.285714   6.333333   \n",
      "scientist         50000.0   83.664947  43.826150  14.777778  36.285714   \n",
      "sculpture         49998.0   22.228851  16.558436   3.714286   5.375000   \n",
      "university        50000.0  115.580357  35.211313  16.666667  47.000000   \n",
      "vehicle           50000.0   54.913288  12.415374   7.210526  20.333333   \n",
      "video_game        50000.0   83.991804  51.232279  12.538462  26.000000   \n",
      "\n",
      "                        25%         50%         75%    95%    99%    max  \n",
      "SEED                                                                      \n",
      "actor             63.750000   63.750000   84.666667  252.0  252.0  256.0  \n",
      "amusement_park    59.500000   59.500000   60.000000  118.0  118.0  138.0  \n",
      "band              62.000000   62.000000  122.000000  122.0  122.0  130.0  \n",
      "championship      63.500000   63.500000  126.000000  126.0  127.0  128.0  \n",
      "chemical_element  19.000000   20.000000   36.000000   37.0   40.0  110.0  \n",
      "company           64.000000  195.000000  195.000000  195.0  195.0  263.0  \n",
      "comune            52.333333   52.333333   52.333333   62.6   78.0  155.0  \n",
      "dialect           80.500000  121.000000  121.000000  122.0  122.0  122.0  \n",
      "film               9.000000   11.666667   17.000000   33.0   33.0  231.0  \n",
      "scientist         50.400000   62.750000  124.500000  161.0  161.0  214.0  \n",
      "sculpture          6.428571   21.750000   28.666667   58.5   59.0  268.0  \n",
      "university        70.000000  139.000000  139.000000  139.0  139.0  200.0  \n",
      "vehicle           58.000000   58.000000   59.000000   61.0   70.5  167.0  \n",
      "video_game        38.500000   76.000000  151.000000  151.0  151.0  153.0  \n"
     ]
    }
   ],
   "source": [
    "# Core/Ker ratio for each \"seed\"\n",
    "\n",
    "_tmp = merged.groupby('SEED')['CORE_KER_RATIO'].describe(percentiles=[.05, .25, .5, .75, .95, .99])\n",
    "\n",
    "print(_tmp)\n",
    "\n",
    "save_path = 'stats/by_seed/core_ker_size_ratio.csv'\n",
    "\n",
    "_tmp.to_csv(save_path, index=True)\n"
   ]
  },
  {
   "cell_type": "code",
   "execution_count": 83,
   "metadata": {},
   "outputs": [
    {
     "name": "stdout",
     "output_type": "stream",
     "text": [
      "                              count        mean        std        min  \\\n",
      "UNIT_SIZE SEED                                                          \n",
      "2         actor             10000.0   67.106806  31.764083  26.100000   \n",
      "          amusement_park     9994.0   60.700084  23.877044   8.294118   \n",
      "          band              10000.0   67.718265  28.196042  18.125000   \n",
      "          championship      10000.0   71.805402  29.978506  15.222222   \n",
      "          chemical_element   9996.0   24.453151   9.602260   3.500000   \n",
      "...                             ...         ...        ...        ...   \n",
      "6         scientist         10000.0  103.240601  42.207077  31.875000   \n",
      "          sculpture          9998.0   18.586286  13.313449   4.363636   \n",
      "          university        10000.0  129.277900  24.414014  47.000000   \n",
      "          vehicle           10000.0   57.722104   4.325985   7.823529   \n",
      "          video_game        10000.0  104.638929  48.035440  22.428571   \n",
      "\n",
      "                                   5%         25%         50%         75%  \\\n",
      "UNIT_SIZE SEED                                                              \n",
      "2         actor             42.833333   51.200000   63.750000   63.750000   \n",
      "          amusement_park    40.000000   40.000000   59.500000   59.500000   \n",
      "          band              41.666667   41.666667   62.000000   62.000000   \n",
      "          championship      32.250000   63.500000   63.500000   64.000000   \n",
      "          chemical_element  13.000000   19.000000   20.000000   28.000000   \n",
      "...                               ...         ...         ...         ...   \n",
      "6         scientist         50.400000   62.750000   83.333333  161.000000   \n",
      "          sculpture          5.375000    6.000000   18.000000   28.666667   \n",
      "          university        70.000000  139.000000  139.000000  139.000000   \n",
      "          vehicle           58.000000   58.000000   58.000000   58.000000   \n",
      "          video_game        38.500000   51.000000  151.000000  151.000000   \n",
      "\n",
      "                              95%         99%    max  \n",
      "UNIT_SIZE SEED                                        \n",
      "2         actor             126.5  252.000000  256.0  \n",
      "          amusement_park    118.0  119.000000  138.0  \n",
      "          band              122.0  122.000000  130.0  \n",
      "          championship      126.0  127.000000  128.0  \n",
      "          chemical_element   40.0   49.508333  110.0  \n",
      "...                           ...         ...    ...  \n",
      "6         scientist         161.0  161.000000  161.0  \n",
      "          sculpture          42.5   58.500000  116.0  \n",
      "          university        139.0  139.000000  139.0  \n",
      "          vehicle            59.0   61.000000   71.0  \n",
      "          video_game        151.0  151.000000  151.0  \n",
      "\n",
      "[70 rows x 11 columns]\n"
     ]
    }
   ],
   "source": [
    "# Core/Ker ratio for each \"unit_size\" and \"seed\"\n",
    "\n",
    "_tmp = merged.groupby(['UNIT_SIZE', 'SEED'])['CORE_KER_RATIO'].describe(percentiles=[.05, .25, .5, .75, .95, .99])\n",
    "\n",
    "print(_tmp)\n",
    "\n",
    "save_path = 'stats/by_seed_and_size/core_ker_size_ratio.csv'\n",
    "\n",
    "_tmp.to_csv(save_path, index=True)"
   ]
  },
  {
   "cell_type": "code",
   "execution_count": 84,
   "metadata": {},
   "outputs": [
    {
     "name": "stdout",
     "output_type": "stream",
     "text": [
      "              count        mean        std   min    5%    25%    50%    75%  \\\n",
      "UNIT_SIZE                                                                     \n",
      "2          139984.0  149.946458  78.458885  18.0  37.0  118.0  133.0  195.0   \n",
      "3          140000.0  144.515929  79.925789  18.0  36.0   86.0  127.0  195.0   \n",
      "4          140000.0  142.162971  80.616371  18.0  35.0   85.0  126.0  192.0   \n",
      "5          140000.0  140.747757  80.861059  18.0  35.0   82.0  126.0  192.0   \n",
      "6          139993.0  139.659162  80.988407  18.0  34.0   59.0  126.0  192.0   \n",
      "\n",
      "             95%    99%    max  \n",
      "UNIT_SIZE                       \n",
      "2          314.0  314.0  345.0  \n",
      "3          314.0  314.0  339.0  \n",
      "4          314.0  314.0  315.0  \n",
      "5          314.0  314.0  315.0  \n",
      "6          314.0  314.0  315.0  \n"
     ]
    }
   ],
   "source": [
    "# Core size by \"unit_size\"\n",
    "\n",
    "_tmp = merged.groupby('UNIT_SIZE')['NEWCORE_SIZE'].describe(percentiles=[.05, .25, .5, .75, .95, .99])\n",
    "\n",
    "print(_tmp)\n",
    "\n",
    "save_path = 'stats/by_size/core_size.csv'\n",
    "\n",
    "_tmp.to_csv(save_path, index=True)\n"
   ]
  },
  {
   "cell_type": "code",
   "execution_count": 85,
   "metadata": {},
   "outputs": [
    {
     "name": "stdout",
     "output_type": "stream",
     "text": [
      "                    count        mean        std    min     5%    25%    50%  \\\n",
      "SEED                                                                           \n",
      "actor             50000.0  254.518840   1.194535  252.0  252.0  254.0  255.0   \n",
      "amusement_park    49994.0  119.265512   5.831431  118.0  118.0  119.0  119.0   \n",
      "band              50000.0  123.444520   2.779704  122.0  122.0  122.0  124.0   \n",
      "championship      50000.0  127.770200   7.617107  126.0  126.0  126.0  127.0   \n",
      "chemical_element  49996.0   44.203916  19.936316   36.0   36.0   37.0   38.0   \n",
      "company           50000.0  192.007120  14.124459  163.0  163.0  192.0  195.0   \n",
      "comune            50000.0  313.902740   0.473334  310.0  313.0  314.0  314.0   \n",
      "dialect           50000.0  134.466420  20.009618  121.0  121.0  121.0  121.0   \n",
      "film              49989.0   39.088519  20.165378   33.0   33.0   34.0   35.0   \n",
      "scientist         50000.0  234.205520  36.025334  161.0  161.0  249.0  251.0   \n",
      "sculpture         49998.0   70.468499  31.672125   18.0   19.0   47.0   85.0   \n",
      "university        50000.0  139.509800   2.521482  139.0  139.0  139.0  139.0   \n",
      "vehicle           50000.0   61.980460  16.091240   58.0   58.0   58.0   58.0   \n",
      "video_game        50000.0  152.820040   2.079563  151.0  151.0  151.0  152.0   \n",
      "\n",
      "                    75%    95%    99%    max  \n",
      "SEED                                          \n",
      "actor             255.0  256.0  257.0  305.0  \n",
      "amusement_park    119.0  120.0  121.0  339.0  \n",
      "band              124.0  125.0  126.0  267.0  \n",
      "championship      127.0  129.0  149.0  254.0  \n",
      "chemical_element   40.0   84.0  135.0  330.0  \n",
      "company           195.0  197.0  234.0  345.0  \n",
      "comune            314.0  314.0  315.0  341.0  \n",
      "dialect           162.0  166.0  173.0  257.0  \n",
      "film               36.0   41.0  150.0  269.0  \n",
      "scientist         252.0  254.0  258.0  313.0  \n",
      "sculpture          87.0  118.0  159.0  341.0  \n",
      "university        140.0  141.0  141.0  234.0  \n",
      "vehicle            59.0   65.0  149.0  320.0  \n",
      "video_game        154.0  156.0  158.0  260.0  \n"
     ]
    }
   ],
   "source": [
    "# Core size by \"seed\"\n",
    "\n",
    "_tmp = merged.groupby('SEED')['NEWCORE_SIZE'].describe(percentiles=[.05, .25, .5, .75, .95, .99])\n",
    "\n",
    "print(_tmp)\n",
    "\n",
    "save_path = 'stats/by_seed/core_size.csv'\n",
    "\n",
    "_tmp.to_csv(save_path, index=True)"
   ]
  },
  {
   "cell_type": "code",
   "execution_count": 86,
   "metadata": {},
   "outputs": [
    {
     "name": "stdout",
     "output_type": "stream",
     "text": [
      "                              count        mean        std    min     5%  \\\n",
      "UNIT_SIZE SEED                                                             \n",
      "2         actor             10000.0  255.301900   1.353713  252.0  253.0   \n",
      "          amusement_park     9994.0  120.830999  12.330052  118.0  118.0   \n",
      "          band              10000.0  124.447100   5.532745  122.0  122.0   \n",
      "          championship      10000.0  131.267100  15.066674  126.0  126.0   \n",
      "          chemical_element   9996.0   58.981993  33.336919   36.0   36.0   \n",
      "...                             ...         ...        ...    ...    ...   \n",
      "6         scientist         10000.0  225.147100  40.243641  161.0  161.0   \n",
      "          sculpture          9998.0   57.491598  26.988320   18.0   18.0   \n",
      "          university        10000.0  139.147100   0.379573  139.0  139.0   \n",
      "          vehicle           10000.0   58.388500   3.112288   58.0   58.0   \n",
      "          video_game        10000.0  151.957700   1.195347  151.0  151.0   \n",
      "\n",
      "                              25%    50%    75%    95%     99%    max  \n",
      "UNIT_SIZE SEED                                                         \n",
      "2         actor             255.0  255.0  256.0  257.0  259.00  305.0  \n",
      "          amusement_park    119.0  119.0  120.0  121.0  201.07  339.0  \n",
      "          band              124.0  124.0  125.0  126.0  143.00  267.0  \n",
      "          championship      127.0  127.0  128.0  144.0  221.00  254.0  \n",
      "          chemical_element   38.0   40.0   82.0  135.0  164.00  330.0  \n",
      "...                           ...    ...    ...    ...     ...    ...  \n",
      "6         scientist         161.0  250.0  251.0  252.0  253.00  255.0  \n",
      "          sculpture          42.0   48.0   86.0   88.0  117.00  141.0  \n",
      "          university        139.0  139.0  139.0  140.0  140.00  141.0  \n",
      "          vehicle            58.0   58.0   58.0   59.0   61.00  142.0  \n",
      "          video_game        151.0  151.0  153.0  154.0  155.00  157.0  \n",
      "\n",
      "[70 rows x 11 columns]\n"
     ]
    }
   ],
   "source": [
    "# Core size by \"unit_size\" and \"seed\"\n",
    "\n",
    "_tmp = merged.groupby(['UNIT_SIZE', 'SEED'])['NEWCORE_SIZE'].describe(percentiles=[.05, .25, .5, .75, .95, .99])\n",
    "\n",
    "print(_tmp)\n",
    "\n",
    "save_path = 'stats/by_seed_and_size/core_size.csv'\n",
    "\n",
    "_tmp.to_csv(save_path, index=True)"
   ]
  },
  {
   "cell_type": "code",
   "execution_count": 87,
   "metadata": {},
   "outputs": [
    {
     "name": "stdout",
     "output_type": "stream",
     "text": [
      "              count      mean       std  min   5%  25%  50%  75%  95%   99%  \\\n",
      "UNIT_SIZE                                                                     \n",
      "2          139984.0  3.315265  2.324771  1.0  1.0  2.0  3.0  5.0  7.0  10.0   \n",
      "3          140000.0  2.801043  1.998771  1.0  1.0  1.0  2.0  4.0  6.0   9.0   \n",
      "4          140000.0  2.539893  1.838471  1.0  1.0  1.0  2.0  3.0  6.0   8.0   \n",
      "5          140000.0  2.375621  1.767301  1.0  1.0  1.0  2.0  3.0  6.0   8.0   \n",
      "6          139993.0  2.254563  1.719221  1.0  1.0  1.0  2.0  3.0  6.0   8.0   \n",
      "\n",
      "            max  \n",
      "UNIT_SIZE        \n",
      "2          29.0  \n",
      "3          26.0  \n",
      "4          23.0  \n",
      "5          21.0  \n",
      "6          18.0  \n"
     ]
    }
   ],
   "source": [
    "# Ker size by \"unit_size\"\n",
    "\n",
    "_tmp = merged.groupby('UNIT_SIZE')['NEWKER_SIZE'].describe(percentiles=[.05, .25, .5, .75, .95, .99])\n",
    "\n",
    "print(_tmp)\n",
    "\n",
    "save_path = 'stats/by_size/ker_size.csv'\n",
    "\n",
    "_tmp.to_csv(save_path, index=True)\n"
   ]
  },
  {
   "cell_type": "code",
   "execution_count": 88,
   "metadata": {},
   "outputs": [
    {
     "name": "stdout",
     "output_type": "stream",
     "text": [
      "                    count      mean       std  min   5%  25%  50%  75%  95%  \\\n",
      "SEED                                                                          \n",
      "actor             50000.0  3.506860  1.145469  1.0  1.0  3.0  4.0  4.0  5.0   \n",
      "amusement_park    49994.0  1.910269  0.665771  1.0  1.0  2.0  2.0  2.0  3.0   \n",
      "band              50000.0  1.719680  0.667105  1.0  1.0  1.0  2.0  2.0  3.0   \n",
      "championship      50000.0  1.697760  0.765626  1.0  1.0  1.0  2.0  2.0  3.0   \n",
      "chemical_element  49996.0  1.902232  1.399585  1.0  1.0  1.0  2.0  2.0  3.0   \n",
      "company           50000.0  1.795980  1.127289  1.0  1.0  1.0  1.0  3.0  4.0   \n",
      "comune            50000.0  5.901960  0.456062  2.0  5.0  6.0  6.0  6.0  6.0   \n",
      "dialect           50000.0  1.604520  0.961589  1.0  1.0  1.0  1.0  2.0  3.0   \n",
      "film              49989.0  3.433095  2.466457  1.0  1.0  2.0  3.0  4.0  7.0   \n",
      "scientist         50000.0  3.760200  2.005706  1.0  1.0  2.0  4.0  5.0  7.0   \n",
      "sculpture         49998.0  4.433977  2.695446  1.0  1.0  2.0  3.0  7.0  9.0   \n",
      "university        50000.0  1.398220  0.656604  1.0  1.0  1.0  1.0  2.0  3.0   \n",
      "vehicle           50000.0  1.342320  1.489356  1.0  1.0  1.0  1.0  1.0  3.0   \n",
      "video_game        50000.0  2.794740  1.812069  1.0  1.0  1.0  2.0  4.0  6.0   \n",
      "\n",
      "                   99%   max  \n",
      "SEED                          \n",
      "actor              6.0  10.0  \n",
      "amusement_park     3.0  21.0  \n",
      "band               4.0   9.0  \n",
      "championship       5.0  10.0  \n",
      "chemical_element   7.0  22.0  \n",
      "company            6.0  10.0  \n",
      "comune             7.0   9.0  \n",
      "dialect            4.0  22.0  \n",
      "film              17.0  29.0  \n",
      "scientist          9.0  18.0  \n",
      "sculpture         10.0  22.0  \n",
      "university         3.0  10.0  \n",
      "vehicle            6.0  19.0  \n",
      "video_game         7.0  13.0  \n"
     ]
    }
   ],
   "source": [
    "# ker size by \"seed\"\n",
    "\n",
    "_tmp = merged.groupby('SEED')['NEWKER_SIZE'].describe(percentiles=[.05, .25, .5, .75, .95, .99])\n",
    "\n",
    "print(_tmp)\n",
    "\n",
    "save_path = 'stats/by_seed/ker_size.csv'\n",
    "\n",
    "_tmp.to_csv(save_path, index=True)"
   ]
  },
  {
   "cell_type": "code",
   "execution_count": 89,
   "metadata": {},
   "outputs": [
    {
     "name": "stdout",
     "output_type": "stream",
     "text": [
      "                              count      mean       std  min   5%  25%  50%  \\\n",
      "UNIT_SIZE SEED                                                                \n",
      "2         actor             10000.0  4.250300  1.161458  1.0  2.0  4.0  4.0   \n",
      "          amusement_park     9994.0  2.243346  0.856698  1.0  1.0  2.0  2.0   \n",
      "          band              10000.0  2.134800  0.816759  1.0  1.0  2.0  2.0   \n",
      "          championship      10000.0  2.194200  1.134996  1.0  1.0  2.0  2.0   \n",
      "          chemical_element   9996.0  2.779412  2.308966  1.0  1.0  2.0  2.0   \n",
      "...                             ...       ...       ...  ...  ...  ...  ...   \n",
      "6         scientist         10000.0  2.745000  1.426737  1.0  1.0  1.0  3.0   \n",
      "          sculpture          9998.0  4.478296  2.818734  1.0  1.0  2.0  3.0   \n",
      "          university        10000.0  1.147100  0.379573  1.0  1.0  1.0  1.0   \n",
      "          vehicle           10000.0  1.037300  0.489625  1.0  1.0  1.0  1.0   \n",
      "          video_game        10000.0  1.957700  1.195347  1.0  1.0  1.0  1.0   \n",
      "\n",
      "                            75%  95%   99%   max  \n",
      "UNIT_SIZE SEED                                    \n",
      "2         actor             5.0  6.0   7.0  10.0  \n",
      "          amusement_park    3.0  3.0   4.0  21.0  \n",
      "          band              3.0  3.0   4.0   9.0  \n",
      "          championship      2.0  5.0   7.0  10.0  \n",
      "          chemical_element  3.0  6.0  18.0  22.0  \n",
      "...                         ...  ...   ...   ...  \n",
      "6         scientist         4.0  5.0   6.0   8.0  \n",
      "          sculpture         8.0  9.0  10.0  11.0  \n",
      "          university        1.0  2.0   2.0   3.0  \n",
      "          vehicle           1.0  1.0   2.0  17.0  \n",
      "          video_game        3.0  4.0   5.0   7.0  \n",
      "\n",
      "[70 rows x 11 columns]\n"
     ]
    }
   ],
   "source": [
    "# Ker size by \"unit_size\" and \"seed\"\n",
    "\n",
    "_tmp = merged.groupby(['UNIT_SIZE', 'SEED'])['NEWKER_SIZE'].describe(percentiles=[.05, .25, .5, .75, .95, .99])\n",
    "\n",
    "print(_tmp)\n",
    "\n",
    "save_path = 'stats/by_seed_and_size/ker_size.csv'\n",
    "\n",
    "_tmp.to_csv(save_path, index=True)"
   ]
  },
  {
   "cell_type": "code",
   "execution_count": 91,
   "metadata": {},
   "outputs": [
    {
     "name": "stdout",
     "output_type": "stream",
     "text": [
      "      ABS      PERC\n",
      "0  251734  0.359632\n"
     ]
    },
    {
     "name": "stderr",
     "output_type": "stream",
     "text": [
      "/tmp/ipykernel_92201/1332447168.py:11: FutureWarning: The behavior of DataFrame concatenation with empty or all-NA entries is deprecated. In a future version, this will no longer exclude empty or all-NA columns when determining the result dtypes. To retain the old behavior, exclude the relevant entries before the concat operation.\n",
      "  tmp_df = pd.concat([tmp_df, pd.DataFrame([[abs, perc]], columns=['ABS', 'PERC'])])\n"
     ]
    }
   ],
   "source": [
    "# Number of \"trivial\" characterizations\n",
    "\n",
    "# new dataframe with \"absoulte number of trivial characterizations\" and \"percentage of trivial characterizations\" \n",
    "tmp_df = pd.DataFrame(columns=['ABS', 'PERC'])\n",
    "\n",
    "abs = merged[merged['NEWKER_SIZE'] == 1].shape[0]\n",
    "perc = abs / merged.shape[0]\n",
    "\n",
    "# add a row with the values abs and perc\n",
    "\n",
    "tmp_df = pd.concat([tmp_df, pd.DataFrame([[abs, perc]], columns=['ABS', 'PERC'])])\n",
    "\n",
    "\n",
    "print (tmp_df)\n",
    "\n",
    "save_path = 'stats/overall/percentage_of_trivial_charact.csv'\n",
    "\n",
    "tmp_df.to_csv(save_path, index=True)\n",
    "\n",
    "\n",
    "# also in percentage"
   ]
  },
  {
   "cell_type": "code",
   "execution_count": 95,
   "metadata": {},
   "outputs": [
    {
     "name": "stdout",
     "output_type": "stream",
     "text": [
      "  UNIT_SIZE    ABS      PERC\n",
      "0         2  30179  0.215564\n",
      "1         3  43686  0.312043\n",
      "2         4  52582  0.375586\n",
      "3         5  59675  0.426250\n",
      "4         6  65612  0.468657\n"
     ]
    },
    {
     "name": "stderr",
     "output_type": "stream",
     "text": [
      "C:\\Users\\pietr\\AppData\\Local\\Temp\\ipykernel_6188\\2956235704.py:14: FutureWarning: The behavior of DataFrame concatenation with empty or all-NA entries is deprecated. In a future version, this will no longer exclude empty or all-NA columns when determining the result dtypes. To retain the old behavior, exclude the relevant entries before the concat operation.\n",
      "  tmp_df = pd.concat([tmp_df, pd.DataFrame({'UNIT_SIZE': abs.index, 'ABS': abs.values, 'PERC': perc.values})])\n"
     ]
    }
   ],
   "source": [
    "# Number of \"trivial\" characterizations by \"unit_size\"\n",
    "\n",
    "tmp_df = pd.DataFrame(columns=['UNIT_SIZE','ABS', 'PERC'])\n",
    "\n",
    "abs = merged[merged['NEWKER_SIZE'] == 1].groupby('UNIT_SIZE').size()\n",
    "\n",
    "# Also in percentage\n",
    "\n",
    "perc = merged[merged['NEWKER_SIZE'] == 1].groupby('UNIT_SIZE').size() / merged.groupby('UNIT_SIZE').size()\n",
    "\n",
    "\n",
    "# add the values to the dataframe\n",
    "\n",
    "tmp_df = pd.concat([tmp_df, pd.DataFrame({'UNIT_SIZE': abs.index, 'ABS': abs.values, 'PERC': perc.values})])\n",
    "\n",
    "print (tmp_df)\n",
    "\n",
    "save_path = 'stats/by_size/percentage_of_trivial_charact.csv'\n",
    "\n",
    "tmp_df.to_csv(save_path, index=False)"
   ]
  },
  {
   "cell_type": "code",
   "execution_count": 95,
   "metadata": {},
   "outputs": [
    {
     "name": "stdout",
     "output_type": "stream",
     "text": [
      "(14,)\n",
      "SEED\n",
      "actor                2650\n",
      "amusement_park      11784\n",
      "band                19135\n",
      "championship        20425\n",
      "chemical_element    19419\n",
      "company             30194\n",
      "dialect             32652\n",
      "film                 7715\n",
      "scientist            9302\n",
      "sculpture            3602\n",
      "university          34359\n",
      "vehicle             43147\n",
      "video_game          17350\n",
      "comune                  0\n",
      "dtype: int64\n",
      "(14,)\n",
      "SEED\n",
      "actor               0.053000\n",
      "amusement_park      0.235708\n",
      "band                0.382700\n",
      "championship        0.408500\n",
      "chemical_element    0.388411\n",
      "company             0.603880\n",
      "comune              0.000000\n",
      "dialect             0.653040\n",
      "film                0.154334\n",
      "scientist           0.186040\n",
      "sculpture           0.072043\n",
      "university          0.687180\n",
      "vehicle             0.862940\n",
      "video_game          0.347000\n",
      "dtype: float64\n",
      "                SEED    ABS      PERC\n",
      "0              actor   2650  0.053000\n",
      "1     amusement_park  11784  0.235708\n",
      "2               band  19135  0.382700\n",
      "3       championship  20425  0.408500\n",
      "4   chemical_element  19419  0.388411\n",
      "5            company  30194  0.603880\n",
      "6             comune      0  0.000000\n",
      "7            dialect  32652  0.653040\n",
      "8               film   7715  0.154334\n",
      "9          scientist   9302  0.186040\n",
      "10         sculpture   3602  0.072043\n",
      "11        university  34359  0.687180\n",
      "12           vehicle  43147  0.862940\n",
      "13        video_game  17350  0.347000\n"
     ]
    },
    {
     "name": "stderr",
     "output_type": "stream",
     "text": [
      "/tmp/ipykernel_92201/3287342347.py:41: FutureWarning: The behavior of DataFrame concatenation with empty or all-NA entries is deprecated. In a future version, this will no longer exclude empty or all-NA columns when determining the result dtypes. To retain the old behavior, exclude the relevant entries before the concat operation.\n",
      "  tmp_df = pd.concat([tmp_df, pd.DataFrame({'SEED': abs.index, 'ABS': abs.values, 'PERC': perc.values})])\n"
     ]
    }
   ],
   "source": [
    "# Number of \"trivial\" characterizations by \"seed\"\n",
    "\n",
    "tmp_df = pd.DataFrame(columns=['SEED','ABS', 'PERC'])\n",
    "\n",
    "abs = merged[merged['NEWKER_SIZE'] == 1].groupby('SEED').size()\n",
    "\n",
    "# if the seed is not present in the groupby, the value is 0\n",
    "# add the seeds that are not present in the groupby\n",
    "\n",
    "for seed in SEEDS:\n",
    "  if seed not in abs.index:\n",
    "    abs[seed] = 0\n",
    "\n",
    "\n",
    "print (abs.shape)\n",
    "print (abs)\n",
    "\n",
    "# alphabetically order the index\n",
    "\n",
    "abs = abs.sort_index()\n",
    "\n",
    "\n",
    "# Also in percentage\n",
    "\n",
    "perc = merged[merged['NEWKER_SIZE'] == 1].groupby('SEED').size() / merged.groupby('SEED').size()\n",
    "\n",
    "# delete the NaN values\n",
    "\n",
    "perc = perc.fillna(0)\n",
    "\n",
    "# alphabetically order the index\n",
    "\n",
    "perc = perc.sort_index()\n",
    "\n",
    "\n",
    "print (perc.shape)\n",
    "print (perc)\n",
    "\n",
    "# add the values to the dataframe\n",
    "\n",
    "tmp_df = pd.concat([tmp_df, pd.DataFrame({'SEED': abs.index, 'ABS': abs.values, 'PERC': perc.values})])\n",
    "\n",
    "print (tmp_df)\n",
    "\n",
    "\n",
    "\n",
    "save_path = 'stats/by_seed/percentage_of_trivial_charact.csv'\n",
    "\n",
    "tmp_df.to_csv(save_path, index=False)\n"
   ]
  },
  {
   "cell_type": "code",
   "execution_count": 96,
   "metadata": {},
   "outputs": [
    {
     "name": "stdout",
     "output_type": "stream",
     "text": [
      "   UNIT_SIZE              SEED   ABS      PERC\n",
      "0          2             actor   191  0.019100\n",
      "1          2    amusement_park  1265  0.126576\n",
      "2          2              band  1922  0.192200\n",
      "3          2      championship  2114  0.211400\n",
      "4          2  chemical_element  1736  0.173669\n",
      "..       ...               ...   ...       ...\n",
      "65         6         scientist  2779  0.277900\n",
      "66         6         sculpture  1213  0.121324\n",
      "67         6        university  8622  0.862200\n",
      "68         6           vehicle  9850  0.985000\n",
      "69         6        video_game  5015  0.501500\n",
      "\n",
      "[70 rows x 4 columns]\n"
     ]
    },
    {
     "name": "stderr",
     "output_type": "stream",
     "text": [
      "/tmp/ipykernel_92201/1989710047.py:33: FutureWarning: The behavior of DataFrame concatenation with empty or all-NA entries is deprecated. In a future version, this will no longer exclude empty or all-NA columns when determining the result dtypes. To retain the old behavior, exclude the relevant entries before the concat operation.\n",
      "  tmp_df = pd.concat([tmp_df, pd.DataFrame({'UNIT_SIZE': [x[0] for x in abs.index], 'SEED': [x[1] for x in abs.index], 'ABS': abs.values, 'PERC': perc.values})])\n"
     ]
    }
   ],
   "source": [
    "# Number of \"trivial\" characterizations by \"unit_size\" and \"seed\"\n",
    "\n",
    "tmp_df = pd.DataFrame(columns=['UNIT_SIZE', 'SEED', 'ABS', 'PERC'])\n",
    "\n",
    "abs = merged[merged['NEWKER_SIZE'] == 1].groupby(['UNIT_SIZE', 'SEED']).size()\n",
    "\n",
    "# if the seed is not present in the groupby, the value is 0\n",
    "# add the seeds that are not present in the groupby\n",
    "\n",
    "for seed in SEEDS:\n",
    "  for size in SIZES:\n",
    "    if (size, seed) not in abs.index:\n",
    "      abs[size, seed] = 0\n",
    "\n",
    "# alphabetically order the index\n",
    "\n",
    "abs = abs.sort_index()\n",
    "\n",
    "# Also in percentage\n",
    "\n",
    "perc = merged[merged['NEWKER_SIZE'] == 1].groupby(['UNIT_SIZE', 'SEED']).size() / merged.groupby(['UNIT_SIZE', 'SEED']).size()\n",
    "\n",
    "# delete the NaN values\n",
    "\n",
    "perc = perc.fillna(0)\n",
    "\n",
    "# alphabetically order the index\n",
    "\n",
    "perc = perc.sort_index()\n",
    "\n",
    "# add the values to the dataframe\n",
    "\n",
    "tmp_df = pd.concat([tmp_df, pd.DataFrame({'UNIT_SIZE': [x[0] for x in abs.index], 'SEED': [x[1] for x in abs.index], 'ABS': abs.values, 'PERC': perc.values})])\n",
    "\n",
    "print (tmp_df)\n",
    "\n",
    "save_path = 'stats/by_seed_and_size/percentage_of_trivial_charact.csv'\n",
    "\n",
    "tmp_df.to_csv(save_path, index=False)\n",
    "\n"
   ]
  },
  {
   "cell_type": "code",
   "execution_count": 97,
   "metadata": {},
   "outputs": [
    {
     "name": "stdout",
     "output_type": "stream",
     "text": [
      "UNIT_SIZE  SEED            \n",
      "2          actor               0.019100\n",
      "           amusement_park      0.126576\n",
      "           band                0.192200\n",
      "           championship        0.211400\n",
      "           chemical_element    0.173669\n",
      "                                 ...   \n",
      "6          scientist           0.277900\n",
      "           sculpture           0.121324\n",
      "           university          0.862200\n",
      "           vehicle             0.985000\n",
      "           video_game          0.501500\n",
      "Length: 70, dtype: float64\n"
     ]
    }
   ],
   "source": [
    "# Also in percentage\n",
    "\n",
    "print(merged[merged['NEWKER_SIZE'] == 1].groupby(['UNIT_SIZE', 'SEED']).size() / merged.groupby(['UNIT_SIZE', 'SEED']).size())"
   ]
  },
  {
   "cell_type": "markdown",
   "metadata": {},
   "source": [
    "## Overall Time statistics"
   ]
  },
  {
   "cell_type": "code",
   "execution_count": 100,
   "metadata": {},
   "outputs": [
    {
     "name": "stdout",
     "output_type": "stream",
     "text": [
      "count    699977.000000\n",
      "mean         72.103478\n",
      "std         988.879527\n",
      "min           0.025110\n",
      "5%            0.044090\n",
      "25%           0.086710\n",
      "50%           2.109840\n",
      "75%           5.848180\n",
      "95%          79.009656\n",
      "99%        1229.185168\n",
      "max       59468.858970\n",
      "Name: OLDKER_COMPUTATION_TIME_FIX, dtype: float64\n"
     ]
    }
   ],
   "source": [
    "# Old ker computation time\n",
    "_tmp = merged['OLDKER_COMPUTATION_TIME_FIX']\n",
    "\n",
    "\n",
    "# NEW DATAFRAME WITH OLDKER_COMPUTATION_TIME AS FLOAT\n",
    "\n",
    "_tmp = _tmp.astype(np.float64)\n",
    "\n",
    "_stats = _tmp.describe(percentiles=[.05, .25, .5, .75, .95, .99])\n",
    "\n",
    "print(_stats)\n",
    "\n",
    "save_path = 'stats/overall/oldker_computation_time.csv'\n",
    "\n",
    "_stats.to_csv(save_path, index=True)\n"
   ]
  },
  {
   "cell_type": "code",
   "execution_count": 101,
   "metadata": {},
   "outputs": [
    {
     "name": "stdout",
     "output_type": "stream",
     "text": [
      "count    699977.000000\n",
      "mean          0.998498\n",
      "std           3.227259\n",
      "min           0.083150\n",
      "5%            0.176908\n",
      "25%           0.377260\n",
      "50%           0.615680\n",
      "75%           1.052640\n",
      "95%           2.218464\n",
      "99%           5.519078\n",
      "max         210.005370\n",
      "Name: NEWKER_COMPUTATION_TIME, dtype: float64\n"
     ]
    }
   ],
   "source": [
    "# NEWKER_COMPUTATION_TIME (no need for checking for TIMEOUT)\n",
    "\n",
    "_stats = merged['NEWKER_COMPUTATION_TIME'].describe(percentiles=[.05, .25, .5, .75, .95, .99])\n",
    "\n",
    "print(_stats)\n",
    "\n",
    "save_path = 'stats/overall/newker_computation_time.csv'\n",
    "\n",
    "_stats.to_csv(save_path, index=True)\n",
    "\n"
   ]
  },
  {
   "cell_type": "code",
   "execution_count": 102,
   "metadata": {},
   "outputs": [
    {
     "name": "stdout",
     "output_type": "stream",
     "text": [
      "count    699977.000000\n",
      "mean         23.551304\n",
      "std          17.033230\n",
      "min           0.921720\n",
      "5%            5.224054\n",
      "25%          11.394640\n",
      "50%          19.031680\n",
      "75%          30.724650\n",
      "95%          57.780342\n",
      "99%          77.582623\n",
      "max         781.401340\n",
      "Name: NEWCORE_COMPUTATION_TIME, dtype: float64\n"
     ]
    }
   ],
   "source": [
    "# NEWCORE_COMPUTATION_TIME (no need for checking for TIMEOUT)\n",
    "\n",
    "_stats = merged['NEWCORE_COMPUTATION_TIME'].describe(percentiles=[.05, .25, .5, .75, .95, .99])\n",
    "\n",
    "print(_stats)\n",
    "\n",
    "save_path = 'stats/overall/newcore_computation_time.csv'\n",
    "\n",
    "_stats.to_csv(save_path, index=True)\n",
    "\n",
    "\n",
    "\n"
   ]
  },
  {
   "cell_type": "code",
   "execution_count": 103,
   "metadata": {},
   "outputs": [
    {
     "name": "stdout",
     "output_type": "stream",
     "text": [
      "count    699977.000000\n",
      "mean         27.262662\n",
      "std          15.825166\n",
      "min           2.014450\n",
      "5%            8.567092\n",
      "25%          15.362600\n",
      "50%          23.424970\n",
      "75%          35.992060\n",
      "95%          58.093510\n",
      "99%          75.775094\n",
      "max         256.277430\n",
      "Name: SUMMARY_COMPUTATION_TIME, dtype: float64\n"
     ]
    }
   ],
   "source": [
    "# summary computation time\n",
    "\n",
    "_stats = merged['SUMMARY_COMPUTATION_TIME'].describe(percentiles=[.05, .25, .5, .75, .95, .99])\n",
    "\n",
    "print(_stats)\n",
    "\n",
    "save_path = 'stats/overall/summary_computation_time.csv'\n",
    "\n",
    "_stats.to_csv(save_path, index=True)\n",
    "\n"
   ]
  },
  {
   "cell_type": "code",
   "execution_count": 104,
   "metadata": {},
   "outputs": [
    {
     "name": "stdout",
     "output_type": "stream",
     "text": [
      "count    699977.000000\n",
      "mean         79.181250\n",
      "std          57.549640\n",
      "min           3.113410\n",
      "5%           19.993682\n",
      "25%          33.328120\n",
      "50%          49.922080\n",
      "75%         127.979470\n",
      "95%         182.850072\n",
      "99%         202.038264\n",
      "max         718.729250\n",
      "Name: SUMMARY_TILDE_COMPUTATION_TIME, dtype: float64\n"
     ]
    }
   ],
   "source": [
    "# summary tilde computation time\n",
    "\n",
    "_stats = merged['SUMMARY_TILDE_COMPUTATION_TIME'].describe(percentiles=[.05, .25, .5, .75, .95, .99])\n",
    "\n",
    "print(_stats)\n",
    "\n",
    "save_path = 'stats/overall/summary_tilde_computation_time.csv'\n",
    "\n",
    "_stats.to_csv(save_path, index=True)\n",
    "\n"
   ]
  },
  {
   "cell_type": "markdown",
   "metadata": {},
   "source": [
    "## Grouped by Seed and Unit Size Time Statistics"
   ]
  },
  {
   "cell_type": "code",
   "execution_count": 109,
   "metadata": {},
   "outputs": [
    {
     "name": "stdout",
     "output_type": "stream",
     "text": [
      "count    699977.000000\n",
      "mean         79.181250\n",
      "std          57.549640\n",
      "min           3.113410\n",
      "5%           19.993682\n",
      "25%          33.328120\n",
      "50%          49.922080\n",
      "75%         127.979470\n",
      "95%         182.850072\n",
      "99%         202.038264\n",
      "max         718.729250\n",
      "Name: SUMMARY_TILDE_COMPUTATION_TIME, dtype: float64\n"
     ]
    }
   ],
   "source": [
    "# OLDKER_COMPUTATION_TIME by \"unit_size\"\n",
    "\n",
    "stats = merged['OLDKER_COMPUTATION_TIME_FIX'].describe(percentiles=[.05, .25, .5, .75, .95, .99])\n",
    "\n",
    "\n",
    "\n",
    "print(_stats)\n",
    "\n",
    "save_path = 'stats/by_size/oldker_computation_time.csv'\n",
    "\n",
    "_stats.to_csv(save_path, index=True)"
   ]
  },
  {
   "cell_type": "code",
   "execution_count": 110,
   "metadata": {},
   "outputs": [
    {
     "name": "stdout",
     "output_type": "stream",
     "text": [
      "                    count        mean          std      min         5%  \\\n",
      "SEED                                                                     \n",
      "actor             50000.0    4.758918     5.958778  0.03454   1.062806   \n",
      "amusement_park    49994.0    3.705378   176.507369  0.02555   0.045150   \n",
      "band              50000.0    1.996933     2.907497  0.02573   0.043060   \n",
      "championship      50000.0    1.894826    30.915217  0.02571   0.045330   \n",
      "chemical_element  49996.0   31.627198   529.768277  0.02539   0.049110   \n",
      "company           50000.0    5.211641    20.670585  0.02669   0.037280   \n",
      "comune            50000.0   98.897026   235.792429  0.96495  20.477529   \n",
      "dialect           50000.0    5.641817   273.265256  0.02511   0.034680   \n",
      "film              49989.0  329.903885  2691.358146  0.02736   0.079244   \n",
      "scientist         50000.0   12.662493    48.972993  0.03210   1.465366   \n",
      "sculpture         49998.0  367.205389  1409.718409  0.02580   0.085657   \n",
      "university        50000.0    0.736704     2.696338  0.02584   0.037580   \n",
      "vehicle           50000.0  141.152612  1952.605511  0.02522   0.032620   \n",
      "video_game        50000.0    4.110940    26.657729  0.02701   0.053090   \n",
      "\n",
      "                        25%        50%         75%          95%           99%  \\\n",
      "SEED                                                                            \n",
      "actor              2.549355   4.183720    6.140108     9.869409     14.862755   \n",
      "amusement_park     0.104030   1.467355    2.484483     3.327416      4.040257   \n",
      "band               0.078500   1.343840    3.265022     5.228051      6.083490   \n",
      "championship       0.096793   1.349630    2.345885     3.608112      4.911271   \n",
      "chemical_element   0.111208   1.771395    4.182422     6.960735     40.788603   \n",
      "company            0.065060   0.798375    6.803380    17.954510     45.383764   \n",
      "comune            41.815758  60.449170   97.020540   229.770923    680.637801   \n",
      "dialect            0.057890   0.077470    1.287192     6.799972     14.043735   \n",
      "film               1.905850   3.623430    8.012410   115.546004  11616.199151   \n",
      "scientist          4.196680   9.424775   16.176790    31.271923     51.010060   \n",
      "sculpture          2.621517   5.918640  346.637325  1601.491462   3336.102229   \n",
      "university         0.063028   0.084715    1.065627     2.769035      3.558331   \n",
      "vehicle            0.053907   0.075650    0.816505     3.509928     98.444631   \n",
      "video_game         0.881363   2.680480    5.507688    11.544597     20.529095   \n",
      "\n",
      "                          max  \n",
      "SEED                           \n",
      "actor               894.71636  \n",
      "amusement_park    25081.38375  \n",
      "band                195.62036  \n",
      "championship       5725.77006  \n",
      "chemical_element  32738.39392  \n",
      "company            2266.56932  \n",
      "comune             9916.18565  \n",
      "dialect           32691.15246  \n",
      "film              58870.29541  \n",
      "scientist          7484.86207  \n",
      "sculpture         58973.56106  \n",
      "university          313.30111  \n",
      "vehicle           59468.85897  \n",
      "video_game         5746.86370  \n"
     ]
    }
   ],
   "source": [
    "# OLDKER_COMPUTATION_TIME by \"seed\"\n",
    "\n",
    "_stats = merged.groupby('SEED')['OLDKER_COMPUTATION_TIME_FIX'].describe(percentiles=[.05, .25, .5, .75, .95, .99])\n",
    "\n",
    "print(_stats)\n",
    "\n",
    "save_path = 'stats/by_seed/oldker_computation_time.csv'\n",
    "\n",
    "_stats.to_csv(save_path, index=True)"
   ]
  },
  {
   "cell_type": "code",
   "execution_count": 111,
   "metadata": {},
   "outputs": [
    {
     "name": "stdout",
     "output_type": "stream",
     "text": [
      "                              count        mean          std      min  \\\n",
      "UNIT_SIZE SEED                                                          \n",
      "2         actor             10000.0    3.364991    11.930260  0.03454   \n",
      "          amusement_park     9994.0    7.010054   217.120498  0.02555   \n",
      "          band              10000.0    1.340242     4.179378  0.02573   \n",
      "          championship      10000.0    2.737308    68.567221  0.02571   \n",
      "          chemical_element   9996.0   86.594502   736.584901  0.02539   \n",
      "...                             ...         ...          ...      ...   \n",
      "6         scientist         10000.0   13.990935    11.607606  0.08961   \n",
      "          sculpture          9998.0  545.816489   896.577395  0.07554   \n",
      "          university        10000.0    0.685362     1.216338  0.07300   \n",
      "          vehicle           10000.0   41.665732  1545.510344  0.07306   \n",
      "          video_game        10000.0    4.204230     4.570337  0.07622   \n",
      "\n",
      "                                  5%       25%        50%         75%  \\\n",
      "UNIT_SIZE SEED                                                          \n",
      "2         actor             1.016190  1.443677   2.038215    2.996140   \n",
      "          amusement_park    0.031176  0.608585   0.799320    0.876988   \n",
      "          band              0.028670  0.984212   1.190655    1.277920   \n",
      "          championship      0.033499  0.648390   0.839815    1.055130   \n",
      "          chemical_element  0.031330  1.032490   1.215650    1.820237   \n",
      "...                              ...       ...        ...         ...   \n",
      "6         scientist         2.086675  3.555813  11.971745   19.464610   \n",
      "          sculpture         0.087248  5.601447   8.181790  852.104902   \n",
      "          university        0.079280  0.086178   0.088880    0.104972   \n",
      "          vehicle           0.079850  0.085600   0.088605    0.119822   \n",
      "          video_game        0.082770  0.872000   3.095420    6.562915   \n",
      "\n",
      "                                    95%          99%          max  \n",
      "UNIT_SIZE SEED                                                     \n",
      "2         actor                8.258332    20.738591    894.71636  \n",
      "          amusement_park       1.092338     3.902591  11328.16993  \n",
      "          band                 1.941180     8.119101    195.62036  \n",
      "          championship         2.434017    11.563904   5725.77006  \n",
      "          chemical_element    11.092218  4707.590152  12271.99648  \n",
      "...                                 ...          ...          ...  \n",
      "6         scientist           34.578053    48.369501    256.58838  \n",
      "          sculpture         1751.638066  3737.342847  16469.48005  \n",
      "          university           3.353391     4.302828      8.80123  \n",
      "          vehicle              1.105552     6.305153  59468.85897  \n",
      "          video_game          12.679667    18.175348     65.10766  \n",
      "\n",
      "[70 rows x 11 columns]\n"
     ]
    }
   ],
   "source": [
    "# OLDKER_COMPUTATION_TIME by \"unit_size\" and \"seed\"\n",
    "\n",
    "_stats = merged.groupby(['UNIT_SIZE', 'SEED'])['OLDKER_COMPUTATION_TIME_FIX'].describe(percentiles=[.05, .25, .5, .75, .95, .99])\n",
    "\n",
    "print(_stats)\n",
    "\n",
    "save_path = 'stats/by_seed_and_size/oldker_computation_time.csv'\n",
    "\n",
    "_stats.to_csv(save_path, index=True)\n",
    "\n"
   ]
  },
  {
   "cell_type": "code",
   "execution_count": 112,
   "metadata": {},
   "outputs": [
    {
     "name": "stdout",
     "output_type": "stream",
     "text": [
      "              count       mean        std      min         5%        25%  \\\n",
      "UNIT_SIZE                                                                  \n",
      "2          139984.0   9.079227   7.065867  0.92172   3.042735   5.380390   \n",
      "3          140000.0  16.344841   9.163876  2.81091   6.236668  10.303978   \n",
      "4          140000.0  23.590436  12.586880  4.12001   8.852805  15.015270   \n",
      "5          140000.0  30.796519  16.106638  5.53952  11.802732  19.664227   \n",
      "6          139993.0  37.944563  19.439117  6.87345  14.555470  24.469190   \n",
      "\n",
      "                 50%        75%        95%        99%        max  \n",
      "UNIT_SIZE                                                         \n",
      "2           7.291485  11.439843  20.012242  33.508532  781.40134  \n",
      "3          13.214845  21.758308  34.046714  48.090314  104.12741  \n",
      "4          18.971475  32.228305  51.109850  62.793730  122.79334  \n",
      "5          24.937110  41.900175  64.406688  76.896729  136.70122  \n",
      "6          31.046160  50.996000  76.072282  91.122634  162.96135  \n"
     ]
    }
   ],
   "source": [
    "# NEWCORE_COMPUTATION_TIME by \"unit_size\"\n",
    "\n",
    "_stats = merged.groupby('UNIT_SIZE')['NEWCORE_COMPUTATION_TIME'].describe(percentiles=[.05, .25, .5, .75, .95, .99])\n",
    "\n",
    "print(_stats)\n",
    "\n",
    "save_path = 'stats/by_size/newcore_computation_time.csv'\n",
    "\n",
    "_stats.to_csv(save_path, index=True)\n",
    "\n"
   ]
  },
  {
   "cell_type": "code",
   "execution_count": 113,
   "metadata": {},
   "outputs": [
    {
     "name": "stdout",
     "output_type": "stream",
     "text": [
      "                    count       mean        std       min         5%  \\\n",
      "SEED                                                                   \n",
      "actor             50000.0  37.342463  19.153131  10.66208  11.552288   \n",
      "amusement_park    49994.0  18.067517  10.885979   4.59151   4.983027   \n",
      "band              50000.0  17.881209   9.892563   4.78406   5.152319   \n",
      "championship      50000.0  20.309069  11.131149   4.93722   5.699098   \n",
      "chemical_element  49996.0  13.755679   8.126697   1.54406   3.873827   \n",
      "company           50000.0  31.400531  16.126677   6.97102   9.183113   \n",
      "comune            50000.0  47.515876  23.645620  13.21690  14.709598   \n",
      "dialect           50000.0  21.915461  11.633610   4.71403   6.621006   \n",
      "film              49989.0  11.142071   8.370955   1.44496   2.054364   \n",
      "scientist         50000.0  37.004713  18.645518   8.02399  11.667255   \n",
      "sculpture         49998.0  16.223603   9.123424   0.92172   4.769552   \n",
      "university        50000.0  20.323726  11.091762   5.41202   5.953810   \n",
      "vehicle           50000.0  14.453169   9.447700   2.39853   3.366206   \n",
      "video_game        50000.0  22.378707  11.839757   5.97755   6.959204   \n",
      "\n",
      "                        25%        50%        75%        95%        99%  \\\n",
      "SEED                                                                      \n",
      "actor             22.181470  33.387105  52.410418  74.133818  77.425367   \n",
      "amusement_park     9.971280  17.106070  23.862140  38.682439  48.182819   \n",
      "band              10.163432  16.480355  24.227982  38.388055  47.489981   \n",
      "championship      11.397232  18.945690  27.084893  43.228949  51.848117   \n",
      "chemical_element   7.918368  12.451580  17.588712  30.392778  41.585872   \n",
      "company           18.219192  29.851045  42.384737  63.035734  70.214579   \n",
      "comune            28.293155  43.165965  65.826517  89.960196  93.075468   \n",
      "dialect           12.731275  21.011395  29.151988  45.468268  54.190700   \n",
      "film               5.960600   9.414690  13.731470  29.769772  39.066452   \n",
      "scientist         22.358432  34.622050  51.551057  73.409323  78.822036   \n",
      "sculpture          9.269605  14.943560  21.114058  35.134857  45.351614   \n",
      "university        11.592697  18.661890  27.679035  43.518822  51.568254   \n",
      "vehicle            8.026940  13.109090  18.289600  31.774197  43.967356   \n",
      "video_game        13.462410  20.474780  31.063135  46.486047  54.504725   \n",
      "\n",
      "                        max  \n",
      "SEED                         \n",
      "actor             143.93461  \n",
      "amusement_park    781.40134  \n",
      "band               90.01789  \n",
      "championship      112.86939  \n",
      "chemical_element   87.59473  \n",
      "company           127.05826  \n",
      "comune            162.96135  \n",
      "dialect            96.96427  \n",
      "film              158.16789  \n",
      "scientist         134.08108  \n",
      "sculpture          75.03488  \n",
      "university         76.67446  \n",
      "vehicle           137.78655  \n",
      "video_game         95.31439  \n"
     ]
    }
   ],
   "source": [
    "# NEWCORE_COMPUTATION_TIME by \"seed\"\n",
    "\n",
    "_stats = merged.groupby('SEED')['NEWCORE_COMPUTATION_TIME'].describe(percentiles=[.05, .25, .5, .75, .95, .99])\n",
    "\n",
    "print(_stats)\n",
    "\n",
    "save_path = 'stats/by_seed/newcore_computation_time.csv'\n",
    "\n",
    "_stats.to_csv(save_path, index=True)\n",
    "\n"
   ]
  },
  {
   "cell_type": "code",
   "execution_count": 114,
   "metadata": {},
   "outputs": [
    {
     "name": "stdout",
     "output_type": "stream",
     "text": [
      "                              count       mean        std       min  \\\n",
      "UNIT_SIZE SEED                                                        \n",
      "2         actor             10000.0  13.055589   4.327004  10.66208   \n",
      "          amusement_park     9994.0   6.827658  10.233896   4.59151   \n",
      "          band              10000.0   6.550379   3.676799   4.78406   \n",
      "          championship      10000.0   7.578592   3.895097   4.93722   \n",
      "          chemical_element   9996.0   5.938064   4.086669   1.54406   \n",
      "...                             ...        ...        ...       ...   \n",
      "6         scientist         10000.0  59.485927  12.073894  40.13487   \n",
      "          sculpture          9998.0  25.227293   8.130920   9.39899   \n",
      "          university        10000.0  33.363871   8.136537  26.46526   \n",
      "          vehicle           10000.0  22.185343   7.394001  11.61647   \n",
      "          video_game        10000.0  36.309121   8.028946  29.60032   \n",
      "\n",
      "                                   5%        25%        50%        75%  \\\n",
      "UNIT_SIZE SEED                                                           \n",
      "2         actor             11.215637  11.552283  11.885765  12.310757   \n",
      "          amusement_park     4.781588   4.982805   5.222630   7.187003   \n",
      "          band               4.953549   5.152317   5.391680   6.589308   \n",
      "          championship       5.299538   5.699092   6.500895   8.000233   \n",
      "          chemical_element   2.810283   3.875610   4.705820   6.821993   \n",
      "...                               ...        ...        ...        ...   \n",
      "6         scientist         44.054521  52.175742  54.724520  73.007798   \n",
      "          sculpture         14.814225  20.781858  23.705235  26.961875   \n",
      "          university        27.409564  28.459715  29.929060  32.545828   \n",
      "          vehicle           14.670849  17.696175  20.362315  23.535197   \n",
      "          video_game        30.733949  32.074125  32.885875  34.650742   \n",
      "\n",
      "                                  95%        99%        max  \n",
      "UNIT_SIZE SEED                                               \n",
      "2         actor             19.457757  32.113460   59.78539  \n",
      "          amusement_park    11.224623  25.843969  781.40134  \n",
      "          band               9.655267  25.270828   41.68051  \n",
      "          championship      11.239892  27.057570   37.48462  \n",
      "          chemical_element  11.007380  25.866612   54.09405  \n",
      "...                               ...        ...        ...  \n",
      "6         scientist         78.616086  83.472516  134.08108  \n",
      "          sculpture         44.731342  49.379048   73.57190  \n",
      "          university        51.450711  55.124038   73.78552  \n",
      "          vehicle           40.786827  46.481986   83.61145  \n",
      "          video_game        54.372467  57.012811   95.31439  \n",
      "\n",
      "[70 rows x 11 columns]\n"
     ]
    }
   ],
   "source": [
    "# NEWCORE_COMPUTATION_TIME by \"unit_size\" and \"seed\"\n",
    "\n",
    "_stats = merged.groupby(['UNIT_SIZE', 'SEED'])['NEWCORE_COMPUTATION_TIME'].describe(percentiles=[.05, .25, .5, .75, .95, .99])\n",
    "\n",
    "print(_stats)\n",
    "\n",
    "save_path = 'stats/by_seed_and_size/newcore_computation_time.csv'\n",
    "\n",
    "_stats.to_csv(save_path, index=True)\n",
    "\n"
   ]
  },
  {
   "cell_type": "code",
   "execution_count": 115,
   "metadata": {},
   "outputs": [
    {
     "name": "stdout",
     "output_type": "stream",
     "text": [
      "              count      mean       std      min        5%       25%  \\\n",
      "UNIT_SIZE                                                              \n",
      "2          139984.0  0.823087  4.079126  0.08315  0.115201  0.180200   \n",
      "3          140000.0  0.799157  3.693000  0.15968  0.214070  0.322620   \n",
      "4          140000.0  0.952436  3.281789  0.23143  0.307420  0.451130   \n",
      "5          140000.0  1.123532  2.866479  0.30252  0.401519  0.565377   \n",
      "6          139993.0  1.294273  1.623733  0.37708  0.498042  0.675790   \n",
      "\n",
      "                50%       75%       95%        99%        max  \n",
      "UNIT_SIZE                                                      \n",
      "2          0.261370  0.433915  1.175974  12.412759   89.93060  \n",
      "3          0.454520  0.746190  1.333220   4.169727  131.61803  \n",
      "4          0.634295  1.031505  1.753352   4.638769  172.48137  \n",
      "5          0.811550  1.307752  2.188741   5.060090  210.00537  \n",
      "6          0.982140  1.567620  2.634108   5.895175  169.74308  \n"
     ]
    }
   ],
   "source": [
    "# NEWKER_COMPUTATION_TIME by \"unit_size\"\n",
    "\n",
    "_stats = merged.groupby('UNIT_SIZE')['NEWKER_COMPUTATION_TIME'].describe(percentiles=[.05, .25, .5, .75, .95, .99])\n",
    "\n",
    "print(_stats)\n",
    "\n",
    "save_path = 'stats/by_size/newker_computation_time.csv'\n",
    "\n",
    "_stats.to_csv(save_path, index=True)\n",
    "\n"
   ]
  },
  {
   "cell_type": "code",
   "execution_count": 117,
   "metadata": {},
   "outputs": [
    {
     "name": "stdout",
     "output_type": "stream",
     "text": [
      "                    count      mean       std      min        5%       25%  \\\n",
      "SEED                                                                         \n",
      "actor             50000.0  0.888289  0.414963  0.12203  0.299538  0.556488   \n",
      "amusement_park    49994.0  0.572076  0.720741  0.08633  0.165447  0.319650   \n",
      "band              50000.0  0.450355  0.233216  0.08315  0.158050  0.289330   \n",
      "championship      50000.0  0.573627  0.371320  0.08535  0.172787  0.347545   \n",
      "chemical_element  49996.0  0.690144  1.180681  0.08490  0.196502  0.370078   \n",
      "company           50000.0  0.552869  0.365809  0.08408  0.138730  0.291947   \n",
      "comune            50000.0  1.889817  1.973054  0.30507  0.656247  1.160965   \n",
      "dialect           50000.0  0.426319  0.910917  0.08390  0.117999  0.242797   \n",
      "film              49989.0  2.579473  9.456782  0.09228  0.376738  0.819550   \n",
      "scientist         50000.0  1.176272  0.651384  0.09455  0.384209  0.729285   \n",
      "sculpture         49998.0  1.981191  3.884345  0.08494  0.242934  0.516830   \n",
      "university        50000.0  0.447958  0.311104  0.08343  0.137220  0.262728   \n",
      "vehicle           50000.0  0.847246  5.243107  0.08340  0.136520  0.284177   \n",
      "video_game        50000.0  0.903645  0.494825  0.08551  0.291700  0.553060   \n",
      "\n",
      "                       50%       75%       95%        99%        max  \n",
      "SEED                                                                  \n",
      "actor             0.860830  1.186902  1.576850   1.893946    8.13376  \n",
      "amusement_park    0.485555  0.675852  1.516942   1.897792   91.35250  \n",
      "band              0.437030  0.586473  0.818672   1.006702   21.13814  \n",
      "championship      0.545140  0.756505  1.068354   1.331545   41.56402  \n",
      "chemical_element  0.569955  0.797772  1.285113   2.341581   48.70709  \n",
      "company           0.477355  0.716665  1.201641   1.568135   16.50126  \n",
      "comune            1.668420  2.251070  2.850283   7.605436   87.01022  \n",
      "dialect           0.373225  0.507170  0.876736   1.371193   91.16594  \n",
      "film              1.278860  1.796060  2.994666  52.153993  210.00537  \n",
      "scientist         1.114095  1.549845  2.159872   2.639993   47.25306  \n",
      "sculpture         0.887540  1.915798  6.808515  11.464933   94.43832  \n",
      "university        0.422750  0.571305  0.824914   1.425483   23.52855  \n",
      "vehicle           0.443290  0.600870  0.879672   1.644271  169.74308  \n",
      "video_game        0.856610  1.174595  1.709668   2.099751   45.60649  \n"
     ]
    }
   ],
   "source": [
    "# NEWKER_COMPUTATION_TIME by \"seed\"\n",
    "\n",
    "_stats = merged.groupby('SEED')['NEWKER_COMPUTATION_TIME'].describe(percentiles=[.05, .25, .5, .75, .95, .99])\n",
    "\n",
    "print(_stats)\n",
    "\n",
    "save_path = 'stats/by_seed/newker_computation_time.csv'\n",
    "\n",
    "_stats.to_csv(save_path, index=True)\n",
    "\n"
   ]
  },
  {
   "cell_type": "code",
   "execution_count": 118,
   "metadata": {},
   "outputs": [
    {
     "name": "stdout",
     "output_type": "stream",
     "text": [
      "                              count      mean       std      min        5%  \\\n",
      "UNIT_SIZE SEED                                                               \n",
      "2         actor             10000.0  0.374565  0.162248  0.12203  0.240143   \n",
      "          amusement_park     9994.0  0.249782  0.619195  0.08633  0.128577   \n",
      "          band              10000.0  0.195091  0.072572  0.08315  0.112988   \n",
      "          championship      10000.0  0.261470  0.558161  0.08535  0.119966   \n",
      "          chemical_element   9996.0  0.393054  1.048294  0.08490  0.135327   \n",
      "...                             ...       ...       ...      ...       ...   \n",
      "6         scientist         10000.0  1.759159  0.466021  0.67078  1.055582   \n",
      "          sculpture          9998.0  2.637008  2.467308  0.50841  0.727610   \n",
      "          university        10000.0  0.689296  0.298949  0.38662  0.508090   \n",
      "          vehicle           10000.0  0.808869  4.010936  0.40767  0.509885   \n",
      "          video_game        10000.0  1.361972  0.424277  0.55089  0.867596   \n",
      "\n",
      "                                 25%       50%       75%       95%        99%  \\\n",
      "UNIT_SIZE SEED                                                                  \n",
      "2         actor             0.299925  0.348195  0.410420  0.575775   0.851466   \n",
      "          amusement_park    0.165440  0.182375  0.208790  0.329190   1.265943   \n",
      "          band              0.158050  0.183085  0.217305  0.301351   0.450945   \n",
      "          championship      0.172918  0.216715  0.296258  0.454094   0.707581   \n",
      "          chemical_element  0.197050  0.243865  0.309468  0.637053   5.706692   \n",
      "...                              ...       ...       ...       ...        ...   \n",
      "6         scientist         1.416027  1.749730  2.050947  2.547212   2.997335   \n",
      "          sculpture         1.065830  1.364035  3.671308  7.097707  11.908025   \n",
      "          university        0.567240  0.621325  0.746372  0.992565   1.772271   \n",
      "          vehicle           0.588618  0.658910  0.763688  1.034952   1.482444   \n",
      "          video_game        1.066335  1.295565  1.603158  2.034886   2.418116   \n",
      "\n",
      "                                  max  \n",
      "UNIT_SIZE SEED                         \n",
      "2         actor               8.13376  \n",
      "          amusement_park     25.76496  \n",
      "          band                1.47074  \n",
      "          championship       41.56402  \n",
      "          chemical_element   40.73120  \n",
      "...                               ...  \n",
      "6         scientist           6.58086  \n",
      "          sculpture          28.28389  \n",
      "          university         20.64115  \n",
      "          vehicle           169.74308  \n",
      "          video_game         20.81163  \n",
      "\n",
      "[70 rows x 11 columns]\n"
     ]
    }
   ],
   "source": [
    "# NEWKER_COMPUTATION_TIME by \"unit_size\" and \"seed\"\n",
    "\n",
    "_stats = merged.groupby(['UNIT_SIZE', 'SEED'])['NEWKER_COMPUTATION_TIME'].describe(percentiles=[.05, .25, .5, .75, .95, .99])\n",
    "\n",
    "print(_stats)\n",
    "\n",
    "save_path = 'stats/by_seed_and_size/newker_computation_time.csv'\n",
    "\n",
    "_stats.to_csv(save_path, index=True)\n",
    "\n"
   ]
  },
  {
   "cell_type": "code",
   "execution_count": 119,
   "metadata": {},
   "outputs": [
    {
     "name": "stdout",
     "output_type": "stream",
     "text": [
      "              count       mean        std       min         5%        25%  \\\n",
      "UNIT_SIZE                                                                   \n",
      "2          139984.0  13.268932   6.929985   2.01445   6.510295   8.707618   \n",
      "3          140000.0  19.777001   9.111886   4.63524  10.139969  13.086200   \n",
      "4          140000.0  26.918789  11.491716   6.14769  13.675123  17.814273   \n",
      "5          140000.0  34.264258  13.884124   7.93478  17.268370  22.924115   \n",
      "6          139993.0  42.083471  16.602958  10.71694  20.949324  28.500230   \n",
      "\n",
      "                 50%        75%        95%        99%        max  \n",
      "UNIT_SIZE                                                         \n",
      "2          11.444075  16.070028  26.838250  37.946703  209.10736  \n",
      "3          17.597075  24.147960  38.438398  48.451679  154.97580  \n",
      "4          24.439280  33.457635  50.446451  61.155359  143.37021  \n",
      "5          31.855630  42.405630  61.085332  74.535057  149.02774  \n",
      "6          39.787830  51.753520  73.108870  88.591079  256.27743  \n"
     ]
    }
   ],
   "source": [
    "# SUMMARY_COMPUTATION_TIME by \"unit_size\"\n",
    "\n",
    "_stats = merged.groupby('UNIT_SIZE')['SUMMARY_COMPUTATION_TIME'].describe(percentiles=[.05, .25, .5, .75, .95, .99])\n",
    "\n",
    "print(_stats)\n",
    "\n",
    "save_path = 'stats/by_size/summary_computation_time.csv'\n",
    "\n",
    "_stats.to_csv(save_path, index=True)\n",
    "\n"
   ]
  },
  {
   "cell_type": "code",
   "execution_count": 120,
   "metadata": {},
   "outputs": [
    {
     "name": "stdout",
     "output_type": "stream",
     "text": [
      "                    count       mean        std       min         5%  \\\n",
      "SEED                                                                   \n",
      "actor             50000.0  38.093676  17.226446  11.67798  15.179367   \n",
      "amusement_park    49994.0  18.172095   8.986034   5.21446   7.374779   \n",
      "band              50000.0  19.038801   9.627284   5.72073   7.797308   \n",
      "championship      50000.0  24.889154  13.079675   5.53946   8.759839   \n",
      "chemical_element  49996.0  22.395118  13.053897   2.61490   6.257362   \n",
      "company           50000.0  30.926577  16.031113   7.41358  11.014319   \n",
      "comune            50000.0  38.823396  15.796945  14.89825  17.499359   \n",
      "dialect           50000.0  18.672972   9.182207   5.20487   7.825266   \n",
      "film              49989.0  28.969892  14.423943   2.46996   9.854974   \n",
      "scientist         50000.0  43.246551  19.756392   9.81992  16.681786   \n",
      "sculpture         49998.0  24.504066  12.186244   2.01445   9.000577   \n",
      "university        50000.0  21.178005  10.741089   6.06182   8.655897   \n",
      "vehicle           50000.0  22.300824  13.517808   3.14749   6.325277   \n",
      "video_game        50000.0  30.464921  14.246418   6.59874  12.131561   \n",
      "\n",
      "                        25%        50%        75%        95%        99%  \\\n",
      "SEED                                                                      \n",
      "actor             23.688508  36.209610  49.095627  69.646777  83.805583   \n",
      "amusement_park    11.467400  16.630175  22.212857  36.705877  47.082188   \n",
      "band              11.704173  17.240080  23.609013  38.459110  50.090441   \n",
      "championship      14.392335  22.378470  32.612380  50.072454  63.114383   \n",
      "chemical_element  12.276665  19.811255  29.799462  47.473778  61.979666   \n",
      "company           17.973805  28.227180  40.338560  61.257130  76.496032   \n",
      "comune            25.198820  38.088290  48.631633  69.027111  79.527242   \n",
      "dialect           11.759345  17.092370  22.879753  37.884155  47.630710   \n",
      "film              17.606200  27.244010  37.917060  54.728586  70.706577   \n",
      "scientist         26.534562  41.433550  56.379670  78.795780  94.039651   \n",
      "sculpture         14.817663  22.845540  31.618200  47.877816  59.689581   \n",
      "university        12.995090  18.983510  26.314992  42.811922  55.300056   \n",
      "vehicle           12.263330  19.472240  29.207383  47.720693  63.858502   \n",
      "video_game        19.043878  28.547925  39.278785  57.238437  70.214362   \n",
      "\n",
      "                        max  \n",
      "SEED                         \n",
      "actor             149.02774  \n",
      "amusement_park    209.10736  \n",
      "band               89.52503  \n",
      "championship      120.01340  \n",
      "chemical_element  124.00341  \n",
      "company           137.83378  \n",
      "comune            143.01183  \n",
      "dialect           120.74589  \n",
      "film              153.73271  \n",
      "scientist         256.27743  \n",
      "sculpture         119.32730  \n",
      "university        112.37189  \n",
      "vehicle           161.42956  \n",
      "video_game        135.78084  \n"
     ]
    }
   ],
   "source": [
    "# SUMMARY_COMPUTATION_TIME by \"seed\"\n",
    "\n",
    "_stats = merged.groupby('SEED')['SUMMARY_COMPUTATION_TIME'].describe(percentiles=[.05, .25, .5, .75, .95, .99])\n",
    "\n",
    "print(_stats)\n",
    "\n",
    "save_path = 'stats/by_seed/summary_computation_time.csv'\n",
    "\n",
    "_stats.to_csv(save_path, index=True)"
   ]
  },
  {
   "cell_type": "code",
   "execution_count": 121,
   "metadata": {},
   "outputs": [
    {
     "name": "stdout",
     "output_type": "stream",
     "text": [
      "                              count       mean        std       min  \\\n",
      "UNIT_SIZE SEED                                                        \n",
      "2         actor             10000.0  19.219149   6.870779  11.67798   \n",
      "          amusement_park     9994.0   9.316851   4.415514   5.21446   \n",
      "          band              10000.0   9.579670   3.682698   5.72073   \n",
      "          championship      10000.0  11.669131   4.652036   5.53946   \n",
      "          chemical_element   9996.0   9.687139   4.690176   2.61490   \n",
      "...                             ...        ...        ...       ...   \n",
      "6         scientist         10000.0  67.038917  14.181404  39.18931   \n",
      "          sculpture          9998.0  38.086269  10.384484  17.25324   \n",
      "          university        10000.0  32.318961  10.295571  17.59361   \n",
      "          vehicle           10000.0  35.754498  12.499366  10.71694   \n",
      "          video_game        10000.0  47.422706  11.352892  25.30540   \n",
      "\n",
      "                                   5%        25%        50%        75%  \\\n",
      "UNIT_SIZE SEED                                                           \n",
      "2         actor             13.831979  15.179358  16.661615  19.643133   \n",
      "          amusement_park     6.625839   7.374390   8.249695   9.768813   \n",
      "          band               6.872979   7.797260   8.637610   9.969380   \n",
      "          championship       7.223865   8.761555  10.570300  13.119747   \n",
      "          chemical_element   4.916375   6.295083   8.750260  11.687515   \n",
      "...                               ...        ...        ...        ...   \n",
      "6         scientist         49.625162  56.195590  63.931880  76.222690   \n",
      "          sculpture         25.551351  30.977087  35.400440  42.890203   \n",
      "          university        21.625502  24.843280  28.871105  37.526765   \n",
      "          vehicle           19.772025  26.687310  33.404060  42.528238   \n",
      "          video_game        34.322602  39.270738  44.306210  53.416905   \n",
      "\n",
      "                                  95%         99%        max  \n",
      "UNIT_SIZE SEED                                                \n",
      "2         actor             35.243838   42.890402  100.55411  \n",
      "          amusement_park    14.318147   27.909052  209.10736  \n",
      "          band              14.676069   27.953931   37.71759  \n",
      "          championship      19.311159   31.462907   47.71757  \n",
      "          chemical_element  17.344205   29.158643   50.78662  \n",
      "...                               ...         ...        ...  \n",
      "6         scientist         92.294931  107.591565  256.27743  \n",
      "          sculpture         58.416236   68.586909  119.32730  \n",
      "          university        52.831352   63.901530  110.38910  \n",
      "          vehicle           59.080945   72.833738  161.42956  \n",
      "          video_game        68.907998   81.457156  135.78084  \n",
      "\n",
      "[70 rows x 11 columns]\n"
     ]
    }
   ],
   "source": [
    "# SUMMARY_COMPUTATION_TIME by \"unit_size\" and \"seed\"\n",
    "\n",
    "_stats = merged.groupby(['UNIT_SIZE', 'SEED'])['SUMMARY_COMPUTATION_TIME'].describe(percentiles=[.05, .25, .5, .75, .95, .99])\n",
    "\n",
    "print(_stats)\n",
    "\n",
    "save_path = 'stats/by_seed_and_size/summary_computation_time.csv'\n",
    "\n",
    "_stats.to_csv(save_path, index=True)\n",
    "\n"
   ]
  },
  {
   "cell_type": "code",
   "execution_count": 122,
   "metadata": {},
   "outputs": [
    {
     "name": "stdout",
     "output_type": "stream",
     "text": [
      "              count       mean        std       min         5%        25%  \\\n",
      "UNIT_SIZE                                                                   \n",
      "2          139984.0  64.117369  55.582374   3.11341  12.983864  24.594787   \n",
      "3          140000.0  71.292891  55.939034   7.10278  19.249941  29.164278   \n",
      "4          140000.0  79.118885  56.396173   8.87356  23.728467  34.430620   \n",
      "5          140000.0  86.778058  57.021400  10.38841  28.184151  39.471540   \n",
      "6          139993.0  94.598095  57.661279  12.01398  33.035158  44.649760   \n",
      "\n",
      "                 50%         75%         95%         99%        max  \n",
      "UNIT_SIZE                                                            \n",
      "2          33.836790  102.194077  166.701765  177.818049  718.72925  \n",
      "3          40.672160  110.665568  173.975232  186.723533  285.89505  \n",
      "4          48.766010  120.866913  181.189428  195.027471  306.39174  \n",
      "5          57.582415  132.263665  188.270320  204.268934  308.79824  \n",
      "6          67.662730  143.993970  195.523576  213.325232  341.18173  \n"
     ]
    }
   ],
   "source": [
    "# SUMMARY_TILDE_COMPUTATION_TIME by \"unit_size\"\n",
    "\n",
    "_stats = merged.groupby('UNIT_SIZE')['SUMMARY_TILDE_COMPUTATION_TIME'].describe(percentiles=[.05, .25, .5, .75, .95, .99])\n",
    "\n",
    "print(_stats)\n",
    "\n",
    "save_path = 'stats/by_size/summary_tilde_computation_time.csv'\n",
    "\n",
    "_stats.to_csv(save_path, index=True)\n",
    "\n"
   ]
  },
  {
   "cell_type": "code",
   "execution_count": 123,
   "metadata": {},
   "outputs": [
    {
     "name": "stdout",
     "output_type": "stream",
     "text": [
      "                    count        mean        std        min          5%  \\\n",
      "SEED                                                                      \n",
      "actor             50000.0  177.134266  13.109933  153.50990  160.326251   \n",
      "amusement_park    49994.0   30.701917  11.566433   16.39607   18.834202   \n",
      "band              50000.0   43.743840  25.802245   22.35943   25.896002   \n",
      "championship      50000.0   74.940966  43.199874   21.66335   25.715423   \n",
      "chemical_element  49996.0   76.480230  43.963212    4.11292   10.484310   \n",
      "company           50000.0   92.637959  36.871931   36.98639   56.431975   \n",
      "comune            50000.0  158.418638   9.433251  141.55994  146.128531   \n",
      "dialect           50000.0   35.826703  10.584148   20.10370   25.665727   \n",
      "film              49989.0   41.657512  22.471312    7.77180   16.298644   \n",
      "scientist         50000.0  176.114565  21.811077   41.25016  134.986789   \n",
      "sculpture         49998.0   38.721758  18.863308    3.11341   19.113565   \n",
      "university        50000.0   50.059349  26.628274   27.80776   31.116195   \n",
      "vehicle           50000.0   56.280535  42.871374    6.82844   11.457147   \n",
      "video_game        50000.0   55.803351  15.067780   32.39294   38.477659   \n",
      "\n",
      "                         25%         50%         75%         95%         99%  \\\n",
      "SEED                                                                           \n",
      "actor             167.830782  175.371625  183.962865  199.596115  218.766907   \n",
      "amusement_park     22.914458   28.062840   35.944285   49.314189   67.006840   \n",
      "band               30.232138   35.273810   42.491080  115.051650  131.075305   \n",
      "championship       34.013638   49.699425  117.682427  135.033470  149.676569   \n",
      "chemical_element   25.469760   93.989760  110.511675  131.293585  150.236678   \n",
      "company            67.054875   78.574390  101.449595  167.441452  187.643377   \n",
      "comune            151.596580  157.500220  163.382107  174.450771  188.380752   \n",
      "dialect            30.094793   34.376190   39.062390   48.158444  100.191778   \n",
      "film               27.132930   38.096780   49.726860   78.043584  133.682552   \n",
      "scientist         164.587257  176.999835  189.917892  208.514751  227.066164   \n",
      "sculpture          27.055623   35.472720   45.155380   64.716275  125.681503   \n",
      "university         35.981905   41.670425   49.368907  124.147115  141.467432   \n",
      "vehicle            21.245313   34.852305  101.708635  128.325686  146.587723   \n",
      "video_game         45.251993   53.540925   62.749048   79.939028  117.018324   \n",
      "\n",
      "                        max  \n",
      "SEED                         \n",
      "actor             317.65074  \n",
      "amusement_park    718.72925  \n",
      "band              215.10787  \n",
      "championship      228.22869  \n",
      "chemical_element  264.87857  \n",
      "company           282.13353  \n",
      "comune            272.52809  \n",
      "dialect           162.48529  \n",
      "film              221.58825  \n",
      "scientist         341.18173  \n",
      "sculpture         187.28889  \n",
      "university        231.98845  \n",
      "vehicle           240.63144  \n",
      "video_game        224.35613  \n"
     ]
    }
   ],
   "source": [
    "#   SUMMARY_TILDE_COMPUTATION_TIME by \"seed\"\n",
    "\n",
    "_stats = merged.groupby('SEED')['SUMMARY_TILDE_COMPUTATION_TIME'].describe(percentiles=[.05, .25, .5, .75, .95, .99])\n",
    "\n",
    "print(_stats)\n",
    "\n",
    "save_path = 'stats/by_seed/summary_tilde_computation_time.csv'\n",
    "\n",
    "_stats.to_csv(save_path, index=True)\n",
    "\n"
   ]
  },
  {
   "cell_type": "code",
   "execution_count": 124,
   "metadata": {},
   "outputs": [
    {
     "name": "stdout",
     "output_type": "stream",
     "text": [
      "                              count        mean        std        min  \\\n",
      "UNIT_SIZE SEED                                                          \n",
      "2         actor             10000.0  164.835880   7.846219  153.50990   \n",
      "          amusement_park     9994.0   22.979809  10.827044   16.39607   \n",
      "          band              10000.0   32.275512  17.196473   22.35943   \n",
      "          championship      10000.0   50.899670  36.218960   21.66335   \n",
      "          chemical_element   9996.0   47.053465  40.169875    4.11292   \n",
      "...                             ...         ...        ...        ...   \n",
      "6         scientist         10000.0  189.330562  22.054067  128.05502   \n",
      "          sculpture          9998.0   52.631015  19.812152   17.26822   \n",
      "          university        10000.0   62.962401  31.480045   34.46825   \n",
      "          vehicle           10000.0   81.364195  44.255550   12.61159   \n",
      "          video_game        10000.0   69.976111  14.511109   45.34329   \n",
      "\n",
      "                                    5%         25%         50%         75%  \\\n",
      "UNIT_SIZE SEED                                                               \n",
      "2         actor             156.805316  160.431825  163.293295  166.993848   \n",
      "          amusement_park     17.869612   18.851792   20.089385   24.180682   \n",
      "          band               24.525224   25.995942   27.704685   30.493478   \n",
      "          championship       23.687244   26.112428   30.086725   97.200537   \n",
      "          chemical_element    8.646995   10.898015   20.459805   87.357332   \n",
      "...                                ...         ...         ...         ...   \n",
      "6         scientist         149.369266  176.629008  193.488000  202.528980   \n",
      "          sculpture          34.763236   42.651648   48.332825   55.315405   \n",
      "          university         40.783375   45.607438   50.525580   58.996913   \n",
      "          vehicle            27.444916   38.459823   65.224060  122.876958   \n",
      "          video_game         55.977137   61.581535   66.687670   74.052827   \n",
      "\n",
      "                                   95%         99%        max  \n",
      "UNIT_SIZE SEED                                                 \n",
      "2         actor             177.413869  194.998663  268.50145  \n",
      "          amusement_park     34.345940   62.758553  718.72925  \n",
      "          band               55.640740  108.280660  191.29836  \n",
      "          championship      110.762844  145.776836  191.99216  \n",
      "          chemical_element  107.341150  127.960151  218.39752  \n",
      "...                                ...         ...        ...  \n",
      "6         scientist         219.775759  239.421910  341.18173  \n",
      "          sculpture          81.504802  137.703864  179.83776  \n",
      "          university        137.685362  151.675825  231.06945  \n",
      "          vehicle           141.896476  160.032265  240.63144  \n",
      "          video_game         92.570219  144.248657  224.35613  \n",
      "\n",
      "[70 rows x 11 columns]\n"
     ]
    }
   ],
   "source": [
    "# SUMMARY_TILDE_COMPUTATION_TIME by \"unit_size\" and \"seed\"\n",
    "\n",
    "_stats = merged.groupby(['UNIT_SIZE', 'SEED'])['SUMMARY_TILDE_COMPUTATION_TIME'].describe(percentiles=[.05, .25, .5, .75, .95, .99])\n",
    "\n",
    "print(_stats)\n",
    "\n",
    "save_path = 'stats/by_seed_and_size/summary_tilde_computation_time.csv'\n",
    "\n",
    "_stats.to_csv(save_path, index=True)\n",
    "\n"
   ]
  },
  {
   "cell_type": "code",
   "execution_count": null,
   "metadata": {},
   "outputs": [],
   "source": []
  },
  {
   "cell_type": "markdown",
   "metadata": {},
   "source": [
    "### Maximums"
   ]
  },
  {
   "cell_type": "code",
   "execution_count": 125,
   "metadata": {},
   "outputs": [
    {
     "name": "stderr",
     "output_type": "stream",
     "text": [
      "/tmp/ipykernel_92201/1848100146.py:19: FutureWarning: The behavior of DataFrame concatenation with empty or all-NA entries is deprecated. In a future version, this will no longer exclude empty or all-NA columns when determining the result dtypes. To retain the old behavior, exclude the relevant entries before the concat operation.\n",
      "  _my_table = pd.concat([_my_table, pd.DataFrame([_row])])\n"
     ]
    }
   ],
   "source": [
    "# create a new dataframe\n",
    "_my_table = pd.DataFrame(columns=['SEED'] + SIZES + ['OVERALL'])\n",
    "\n",
    "# for each seed\n",
    "for _seed in SEEDS:\n",
    "  # create a new row\n",
    "  _row = {'SEED': _seed}\n",
    "  # for each size\n",
    "  for _size in SIZES:\n",
    "    # get the maximum value of newker_computation_time for the given seed and size\n",
    "    _val = merged[(merged['SEED'] == _seed) & (merged['UNIT_SIZE'] == _size)]['NEWKER_COMPUTATION_TIME'].max()\n",
    "    # add the value to the row\n",
    "    _row[_size] = _val\n",
    "  # get the maximum value of newker_computation_time for the given seed and overall\n",
    "  _val = merged[merged['SEED'] == _seed]['NEWKER_COMPUTATION_TIME'].max()\n",
    "  # add the value to the row\n",
    "  _row['OVERALL'] = _val\n",
    "  # add the row to the dataframe\n",
    "  _my_table = pd.concat([_my_table, pd.DataFrame([_row])])\n",
    "\n",
    "\n",
    "\n",
    "\n",
    "# write the dataframe to a file\n",
    "\n",
    "save_path = 'tables/max_newker_computation_time.csv'\n",
    "\n",
    "_my_table.to_csv(save_path, index=False)"
   ]
  },
  {
   "cell_type": "code",
   "execution_count": 126,
   "metadata": {},
   "outputs": [
    {
     "name": "stderr",
     "output_type": "stream",
     "text": [
      "/tmp/ipykernel_92201/3531993091.py:23: FutureWarning: The behavior of DataFrame concatenation with empty or all-NA entries is deprecated. In a future version, this will no longer exclude empty or all-NA columns when determining the result dtypes. To retain the old behavior, exclude the relevant entries before the concat operation.\n",
      "  _my_table = pd.concat([_my_table, pd.DataFrame([_row])])\n"
     ]
    }
   ],
   "source": [
    "# i want to create a new dataframe having each seed as row, and each unit_size + overall as columns\n",
    "\n",
    "# the values are the maximum newker_computation_time for each seed, unit_size and overall\n",
    "\n",
    "# create a new dataframe\n",
    "_my_table = pd.DataFrame(columns=['SEED'] + SIZES + ['OVERALL'])\n",
    "\n",
    "# for each seed\n",
    "for _seed in SEEDS:\n",
    "  # create a new row\n",
    "  _row = {'SEED': _seed}\n",
    "  # for each size\n",
    "  for _size in SIZES:\n",
    "    # get the maximum value of newker_computation_time for the given seed and size\n",
    "    _val = merged[(merged['SEED'] == _seed) & (merged['UNIT_SIZE'] == _size)]['NEWCORE_COMPUTATION_TIME'].max()\n",
    "    # add the value to the row\n",
    "    _row[_size] = _val\n",
    "  # get the maximum value of newker_computation_time for the given seed and overall\n",
    "  _val = merged[merged['SEED'] == _seed]['NEWCORE_COMPUTATION_TIME'].max()\n",
    "  # add the value to the row\n",
    "  _row['OVERALL'] = _val\n",
    "  # add the row to the dataframe\n",
    "  _my_table = pd.concat([_my_table, pd.DataFrame([_row])])\n",
    "\n",
    "\n",
    "\n",
    "\n",
    "# write the dataframe to a file\n",
    "\n",
    "save_path = 'tables/max_newcore_computation_time.csv'\n",
    "\n",
    "_my_table.to_csv(save_path, index=False)"
   ]
  },
  {
   "cell_type": "code",
   "execution_count": 127,
   "metadata": {},
   "outputs": [
    {
     "name": "stderr",
     "output_type": "stream",
     "text": [
      "/tmp/ipykernel_92201/516987305.py:24: FutureWarning: The behavior of DataFrame concatenation with empty or all-NA entries is deprecated. In a future version, this will no longer exclude empty or all-NA columns when determining the result dtypes. To retain the old behavior, exclude the relevant entries before the concat operation.\n",
      "  _my_table = pd.concat([_my_table, pd.DataFrame([_row])])\n"
     ]
    }
   ],
   "source": [
    "# i want to create a new dataframe having each seed as row, and each unit_size + overall as columns\n",
    "\n",
    "# the values are the maximum newker_computation_time for each seed, unit_size and overall\n",
    "\n",
    "\n",
    "# create a new dataframe\n",
    "_my_table = pd.DataFrame(columns=['SEED'] + SIZES + ['OVERALL'])\n",
    "\n",
    "# for each seed\n",
    "for _seed in SEEDS:\n",
    "  # create a new row\n",
    "  _row = {'SEED': _seed}\n",
    "  # for each size\n",
    "  for _size in SIZES:\n",
    "    # get the maximum value of newker_computation_time for the given seed and size\n",
    "    _val = merged[(merged['SEED'] == _seed) & (merged['UNIT_SIZE'] == _size)]['OLDKER_COMPUTATION_TIME_FIX'].max()\n",
    "    # add the value to the row\n",
    "    _row[_size] = _val\n",
    "  # get the maximum value of newker_computation_time for the given seed and overall\n",
    "  _val = merged[merged['SEED'] == _seed]['OLDKER_COMPUTATION_TIME_FIX'].max()\n",
    "  # add the value to the row\n",
    "  _row['OVERALL'] = _val\n",
    "  # add the row to the dataframe\n",
    "  _my_table = pd.concat([_my_table, pd.DataFrame([_row])])\n",
    "\n",
    "\n",
    "\n",
    "\n",
    "# write the dataframe to a file\n",
    "\n",
    "save_path = 'tables/max_oldker_computation_time.csv'\n",
    "\n",
    "_my_table.to_csv(save_path, index=False)"
   ]
  },
  {
   "cell_type": "code",
   "execution_count": 128,
   "metadata": {},
   "outputs": [
    {
     "name": "stdout",
     "output_type": "stream",
     "text": [
      "Requirement already satisfied: matplotlib in /home/derek/git/neXSim-core-ker-experiments/venv/lib/python3.10/site-packages (3.9.2)\n",
      "Requirement already satisfied: packaging>=20.0 in /home/derek/git/neXSim-core-ker-experiments/venv/lib/python3.10/site-packages (from matplotlib) (24.1)\n",
      "Requirement already satisfied: contourpy>=1.0.1 in /home/derek/git/neXSim-core-ker-experiments/venv/lib/python3.10/site-packages (from matplotlib) (1.3.0)\n",
      "Requirement already satisfied: kiwisolver>=1.3.1 in /home/derek/git/neXSim-core-ker-experiments/venv/lib/python3.10/site-packages (from matplotlib) (1.4.7)\n",
      "Requirement already satisfied: numpy>=1.23 in /home/derek/git/neXSim-core-ker-experiments/venv/lib/python3.10/site-packages (from matplotlib) (2.1.2)\n",
      "Requirement already satisfied: pyparsing>=2.3.1 in /home/derek/git/neXSim-core-ker-experiments/venv/lib/python3.10/site-packages (from matplotlib) (3.1.4)\n",
      "Requirement already satisfied: pillow>=8 in /home/derek/git/neXSim-core-ker-experiments/venv/lib/python3.10/site-packages (from matplotlib) (10.4.0)\n",
      "Requirement already satisfied: python-dateutil>=2.7 in /home/derek/git/neXSim-core-ker-experiments/venv/lib/python3.10/site-packages (from matplotlib) (2.9.0.post0)\n",
      "Requirement already satisfied: cycler>=0.10 in /home/derek/git/neXSim-core-ker-experiments/venv/lib/python3.10/site-packages (from matplotlib) (0.12.1)\n",
      "Requirement already satisfied: fonttools>=4.22.0 in /home/derek/git/neXSim-core-ker-experiments/venv/lib/python3.10/site-packages (from matplotlib) (4.54.1)\n",
      "Requirement already satisfied: six>=1.5 in /home/derek/git/neXSim-core-ker-experiments/venv/lib/python3.10/site-packages (from python-dateutil>=2.7->matplotlib) (1.16.0)\n"
     ]
    }
   ],
   "source": [
    "! pip install matplotlib"
   ]
  },
  {
   "cell_type": "code",
   "execution_count": 129,
   "metadata": {},
   "outputs": [
    {
     "name": "stderr",
     "output_type": "stream",
     "text": [
      "/tmp/ipykernel_92201/3452842588.py:23: FutureWarning: The behavior of DataFrame concatenation with empty or all-NA entries is deprecated. In a future version, this will no longer exclude empty or all-NA columns when determining the result dtypes. To retain the old behavior, exclude the relevant entries before the concat operation.\n",
      "  _my_table = pd.concat([_my_table, pd.DataFrame([_row])])\n"
     ]
    }
   ],
   "source": [
    "# i want to create a new dataframe having each seed as row, and each unit_size + overall as columns\n",
    "\n",
    "# the values are the maximum newker_computation_time for each seed, unit_size and overall\n",
    "\n",
    "# create a new dataframe\n",
    "_my_table = pd.DataFrame(columns=['SEED'] + SIZES + ['OVERALL'])\n",
    "\n",
    "# for each seed\n",
    "for _seed in SEEDS:\n",
    "  # create a new row\n",
    "  _row = {'SEED': _seed}\n",
    "  # for each size\n",
    "  for _size in SIZES:\n",
    "    # get the maximum value of newker_computation_time for the given seed and size\n",
    "    _val = merged[(merged['SEED'] == _seed) & (merged['UNIT_SIZE'] == _size)]['SUMMARY_COMPUTATION_TIME'].max()\n",
    "    # add the value to the row\n",
    "    _row[_size] = _val\n",
    "  # get the maximum value of newker_computation_time for the given seed and overall\n",
    "  _val = merged[merged['SEED'] == _seed]['SUMMARY_COMPUTATION_TIME'].max()\n",
    "  # add the value to the row\n",
    "  _row['OVERALL'] = _val\n",
    "  # add the row to the dataframe\n",
    "  _my_table = pd.concat([_my_table, pd.DataFrame([_row])])\n",
    "\n",
    "\n",
    "\n",
    "\n",
    "# write the dataframe to a file\n",
    "\n",
    "save_path = 'tables/max_summary_computation_time.csv'\n",
    "\n",
    "_my_table.to_csv(save_path, index=False)"
   ]
  },
  {
   "cell_type": "code",
   "execution_count": 130,
   "metadata": {},
   "outputs": [
    {
     "name": "stderr",
     "output_type": "stream",
     "text": [
      "/tmp/ipykernel_92201/1768936400.py:23: FutureWarning: The behavior of DataFrame concatenation with empty or all-NA entries is deprecated. In a future version, this will no longer exclude empty or all-NA columns when determining the result dtypes. To retain the old behavior, exclude the relevant entries before the concat operation.\n",
      "  _my_table = pd.concat([_my_table, pd.DataFrame([_row])])\n"
     ]
    }
   ],
   "source": [
    "# i want to create a new dataframe having each seed as row, and each unit_size + overall as columns\n",
    "\n",
    "# the values are the maximum newker_computation_time for each seed, unit_size and overall\n",
    "\n",
    "# create a new dataframe\n",
    "_my_table = pd.DataFrame(columns=['SEED'] + SIZES + ['OVERALL'])\n",
    "\n",
    "# for each seed\n",
    "for _seed in SEEDS:\n",
    "  # create a new row\n",
    "  _row = {'SEED': _seed}\n",
    "  # for each size\n",
    "  for _size in SIZES:\n",
    "    # get the maximum value of newker_computation_time for the given seed and size\n",
    "    _val = merged[(merged['SEED'] == _seed) & (merged['UNIT_SIZE'] == _size)]['SUMMARY_TILDE_COMPUTATION_TIME'].max()\n",
    "    # add the value to the row\n",
    "    _row[_size] = _val\n",
    "  # get the maximum value of newker_computation_time for the given seed and overall\n",
    "  _val = merged[merged['SEED'] == _seed]['SUMMARY_TILDE_COMPUTATION_TIME'].max()\n",
    "  # add the value to the row\n",
    "  _row['OVERALL'] = _val\n",
    "  # add the row to the dataframe\n",
    "  _my_table = pd.concat([_my_table, pd.DataFrame([_row])])\n",
    "\n",
    "\n",
    "\n",
    "\n",
    "# write the dataframe to a file\n",
    "\n",
    "save_path = 'tables/max_summary_tilde_computation_time.csv'\n",
    "\n",
    "_my_table.to_csv(save_path, index=False)"
   ]
  },
  {
   "cell_type": "code",
   "execution_count": 131,
   "metadata": {},
   "outputs": [
    {
     "name": "stderr",
     "output_type": "stream",
     "text": [
      "/tmp/ipykernel_92201/2458003217.py:23: FutureWarning: The behavior of DataFrame concatenation with empty or all-NA entries is deprecated. In a future version, this will no longer exclude empty or all-NA columns when determining the result dtypes. To retain the old behavior, exclude the relevant entries before the concat operation.\n",
      "  _my_table = pd.concat([_my_table, pd.DataFrame([_row])])\n"
     ]
    }
   ],
   "source": [
    "# I want the tables of the maximums for the new columns\n",
    "\n",
    "# i want to create a new dataframe having each seed as row, and each unit_size + overall as columns\n",
    "\n",
    "# the values are the maximum newker_computation_time for each seed, unit_size and overall\n",
    "\n",
    "# create a new dataframe\n",
    "\n",
    "_my_table = pd.DataFrame(columns=['SEED'] + SIZES + ['OVERALL'])\n",
    "\n",
    "# for each seed\n",
    "\n",
    "for _seed in SEEDS:\n",
    "  _row = {'SEED': _seed}\n",
    "  for _size in SIZES:\n",
    "    _val = merged[(merged['SEED'] == _seed) & (merged['UNIT_SIZE'] == _size)]['SUMMARY_NEWCORE_COMPUTATION_TIME'].max()\n",
    "    _row[_size] = _val\n",
    "\n",
    "  _val = merged[merged['SEED'] == _seed]['SUMMARY_NEWCORE_COMPUTATION_TIME'].max()\n",
    "\n",
    "  _row['OVERALL'] = _val\n",
    "\n",
    "  _my_table = pd.concat([_my_table, pd.DataFrame([_row])])\n",
    "\n",
    "# write the dataframe to a file\n",
    "\n",
    "save_path = 'tables/max_summary_newcore_computation_time.csv'\n",
    "\n",
    "_my_table.to_csv(save_path, index=False)\n"
   ]
  },
  {
   "cell_type": "code",
   "execution_count": 132,
   "metadata": {},
   "outputs": [
    {
     "name": "stderr",
     "output_type": "stream",
     "text": [
      "/tmp/ipykernel_92201/214224614.py:23: FutureWarning: The behavior of DataFrame concatenation with empty or all-NA entries is deprecated. In a future version, this will no longer exclude empty or all-NA columns when determining the result dtypes. To retain the old behavior, exclude the relevant entries before the concat operation.\n",
      "  _my_table = pd.concat([_my_table, pd.DataFrame([_row])])\n"
     ]
    }
   ],
   "source": [
    "# I want the tables of the maximums for the new columns\n",
    "\n",
    "# i want to create a new dataframe having each seed as row, and each unit_size + overall as columns\n",
    "\n",
    "# the values are the maximum newker_computation_time for each seed, unit_size and overall\n",
    "\n",
    "# create a new dataframe\n",
    "\n",
    "_my_table = pd.DataFrame(columns=['SEED'] + SIZES + ['OVERALL'])\n",
    "\n",
    "# for each seed\n",
    "\n",
    "for _seed in SEEDS:\n",
    "  _row = {'SEED': _seed}\n",
    "  for _size in SIZES:\n",
    "    _val = merged[(merged['SEED'] == _seed) & (merged['UNIT_SIZE'] == _size)]['SUMMARY_NEWKER_COMPUTATION_TIME'].max()\n",
    "    _row[_size] = _val\n",
    "\n",
    "  _val = merged[merged['SEED'] == _seed]['SUMMARY_NEWKER_COMPUTATION_TIME'].max()\n",
    "\n",
    "  _row['OVERALL'] = _val\n",
    "\n",
    "  _my_table = pd.concat([_my_table, pd.DataFrame([_row])])\n",
    "\n",
    "# write the dataframe to a file\n",
    "\n",
    "save_path = 'tables/max_summary_newker_computation_time.csv'\n",
    "\n",
    "_my_table.to_csv(save_path, index=False)\n"
   ]
  },
  {
   "cell_type": "code",
   "execution_count": 133,
   "metadata": {},
   "outputs": [
    {
     "name": "stderr",
     "output_type": "stream",
     "text": [
      "/tmp/ipykernel_92201/3514863268.py:23: FutureWarning: The behavior of DataFrame concatenation with empty or all-NA entries is deprecated. In a future version, this will no longer exclude empty or all-NA columns when determining the result dtypes. To retain the old behavior, exclude the relevant entries before the concat operation.\n",
      "  _my_table = pd.concat([_my_table, pd.DataFrame([_row])])\n"
     ]
    }
   ],
   "source": [
    "# I want the tables of the maximums for the new columns\n",
    "\n",
    "# i want to create a new dataframe having each seed as row, and each unit_size + overall as columns\n",
    "\n",
    "# the values are the maximum newker_computation_time for each seed, unit_size and overall\n",
    "\n",
    "# create a new dataframe\n",
    "\n",
    "_my_table = pd.DataFrame(columns=['SEED'] + SIZES + ['OVERALL'])\n",
    "\n",
    "# for each seed\n",
    "\n",
    "for _seed in SEEDS:\n",
    "  _row = {'SEED': _seed}\n",
    "  for _size in SIZES:\n",
    "    _val = merged[(merged['SEED'] == _seed) & (merged['UNIT_SIZE'] == _size)]['SUMMARY_OLDKER_COMPUTATION_TIME'].max()\n",
    "    _row[_size] = _val\n",
    "\n",
    "  _val = merged[merged['SEED'] == _seed]['SUMMARY_OLDKER_COMPUTATION_TIME'].max()\n",
    "\n",
    "  _row['OVERALL'] = _val\n",
    "\n",
    "  _my_table = pd.concat([_my_table, pd.DataFrame([_row])])\n",
    "\n",
    "# write the dataframe to a file\n",
    "\n",
    "save_path = 'tables/max_summary_oldker_computation_time.csv'\n",
    "\n",
    "_my_table.to_csv(save_path, index=False)\n"
   ]
  },
  {
   "cell_type": "code",
   "execution_count": 134,
   "metadata": {},
   "outputs": [],
   "source": [
    "# in overall, i want the 100 less values of newker_computation_time\n",
    "\n",
    "\n",
    "_sorted_newker = merged['NEWKER_COMPUTATION_TIME'].nsmallest(699986)\n",
    "\n",
    "# sort the values in ascending order\n",
    "\n",
    "_sorted_newker = _sorted_newker.sort_values()\n",
    "\n",
    "_sums_newker = []\n",
    "sum = 0\n",
    "for _element in _sorted_newker:\n",
    "  sum += _element\n",
    "  _sums_newker.append(sum)\n",
    "\n",
    "# same for oldker_computation_time\n",
    "\n",
    "_sorted_oldker = merged['OLDKER_COMPUTATION_TIME_FIX'].nsmallest(699986)\n",
    "\n",
    "# sort the values in ascending order\n",
    "\n",
    "_sorted_oldker = _sorted_oldker.sort_values()\n",
    "\n",
    "_sums_oldker = []\n",
    "\n",
    "sum = 0\n",
    "for _element in _sorted_oldker:\n",
    "  sum += _element\n",
    "  _sums_oldker.append(sum)\n",
    "\n",
    "_\n",
    "\n",
    "# same for newcore_computation_time\n",
    "\n",
    "_sorted_newcore = merged['NEWCORE_COMPUTATION_TIME'].nsmallest(699986)\n",
    "\n",
    "\n",
    "# sort the values in ascending order\n",
    "\n",
    "_sorted_newcore = _sorted_newcore.sort_values()\n",
    "\n",
    "_sums_newcore = []\n",
    "\n",
    "sum = 0\n",
    "\n",
    "for _element in _sorted_newcore:\n",
    "  sum += _element\n",
    "  _sums_newcore.append(sum)\n",
    "\n",
    "\n",
    "\n",
    "\n",
    "_sorted_newcore_summary = merged['SUMMARY_NEWCORE_COMPUTATION_TIME'].nsmallest(699986)\n",
    "\n",
    "# sort the values in ascending order\n",
    "\n",
    "_sorted_newcore_summary = _sorted_newcore_summary.sort_values()\n",
    "\n",
    "_sums_newcore_summary = []\n",
    "\n",
    "sum = 0\n",
    "\n",
    "for _element in _sorted_newcore_summary:\n",
    "  sum += _element\n",
    "  _sums_newcore_summary.append(sum)\n",
    "\n",
    "\n",
    "_sorted_newker_summary = merged['SUMMARY_NEWKER_COMPUTATION_TIME'].nsmallest(699986)\n",
    "\n",
    "# sort the values in ascending order\n",
    "\n",
    "_sorted_newker_summary = _sorted_newker_summary.sort_values()\n",
    "\n",
    "_sums_newker_summary = []\n",
    "\n",
    "sum = 0\n",
    "\n",
    "for _element in _sorted_newker_summary:\n",
    "  sum += _element\n",
    "  _sums_newker_summary.append(sum)\n",
    "\n",
    "\n",
    "\n",
    "_sorted_oldker_summary = merged['SUMMARY_OLDKER_COMPUTATION_TIME'].nsmallest(699986)\n",
    "\n",
    "# sort the values in ascending order\n",
    "\n",
    "_sorted_oldker_summary = _sorted_oldker_summary.sort_values()\n",
    "\n",
    "_sums_oldker_summary = []\n",
    "\n",
    "sum = 0\n",
    "\n",
    "for _element in _sorted_oldker_summary:\n",
    "  sum += _element\n",
    "  _sums_oldker_summary.append(sum)\n",
    "\n",
    "\n",
    "\n",
    "_sorted_summary = merged['SUMMARY_COMPUTATION_TIME'].nsmallest(699986)\n",
    "\n",
    "# sort the values in ascending order\n",
    "\n",
    "_sorted_summary = _sorted_summary.sort_values()\n",
    "\n",
    "_sums_summary = []\n",
    "\n",
    "sum = 0\n",
    "\n",
    "for _element in _sorted_summary:\n",
    "  sum += _element\n",
    "  _sums_summary.append(sum)\n",
    "\n",
    "\n",
    "\n",
    "_sorted_tilde = merged['SUMMARY_TILDE_COMPUTATION_TIME'].nsmallest(699986)\n",
    "\n",
    "# sort the values in ascending order\n",
    "\n",
    "_sorted_tilde = _sorted_tilde.sort_values()\n",
    "\n",
    "_sums_tilde = []\n",
    "\n",
    "sum = 0\n",
    "\n",
    "for _element in _sorted_tilde:\n",
    "  sum += _element\n",
    "  _sums_tilde.append(sum)\n",
    "\n",
    "\n",
    "\n",
    "\n",
    "\n",
    "\n",
    "\n",
    "  \n"
   ]
  },
  {
   "cell_type": "code",
   "execution_count": 135,
   "metadata": {},
   "outputs": [
    {
     "data": {
      "image/png": "[encoded data removed]",
      "text/plain": [
       "<Figure size 640x480 with 1 Axes>"
      ]
     },
     "metadata": {},
     "output_type": "display_data"
    }
   ],
   "source": [
    "# cactus plot\n",
    "\n",
    "import matplotlib.pyplot as plt\n",
    "\n",
    "# create a new figure\n",
    "\n",
    "plt.figure()\n",
    "\n",
    "\n",
    "# plot the hundred best values of newker_computation_time\n",
    "\n",
    "plt.plot(_sums_newker, label='newker_computation_time')\n",
    "\n",
    "# plot the hundred best values of oldker_computation_time\n",
    "\n",
    "#plt.plot(_sums_oldker, label='oldker_computation_time')\n",
    "\n",
    "# plot the hundred best values of newcore_computation_time\n",
    "\n",
    "plt.plot(_sums_newcore, label='newcore_computation_time')\n",
    "\n",
    "# add a legend\n",
    "\n",
    "plt.legend()\n",
    "\n",
    "# save the figure\n",
    "\n",
    "save_path = 'plots/cactus_plot.png'\n",
    "\n",
    "plt.savefig(save_path)\n"
   ]
  },
  {
   "cell_type": "code",
   "execution_count": 136,
   "metadata": {},
   "outputs": [
    {
     "data": {
      "image/png": "[encoded data removed]",
      "text/plain": [
       "<Figure size 640x480 with 1 Axes>"
      ]
     },
     "metadata": {},
     "output_type": "display_data"
    }
   ],
   "source": [
    "# cactus plot\n",
    "\n",
    "import matplotlib.pyplot as plt\n",
    "\n",
    "# create a new figure\n",
    "\n",
    "plt.figure()\n",
    "\n",
    "\n",
    "# plot the hundred best values of newker_computation_time\n",
    "\n",
    "plt.plot(_sums_newker_summary, label='newker_computation_time')\n",
    "\n",
    "# plot the hundred best values of oldker_computation_time\n",
    "\n",
    "#plt.plot(_sums_oldker_summary, label='oldker_computation_time')\n",
    "\n",
    "# plot the hundred best values of newcore_computation_time\n",
    "\n",
    "plt.plot(_sums_newcore_summary, label='newcore_computation_time')\n",
    "\n",
    "# add a legend\n",
    "\n",
    "plt.legend()\n",
    "\n",
    "# save the figure\n",
    "\n",
    "save_path = 'plots/cactus_plot_with_summary.png'\n",
    "\n",
    "plt.savefig(save_path)\n"
   ]
  },
  {
   "cell_type": "code",
   "execution_count": 138,
   "metadata": {},
   "outputs": [
    {
     "name": "stdout",
     "output_type": "stream",
     "text": [
      "699977\n"
     ]
    }
   ],
   "source": [
    "# print len of _sorted_summary\n",
    "\n",
    "print(len(_sorted_summary))"
   ]
  },
  {
   "cell_type": "code",
   "execution_count": 139,
   "metadata": {},
   "outputs": [
    {
     "data": {
      "image/png": "[encoded data removed]",
      "text/plain": [
       "<Figure size 640x480 with 1 Axes>"
      ]
     },
     "metadata": {},
     "output_type": "display_data"
    }
   ],
   "source": [
    "# cactus plot\n",
    "\n",
    "import matplotlib.pyplot as plt\n",
    "\n",
    "# create a new figure\n",
    "\n",
    "plt.figure()\n",
    "\n",
    "# the x axis is the number of elements in _sorted_summary\n",
    "\n",
    "x = range(len(_sorted_summary))\n",
    "\n",
    "\n",
    "\n",
    "# the y goes in log scale\n",
    "\n",
    "\n",
    "\n",
    "\n",
    "\n",
    "# plot the hundred best values of newker_computation_time\n",
    "\n",
    "#plt.plot(_sorted_summary, label='summary')\n",
    "\n",
    "# plot the hundred best values of oldker_computation_time\n",
    "\n",
    "plt.plot(x,_sorted_tilde, label='summary tilde')\n",
    "plt.plot(x, _sorted_summary, label='summary')\n",
    "\n",
    "# add a legend\n",
    "\n",
    "plt.legend()\n",
    "\n",
    "# save the figure\n",
    "\n",
    "save_path = 'plots/cactus_plot_only_summary.png'\n",
    "\n",
    "plt.savefig(save_path)\n"
   ]
  }
 ],
 "metadata": {
  "kernelspec": {
   "display_name": "venv",
   "language": "python",
   "name": "python3"
  },
  "language_info": {
   "codemirror_mode": {
    "name": "ipython",
    "version": 3
   },
   "file_extension": ".py",
   "mimetype": "text/x-python",
   "name": "python",
   "nbconvert_exporter": "python",
   "pygments_lexer": "ipython3",
   "version": "3.10.12"
  }
 },
 "nbformat": 4,
 "nbformat_minor": 2
}
