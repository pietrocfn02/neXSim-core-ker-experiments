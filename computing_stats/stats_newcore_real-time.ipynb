{
 "cells": [
  {
   "cell_type": "code",
   "execution_count": 2,
   "metadata": {},
   "outputs": [
    {
     "name": "stdout",
     "output_type": "stream",
     "text": [
      "Requirement already satisfied: pandas in /home/derek/git/neXSim-core-ker-experiments/venv/lib/python3.10/site-packages (2.2.3)\n",
      "Requirement already satisfied: numpy in /home/derek/git/neXSim-core-ker-experiments/venv/lib/python3.10/site-packages (2.1.2)\n",
      "Requirement already satisfied: python-dateutil>=2.8.2 in /home/derek/git/neXSim-core-ker-experiments/venv/lib/python3.10/site-packages (from pandas) (2.9.0.post0)\n",
      "Requirement already satisfied: pytz>=2020.1 in /home/derek/git/neXSim-core-ker-experiments/venv/lib/python3.10/site-packages (from pandas) (2024.2)\n",
      "Requirement already satisfied: tzdata>=2022.7 in /home/derek/git/neXSim-core-ker-experiments/venv/lib/python3.10/site-packages (from pandas) (2024.2)\n",
      "Requirement already satisfied: six>=1.5 in /home/derek/git/neXSim-core-ker-experiments/venv/lib/python3.10/site-packages (from python-dateutil>=2.8.2->pandas) (1.16.0)\n"
     ]
    }
   ],
   "source": [
    "! pip install pandas numpy\n",
    "\n",
    "\n",
    "import pandas as pd\n",
    "import numpy as np\n",
    "\n",
    "import os"
   ]
  },
  {
   "cell_type": "code",
   "execution_count": 3,
   "metadata": {},
   "outputs": [],
   "source": [
    "SEEDS = ['actor', \n",
    "         'amusement_park', \n",
    "         'band', \n",
    "         'championship', \n",
    "         'chemical_element', \n",
    "         'company', \n",
    "         'comune', \n",
    "         'dialect', \n",
    "         'film', \n",
    "         'scientist', \n",
    "         'sculpture', \n",
    "         'university', \n",
    "         'vehicle', \n",
    "         'video_game']\n",
    "\n",
    "\n",
    "SIZES = [2,3,4,5,6]"
   ]
  },
  {
   "cell_type": "code",
   "execution_count": 4,
   "metadata": {},
   "outputs": [
    {
     "name": "stdout",
     "output_type": "stream",
     "text": [
      "['university', 'company', 'comune', 'amusement_park', 'film', 'vehicle', 'chemical_element', 'scientist', 'video_game', 'championship', 'actor', 'sculpture', 'dialect', 'script.sh', 'band']\n",
      "Index(['UNIT', 'SEED', 'SIZE', 'TILDE', 'NEW', 'REALTIME', 'CHARACTERIZATION'], dtype='object')\n",
      "(700000, 7)\n",
      "Index(['UNIT', 'SEED', 'SIZE', 'TILDE', 'NEW', 'REALTIME', 'CHARACTERIZATION'], dtype='object')\n",
      "(700000, 7)\n",
      "                        UNIT   SEED  SIZE  TILDE   NEW  REALTIME  \\\n",
      "0  bn:00915979n,bn:02426205n  actor     2  False  True     0.666   \n",
      "1  bn:15939213n,bn:05144812n  actor     2  False  True     0.663   \n",
      "2  bn:02688185n,bn:05472498n  actor     2  False  True     0.667   \n",
      "3  bn:08476136n,bn:03875359n  actor     2  False  True     0.666   \n",
      "4  bn:03340439n,bn:02366938n  actor     2  False  True     0.667   \n",
      "\n",
      "                                    CHARACTERIZATION  \n",
      "0  2[o     0.504] INSTANCE_OF(X, bn:00044571n), I...  \n",
      "1  2[o     0.495] INSTANCE_OF(X, bn:03301234n), I...  \n",
      "2  2[o     0.492] INSTANCE_OF(X, bn:03494875n), I...  \n",
      "3  2[o     0.496] INSTANCE_OF(X, bn:00024012n), I...  \n",
      "4  2[o     0.497] INSTANCE_OF(X, bn:00066253n), I...  \n"
     ]
    }
   ],
   "source": [
    "new_core_real_time = None\n",
    "\n",
    "print(os.listdir('../pyrunlim_output_false_true'))\n",
    "\n",
    "for seed in SEEDS:\n",
    "    for size in SIZES:\n",
    "        _tmp = pd.read_csv(f'../pyrunlim_output_false_true/{seed}/{size}.csv', sep=';')\n",
    "        if new_core_real_time is None:\n",
    "            new_core_real_time = _tmp\n",
    "        else:\n",
    "            new_core_real_time = pd.concat([new_core_real_time, _tmp])\n",
    "\n",
    "print(new_core_real_time.columns)\n",
    "print(new_core_real_time.shape)\n",
    "\n",
    "# drop the Unnamed: 20 column\n",
    "#new_core_real_time = new_core_real_time.drop('Unnamed: 20', axis=1)\n",
    "\n",
    "print(new_core_real_time.columns)\n",
    "print(new_core_real_time.shape)\n",
    "\n",
    "\n",
    "print(new_core_real_time.head())\n"
   ]
  },
  {
   "cell_type": "code",
   "execution_count": 5,
   "metadata": {},
   "outputs": [],
   "source": [
    "# drop the CHARACTERIZATION column\n",
    "\n",
    "new_core_real_time = new_core_real_time.drop('CHARACTERIZATION', axis=1)"
   ]
  },
  {
   "cell_type": "code",
   "execution_count": 6,
   "metadata": {},
   "outputs": [
    {
     "name": "stdout",
     "output_type": "stream",
     "text": [
      "count    700000.000000\n",
      "mean          0.670786\n",
      "std           0.039482\n",
      "min           0.542000\n",
      "25%           0.662000\n",
      "50%           0.666000\n",
      "75%           0.668000\n",
      "max           0.902000\n",
      "Name: REALTIME, dtype: float64\n"
     ]
    },
    {
     "ename": "",
     "evalue": "",
     "output_type": "error",
     "traceback": [
      "\u001b[1;31mThe Kernel crashed while executing code in the current cell or a previous cell. \n",
      "\u001b[1;31mPlease review the code in the cell(s) to identify a possible cause of the failure. \n",
      "\u001b[1;31mClick <a href='https://aka.ms/vscodeJupyterKernelCrash'>here</a> for more info. \n",
      "\u001b[1;31mView Jupyter <a href='command:jupyter.viewOutput'>log</a> for further details."
     ]
    }
   ],
   "source": [
    "# describe the REALTIME column\n",
    "# also counting the number of times the value is >= 1\n",
    "\n",
    "print(new_core_real_time['REALTIME'].describe())"
   ]
  }
 ],
 "metadata": {
  "kernelspec": {
   "display_name": "venv",
   "language": "python",
   "name": "python3"
  },
  "language_info": {
   "codemirror_mode": {
    "name": "ipython",
    "version": 3
   },
   "file_extension": ".py",
   "mimetype": "text/x-python",
   "name": "python",
   "nbconvert_exporter": "python",
   "pygments_lexer": "ipython3",
   "version": "3.10.12"
  }
 },
 "nbformat": 4,
 "nbformat_minor": 2
}
