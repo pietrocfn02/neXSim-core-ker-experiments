{
 "cells": [
  {
   "cell_type": "code",
   "execution_count": 33,
   "metadata": {},
   "outputs": [
    {
     "name": "stdout",
     "output_type": "stream",
     "text": [
      "Requirement already satisfied: pandas in /home/derek/git/neXSim-core-ker-experiments/venv/lib/python3.10/site-packages (2.2.3)\n",
      "Requirement already satisfied: numpy in /home/derek/git/neXSim-core-ker-experiments/venv/lib/python3.10/site-packages (2.1.2)\n",
      "Requirement already satisfied: python-dateutil>=2.8.2 in /home/derek/git/neXSim-core-ker-experiments/venv/lib/python3.10/site-packages (from pandas) (2.9.0.post0)\n",
      "Requirement already satisfied: tzdata>=2022.7 in /home/derek/git/neXSim-core-ker-experiments/venv/lib/python3.10/site-packages (from pandas) (2024.2)\n",
      "Requirement already satisfied: pytz>=2020.1 in /home/derek/git/neXSim-core-ker-experiments/venv/lib/python3.10/site-packages (from pandas) (2024.2)\n",
      "Requirement already satisfied: six>=1.5 in /home/derek/git/neXSim-core-ker-experiments/venv/lib/python3.10/site-packages (from python-dateutil>=2.8.2->pandas) (1.16.0)\n"
     ]
    }
   ],
   "source": [
    "! pip install pandas numpy\n",
    "\n",
    "\n",
    "import pandas as pd\n",
    "import numpy as np\n",
    "\n",
    "import os"
   ]
  },
  {
   "cell_type": "code",
   "execution_count": 34,
   "metadata": {},
   "outputs": [],
   "source": [
    "SEEDS = ['actor', \n",
    "         'amusement_park', \n",
    "         'band', \n",
    "         'championship', \n",
    "         'chemical_element', \n",
    "         'company', \n",
    "         'comune', \n",
    "         'dialect', \n",
    "         'film', \n",
    "         'scientist', \n",
    "         'sculpture', \n",
    "         'university', \n",
    "         'vehicle', \n",
    "         'video_game']\n",
    "\n",
    "\n",
    "SIZES = [2,3,4,5,6]"
   ]
  },
  {
   "cell_type": "code",
   "execution_count": 35,
   "metadata": {},
   "outputs": [
    {
     "name": "stdout",
     "output_type": "stream",
     "text": [
      "['university', 'company', 'comune', 'amusement_park', 'film', 'vehicle', 'chemical_element', 'scientist', 'video_game', 'championship', 'actor', 'sculpture', 'dialect', 'script.sh', 'band']\n",
      "Index(['UNIT', 'SEED', 'SIZE', 'TILDE', 'NEW', 'REALTIME', 'CHARACTERIZATION'], dtype='object')\n",
      "(700000, 7)\n",
      "Index(['UNIT', 'SEED', 'SIZE', 'TILDE', 'NEW', 'REALTIME', 'CHARACTERIZATION'], dtype='object')\n",
      "(700000, 7)\n",
      "                        UNIT   SEED  SIZE  TILDE   NEW  REALTIME  \\\n",
      "0  bn:00915979n,bn:02426205n  actor     2   True  True     0.775   \n",
      "1  bn:15939213n,bn:05144812n  actor     2   True  True     0.777   \n",
      "2  bn:02688185n,bn:05472498n  actor     2   True  True     0.775   \n",
      "3  bn:08476136n,bn:03875359n  actor     2   True  True     0.772   \n",
      "4  bn:03340439n,bn:02366938n  actor     2   True  True     0.774   \n",
      "\n",
      "                                    CHARACTERIZATION  \n",
      "0  2[o     0.679] OCCUPATION(X, bn:00001176n), IN...  \n",
      "1  2[o     0.663] INSTANCE_OF(X, bn:00001176n), O...  \n",
      "2  2[o     0.660] INSTANCE_OF(X, bn:00001176n), O...  \n",
      "3  2[o     0.688] INSTANCE_OF(X, bn:00001176n), C...  \n",
      "4  2[o     0.665] OCCUPATION(X, bn:00001176n), IN...  \n"
     ]
    }
   ],
   "source": [
    "new_ker_real_time = None\n",
    "\n",
    "print(os.listdir('../pyrunlim_output_true_true'))\n",
    "\n",
    "for seed in SEEDS:\n",
    "    for size in SIZES:\n",
    "        _tmp = pd.read_csv(f'../pyrunlim_output_true_true/{seed}/{size}.csv', sep=';')\n",
    "        if new_ker_real_time is None:\n",
    "            new_ker_real_time = _tmp\n",
    "        else:\n",
    "            new_ker_real_time = pd.concat([new_ker_real_time, _tmp])\n",
    "\n",
    "print(new_ker_real_time.columns)\n",
    "print(new_ker_real_time.shape)\n",
    "\n",
    "# drop the Unnamed: 20 column\n",
    "#new_core_real_time = new_core_real_time.drop('Unnamed: 20', axis=1)\n",
    "\n",
    "print(new_ker_real_time.columns)\n",
    "print(new_ker_real_time.shape)\n",
    "\n",
    "\n",
    "print(new_ker_real_time.head())\n"
   ]
  },
  {
   "cell_type": "code",
   "execution_count": 39,
   "metadata": {},
   "outputs": [
    {
     "name": "stdout",
     "output_type": "stream",
     "text": [
      "count    700000.000000\n",
      "mean          0.696837\n",
      "std           0.062045\n",
      "min           0.540000\n",
      "25%           0.663000\n",
      "50%           0.665000\n",
      "75%           0.772000\n",
      "max           1.629000\n",
      "Name: REALTIME, dtype: float64\n",
      "Insances above one second of real-time computation: 18\n",
      "Percentage of instances above 1 second: 0.003%\n"
     ]
    },
    {
     "ename": "",
     "evalue": "",
     "output_type": "error",
     "traceback": [
      "\u001b[1;31mThe Kernel crashed while executing code in the current cell or a previous cell. \n",
      "\u001b[1;31mPlease review the code in the cell(s) to identify a possible cause of the failure. \n",
      "\u001b[1;31mClick <a href='https://aka.ms/vscodeJupyterKernelCrash'>here</a> for more info. \n",
      "\u001b[1;31mView Jupyter <a href='command:jupyter.viewOutput'>log</a> for further details."
     ]
    }
   ],
   "source": [
    "# describe the REALTIME column\n",
    "# also counting the number of times the value is >= 1\n",
    "\n",
    "print(new_ker_real_time['REALTIME'].describe())\n",
    "abs = new_ker_real_time['REALTIME'].apply(lambda x: x >= 1).sum()\n",
    "perc = new_ker_real_time['REALTIME'].apply(lambda x: x >= 1).sum() / new_ker_real_time.shape[0] * 100\n",
    "perc = perc.round(3)\n",
    "print(f\"Insances above one second of real-time computation: {abs}\")\n",
    "print(f\"Percentage of instances above 1 second: {perc}%\")"
   ]
  },
  {
   "cell_type": "code",
   "execution_count": 37,
   "metadata": {},
   "outputs": [
    {
     "name": "stdout",
     "output_type": "stream",
     "text": [
      "Percentage of instances above 1 second: 0.0025714285714285713%\n"
     ]
    }
   ],
   "source": [
    "# COMPUTE THE PERCENTAGE OF INSTANCES THAT ARE ABOVE 1 SECOND\n",
    "\n",
    "\n",
    "\n",
    "\n"
   ]
  },
  {
   "cell_type": "code",
   "execution_count": 31,
   "metadata": {},
   "outputs": [],
   "source": [
    "# take just the rows where the REALTIME is >= 1\n",
    "\n",
    "new_ker_real_time = new_ker_real_time[new_ker_real_time['REALTIME'] >= 1]\n"
   ]
  },
  {
   "cell_type": "code",
   "execution_count": 14,
   "metadata": {},
   "outputs": [
    {
     "data": {
      "text/html": [
       "<div>\n",
       "<style scoped>\n",
       "    .dataframe tbody tr th:only-of-type {\n",
       "        vertical-align: middle;\n",
       "    }\n",
       "\n",
       "    .dataframe tbody tr th {\n",
       "        vertical-align: top;\n",
       "    }\n",
       "\n",
       "    .dataframe thead th {\n",
       "        text-align: right;\n",
       "    }\n",
       "</style>\n",
       "<table border=\"1\" class=\"dataframe\">\n",
       "  <thead>\n",
       "    <tr style=\"text-align: right;\">\n",
       "      <th></th>\n",
       "      <th>UNIT</th>\n",
       "      <th>SEED</th>\n",
       "      <th>SIZE</th>\n",
       "      <th>TILDE</th>\n",
       "      <th>NEW</th>\n",
       "      <th>REALTIME</th>\n",
       "      <th>CHARACTERIZATION</th>\n",
       "    </tr>\n",
       "  </thead>\n",
       "  <tbody>\n",
       "    <tr>\n",
       "      <th>5844</th>\n",
       "      <td>bn:03531666n,bn:03168759n,bn:03003727n,bn:0361...</td>\n",
       "      <td>band</td>\n",
       "      <td>4</td>\n",
       "      <td>True</td>\n",
       "      <td>True</td>\n",
       "      <td>1.208</td>\n",
       "      <td>4[o     1.104] INSTANCE_OF(X, bn:00008280n)</td>\n",
       "    </tr>\n",
       "    <tr>\n",
       "      <th>164</th>\n",
       "      <td>bn:03671240n,bn:00975289n,bn:00257732n,bn:0311...</td>\n",
       "      <td>band</td>\n",
       "      <td>5</td>\n",
       "      <td>True</td>\n",
       "      <td>True</td>\n",
       "      <td>1.207</td>\n",
       "      <td>5[o     0.923] INSTANCE_OF(X, bn:00068051n), I...</td>\n",
       "    </tr>\n",
       "    <tr>\n",
       "      <th>2500</th>\n",
       "      <td>bn:03168759n,bn:02507522n,bn:14167240n,bn:0318...</td>\n",
       "      <td>band</td>\n",
       "      <td>5</td>\n",
       "      <td>True</td>\n",
       "      <td>True</td>\n",
       "      <td>1.213</td>\n",
       "      <td>5[o     1.048] INSTANCE_OF(X, bn:00008280n)</td>\n",
       "    </tr>\n",
       "    <tr>\n",
       "      <th>4440</th>\n",
       "      <td>bn:03310615n,bn:02265153n,bn:00923381n,bn:0206...</td>\n",
       "      <td>band</td>\n",
       "      <td>5</td>\n",
       "      <td>True</td>\n",
       "      <td>True</td>\n",
       "      <td>1.210</td>\n",
       "      <td>5[o     0.977] INSTANCE_OF(X, bn:00008280n)</td>\n",
       "    </tr>\n",
       "    <tr>\n",
       "      <th>7309</th>\n",
       "      <td>bn:03168759n,bn:03894125n,bn:02129462n,bn:0020...</td>\n",
       "      <td>band</td>\n",
       "      <td>5</td>\n",
       "      <td>True</td>\n",
       "      <td>True</td>\n",
       "      <td>1.417</td>\n",
       "      <td>5[o     1.166] INSTANCE_OF(X, bn:00008280n)</td>\n",
       "    </tr>\n",
       "  </tbody>\n",
       "</table>\n",
       "</div>"
      ],
      "text/plain": [
       "                                                   UNIT  SEED  SIZE  TILDE  \\\n",
       "5844  bn:03531666n,bn:03168759n,bn:03003727n,bn:0361...  band     4   True   \n",
       "164   bn:03671240n,bn:00975289n,bn:00257732n,bn:0311...  band     5   True   \n",
       "2500  bn:03168759n,bn:02507522n,bn:14167240n,bn:0318...  band     5   True   \n",
       "4440  bn:03310615n,bn:02265153n,bn:00923381n,bn:0206...  band     5   True   \n",
       "7309  bn:03168759n,bn:03894125n,bn:02129462n,bn:0020...  band     5   True   \n",
       "\n",
       "       NEW  REALTIME                                   CHARACTERIZATION  \n",
       "5844  True     1.208        4[o     1.104] INSTANCE_OF(X, bn:00008280n)  \n",
       "164   True     1.207  5[o     0.923] INSTANCE_OF(X, bn:00068051n), I...  \n",
       "2500  True     1.213        5[o     1.048] INSTANCE_OF(X, bn:00008280n)  \n",
       "4440  True     1.210        5[o     0.977] INSTANCE_OF(X, bn:00008280n)  \n",
       "7309  True     1.417        5[o     1.166] INSTANCE_OF(X, bn:00008280n)  "
      ]
     },
     "execution_count": 14,
     "metadata": {},
     "output_type": "execute_result"
    }
   ],
   "source": [
    "new_ker_real_time.head()"
   ]
  },
  {
   "cell_type": "code",
   "execution_count": 15,
   "metadata": {},
   "outputs": [
    {
     "name": "stdout",
     "output_type": "stream",
     "text": [
      "count    18.000000\n",
      "mean      1.237611\n",
      "std       0.151644\n",
      "min       1.003000\n",
      "25%       1.207250\n",
      "50%       1.210500\n",
      "75%       1.219750\n",
      "max       1.629000\n",
      "Name: REALTIME, dtype: float64\n"
     ]
    }
   ],
   "source": [
    "# describe the REALTIME column\n",
    "\n",
    "print(new_ker_real_time['REALTIME'].describe())"
   ]
  },
  {
   "cell_type": "code",
   "execution_count": 17,
   "metadata": {},
   "outputs": [
    {
     "name": "stdout",
     "output_type": "stream",
     "text": [
      "[1.208 1.207 1.213 1.21  1.417 1.208 1.204 1.211 1.208 1.414 1.42  1.629\n",
      " 1.211 1.222 1.211 1.003 1.042 1.039]\n"
     ]
    }
   ],
   "source": [
    "# print all the  values of the REALTIME column\n",
    "\n",
    "print(new_ker_real_time['REALTIME'].values)"
   ]
  },
  {
   "cell_type": "code",
   "execution_count": 18,
   "metadata": {},
   "outputs": [
    {
     "name": "stdout",
     "output_type": "stream",
     "text": [
      "['4[o     1.104] INSTANCE_OF(X, bn:00008280n)'\n",
      " '5[o     0.923] INSTANCE_OF(X, bn:00068051n), INSTANCE_OF(X, bn:00008280n)'\n",
      " '5[o     1.048] INSTANCE_OF(X, bn:00008280n)'\n",
      " '5[o     0.977] INSTANCE_OF(X, bn:00008280n)'\n",
      " '5[o     1.166] INSTANCE_OF(X, bn:00008280n)'\n",
      " '6[o     0.961] INSTANCE_OF(X, bn:00068051n), INSTANCE_OF(X, bn:00008280n), COUNTRY_OF_ORIGIN(X, y_0)'\n",
      " '6[o     1.115] INSTANCE_OF(X, bn:00068051n), INSTANCE_OF(X, bn:00008280n)'\n",
      " '6[o     0.950] INSTANCE_OF(X, bn:00068051n), INSTANCE_OF(X, bn:00008280n)'\n",
      " '6[o     0.983] INSTANCE_OF(X, bn:00008280n)'\n",
      " '6[o     1.321] INSTANCE_OF(X, bn:00008280n)'\n",
      " '6[o     1.227] INSTANCE_OF(X, bn:00008280n)'\n",
      " '6[o     1.348] INSTANCE_OF(X, bn:00008280n)'\n",
      " '6[o     0.988] INSTANCE_OF(X, bn:00054550n), INSTANCE_OF(X, bn:00079109n)'\n",
      " '6[o     1.066] INSTANCE_OF(X, bn:00054550n), INSTANCE_OF(X, bn:00079109n)'\n",
      " '6[o     1.024] INSTANCE_OF(X, bn:00011744n), INSTANCE_OF(X, bn:00054550n)'\n",
      " '3[o     0.860] LOCATED_IN_TIME_ZONE(X, bn:01623792n), INSTANCE_OF(X, bn:03219144n), LOCATED_IN_TIME_ZONE(X, bn:01624321n), COUNTRY(X, bn:00047705n), SHARES_BORDER_WITH(X, y_0), LOCATED_IN_THE_ADMINISTRATIVE_TERRITORIAL_ENTITY(X, y_1)'\n",
      " '4[o     0.781] INSTANCE_OF(X, bn:03219144n), LOCATED_IN_TIME_ZONE(X, bn:01623792n), COUNTRY(X, bn:00047705n), LOCATED_IN_THE_ADMINISTRATIVE_TERRITORIAL_ENTITY(X, y_0), SHARES_BORDER_WITH(X, y_1)'\n",
      " '4[o     0.794] LOCATED_IN_TIME_ZONE(X, bn:01623792n), INSTANCE_OF(X, bn:03219144n), LOCATED_IN_TIME_ZONE(X, bn:01624321n), COUNTRY(X, bn:00047705n), LOCATED_IN_THE_ADMINISTRATIVE_TERRITORIAL_ENTITY(X, y_0), SHARES_BORDER_WITH(X, y_1)']\n"
     ]
    }
   ],
   "source": [
    "print(new_ker_real_time['CHARACTERIZATION'].values)"
   ]
  },
  {
   "cell_type": "code",
   "execution_count": null,
   "metadata": {},
   "outputs": [],
   "source": []
  }
 ],
 "metadata": {
  "kernelspec": {
   "display_name": "venv",
   "language": "python",
   "name": "python3"
  },
  "language_info": {
   "codemirror_mode": {
    "name": "ipython",
    "version": 3
   },
   "file_extension": ".py",
   "mimetype": "text/x-python",
   "name": "python",
   "nbconvert_exporter": "python",
   "pygments_lexer": "ipython3",
   "version": "3.10.12"
  }
 },
 "nbformat": 4,
 "nbformat_minor": 2
}
