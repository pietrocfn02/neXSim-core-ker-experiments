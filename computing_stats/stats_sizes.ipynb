{
 "cells": [
  {
   "cell_type": "markdown",
   "metadata": {},
   "source": [
    "## Import\n"
   ]
  },
  {
   "cell_type": "code",
   "execution_count": 1,
   "metadata": {},
   "outputs": [
    {
     "name": "stdout",
     "output_type": "stream",
     "text": [
      "Requirement already satisfied: pandas in /home/derek/git/neXSim-core-ker-experiments/venv/lib/python3.10/site-packages (2.2.3)\n",
      "Requirement already satisfied: numpy in /home/derek/git/neXSim-core-ker-experiments/venv/lib/python3.10/site-packages (2.1.2)\n",
      "Requirement already satisfied: python-dateutil>=2.8.2 in /home/derek/git/neXSim-core-ker-experiments/venv/lib/python3.10/site-packages (from pandas) (2.9.0.post0)\n",
      "Requirement already satisfied: pytz>=2020.1 in /home/derek/git/neXSim-core-ker-experiments/venv/lib/python3.10/site-packages (from pandas) (2024.2)\n",
      "Requirement already satisfied: tzdata>=2022.7 in /home/derek/git/neXSim-core-ker-experiments/venv/lib/python3.10/site-packages (from pandas) (2024.2)\n",
      "Requirement already satisfied: six>=1.5 in /home/derek/git/neXSim-core-ker-experiments/venv/lib/python3.10/site-packages (from python-dateutil>=2.8.2->pandas) (1.16.0)\n",
      "Collecting matplotlib\n",
      "  Using cached matplotlib-3.9.2-cp310-cp310-manylinux_2_17_x86_64.manylinux2014_x86_64.whl (8.3 MB)\n",
      "Collecting seaborn\n",
      "  Using cached seaborn-0.13.2-py3-none-any.whl (294 kB)\n",
      "Requirement already satisfied: python-dateutil>=2.7 in /home/derek/git/neXSim-core-ker-experiments/venv/lib/python3.10/site-packages (from matplotlib) (2.9.0.post0)\n",
      "Requirement already satisfied: packaging>=20.0 in /home/derek/git/neXSim-core-ker-experiments/venv/lib/python3.10/site-packages (from matplotlib) (24.1)\n",
      "Collecting pyparsing>=2.3.1\n",
      "  Using cached pyparsing-3.1.4-py3-none-any.whl (104 kB)\n",
      "Collecting cycler>=0.10\n",
      "  Using cached cycler-0.12.1-py3-none-any.whl (8.3 kB)\n",
      "Collecting fonttools>=4.22.0\n",
      "  Downloading fonttools-4.54.1-cp310-cp310-manylinux_2_17_x86_64.manylinux2014_x86_64.whl (4.6 MB)\n",
      "\u001b[2K     \u001b[90m━━━━━━━━━━━━━━━━━━━━━━━━━━━━━━━━━━━━━━━━\u001b[0m \u001b[32m4.6/4.6 MB\u001b[0m \u001b[31m9.3 MB/s\u001b[0m eta \u001b[36m0:00:00\u001b[0m:00:01\u001b[0m00:01\u001b[0m\n",
      "\u001b[?25hCollecting contourpy>=1.0.1\n",
      "  Using cached contourpy-1.3.0-cp310-cp310-manylinux_2_17_x86_64.manylinux2014_x86_64.whl (322 kB)\n",
      "Collecting kiwisolver>=1.3.1\n",
      "  Using cached kiwisolver-1.4.7-cp310-cp310-manylinux_2_12_x86_64.manylinux2010_x86_64.whl (1.6 MB)\n",
      "Requirement already satisfied: numpy>=1.23 in /home/derek/git/neXSim-core-ker-experiments/venv/lib/python3.10/site-packages (from matplotlib) (2.1.2)\n",
      "Collecting pillow>=8\n",
      "  Using cached pillow-10.4.0-cp310-cp310-manylinux_2_28_x86_64.whl (4.5 MB)\n",
      "Requirement already satisfied: pandas>=1.2 in /home/derek/git/neXSim-core-ker-experiments/venv/lib/python3.10/site-packages (from seaborn) (2.2.3)\n",
      "Requirement already satisfied: tzdata>=2022.7 in /home/derek/git/neXSim-core-ker-experiments/venv/lib/python3.10/site-packages (from pandas>=1.2->seaborn) (2024.2)\n",
      "Requirement already satisfied: pytz>=2020.1 in /home/derek/git/neXSim-core-ker-experiments/venv/lib/python3.10/site-packages (from pandas>=1.2->seaborn) (2024.2)\n",
      "Requirement already satisfied: six>=1.5 in /home/derek/git/neXSim-core-ker-experiments/venv/lib/python3.10/site-packages (from python-dateutil>=2.7->matplotlib) (1.16.0)\n",
      "Installing collected packages: pyparsing, pillow, kiwisolver, fonttools, cycler, contourpy, matplotlib, seaborn\n",
      "Successfully installed contourpy-1.3.0 cycler-0.12.1 fonttools-4.54.1 kiwisolver-1.4.7 matplotlib-3.9.2 pillow-10.4.0 pyparsing-3.1.4 seaborn-0.13.2\n"
     ]
    }
   ],
   "source": [
    "! pip install pandas numpy\n",
    "! pip install matplotlib seaborn"
   ]
  },
  {
   "cell_type": "code",
   "execution_count": 2,
   "metadata": {},
   "outputs": [],
   "source": [
    "\n",
    "import pandas as pd\n",
    "import numpy as np\n",
    "\n",
    "import os"
   ]
  },
  {
   "cell_type": "markdown",
   "metadata": {},
   "source": [
    "## File Loading\n"
   ]
  },
  {
   "cell_type": "code",
   "execution_count": 3,
   "metadata": {},
   "outputs": [],
   "source": [
    "SEEDS = ['actor', \n",
    "         'amusement_park', \n",
    "         'band', \n",
    "         'championship', \n",
    "         'chemical_element', \n",
    "         'company', \n",
    "         'comune', \n",
    "         'dialect', \n",
    "         'film', \n",
    "         'scientist', \n",
    "         'sculpture', \n",
    "         'university', \n",
    "         'vehicle', \n",
    "         'video_game']\n",
    "\n",
    "\n",
    "SIZES = [2,3,4,5,6]"
   ]
  },
  {
   "cell_type": "code",
   "execution_count": 4,
   "metadata": {},
   "outputs": [
    {
     "name": "stdout",
     "output_type": "stream",
     "text": [
      "['university', 'company', 'comune', 'amusement_park', 'film', 'vehicle', 'chemical_element', 'scientist', 'video_game', 'championship', 'actor', 'sculpture', 'dialect', 'band']\n",
      "Index(['SEED', 'UNIT', 'UNIT_SIZE', 'SUMMARY_SIZES', 'WT_SUMMARY_SIZES',\n",
      "       'SUMMARY_TILDE_SIZES', 'OLDKER_SIZE', 'WT_OLDKER_SIZE', 'NEWKER_SIZE',\n",
      "       'WT_NEWKER_SIZE', 'OLDCORE_SIZE', 'WT_OLDCORE_SIZE', 'NEWCORE_SIZE',\n",
      "       'WT_NEWCORE_SIZE', 'SUMMARY_COMPUTATION_TIME',\n",
      "       'SUMMARY_TILDE_COMPUTATION_TIME', 'OLDKER_COMPUTATION_TIME',\n",
      "       'NEWKER_COMPUTATION_TIME', 'OLDCORE_COMPUTATION_TIME',\n",
      "       'NEWCORE_COMPUTATION_TIME'],\n",
      "      dtype='object')\n",
      "(700000, 20)\n"
     ]
    }
   ],
   "source": [
    "# read the names of the subfolders in experiments\n",
    "\n",
    "print(os.listdir('../24-09-13'))\n",
    "\n",
    "merged = None\n",
    "\n",
    "\n",
    "for seed in SEEDS:\n",
    "    for size in SIZES:\n",
    "        _tmp = pd.read_csv(f'../24-09-13/{seed}/{size}.csv', sep=';')\n",
    "        if merged is None:\n",
    "            merged = _tmp\n",
    "        else:\n",
    "            merged = pd.concat([merged, _tmp])\n",
    "\n",
    "# drop the \"Unnamed: N\"-like columns\n",
    "\n",
    "to_remove = [col for col in merged.columns if 'Unnamed' in col]\n",
    "\n",
    "for col in to_remove:\n",
    "    merged = merged.drop(col, axis=1)\n",
    "\n",
    "#merged = merged.drop('Unnamed: 20', axis=1)\n",
    "\n",
    "print(merged.columns) \n",
    "print(merged.shape)\n",
    "\n",
    "        \n",
    "\n"
   ]
  },
  {
   "cell_type": "code",
   "execution_count": 5,
   "metadata": {},
   "outputs": [
    {
     "name": "stdout",
     "output_type": "stream",
     "text": [
      "SEED                               object\n",
      "UNIT                               object\n",
      "UNIT_SIZE                           int64\n",
      "SUMMARY_SIZES                      object\n",
      "WT_SUMMARY_SIZES                   object\n",
      "SUMMARY_TILDE_SIZES                object\n",
      "OLDKER_SIZE                        object\n",
      "WT_OLDKER_SIZE                     object\n",
      "NEWKER_SIZE                         int64\n",
      "WT_NEWKER_SIZE                      int64\n",
      "OLDCORE_SIZE                      float64\n",
      "WT_OLDCORE_SIZE                   float64\n",
      "NEWCORE_SIZE                        int64\n",
      "WT_NEWCORE_SIZE                     int64\n",
      "SUMMARY_COMPUTATION_TIME          float64\n",
      "SUMMARY_TILDE_COMPUTATION_TIME    float64\n",
      "OLDKER_COMPUTATION_TIME            object\n",
      "NEWKER_COMPUTATION_TIME           float64\n",
      "OLDCORE_COMPUTATION_TIME          float64\n",
      "NEWCORE_COMPUTATION_TIME          float64\n",
      "dtype: object\n"
     ]
    }
   ],
   "source": [
    "# print the types of all columns\n",
    "\n",
    "print(merged.dtypes)"
   ]
  },
  {
   "cell_type": "code",
   "execution_count": 6,
   "metadata": {},
   "outputs": [],
   "source": [
    "to_drop = []\n",
    "\n",
    "# drop columns that are not useful for the analysis\n",
    "\n",
    "to_drop = [col for col in merged.columns if '_TIME' in col]\n",
    "\n",
    "\n",
    "# need to drop: OLDKER_SIZE, WT_OLDKER_SIZE, OLDCORE_SIZE, WT_OLCORE_SIZE\n",
    "\n",
    "to_drop += ['OLDKER_SIZE', 'WT_OLDKER_SIZE', 'OLDCORE_SIZE', 'WT_OLDCORE_SIZE']\n",
    "\n",
    "# drop the columns\n",
    "\n",
    "\n",
    "for col in to_drop:\n",
    "    merged = merged.drop(col, axis=1)"
   ]
  },
  {
   "cell_type": "code",
   "execution_count": 7,
   "metadata": {},
   "outputs": [
    {
     "name": "stdout",
     "output_type": "stream",
     "text": [
      "SEED                   object\n",
      "UNIT                   object\n",
      "UNIT_SIZE               int64\n",
      "SUMMARY_SIZES          object\n",
      "WT_SUMMARY_SIZES       object\n",
      "SUMMARY_TILDE_SIZES    object\n",
      "NEWKER_SIZE             int64\n",
      "WT_NEWKER_SIZE          int64\n",
      "NEWCORE_SIZE            int64\n",
      "WT_NEWCORE_SIZE         int64\n",
      "dtype: object\n"
     ]
    }
   ],
   "source": [
    "print(merged.dtypes)"
   ]
  },
  {
   "cell_type": "code",
   "execution_count": 8,
   "metadata": {},
   "outputs": [
    {
     "name": "stdout",
     "output_type": "stream",
     "text": [
      "               SEED        ENTITY SUMMARY_SIZE WT_SUMMARY_SIZE  \\\n",
      "0             actor  bn:00915979n          260             519   \n",
      "1             actor  bn:02426205n          265             528   \n",
      "2             actor  bn:15939213n          257             512   \n",
      "3             actor  bn:05144812n          256             512   \n",
      "4             actor  bn:02688185n          260             519   \n",
      "...             ...           ...          ...             ...   \n",
      "2799995  video_game  bn:03515031n          170             340   \n",
      "2799996  video_game  bn:15918044n          151             302   \n",
      "2799997  video_game  bn:00633493n          156             312   \n",
      "2799998  video_game  bn:00284836n          156             312   \n",
      "2799999  video_game  bn:02657046n          169             336   \n",
      "\n",
      "        SUMMARY_TILDE_SIZE  \n",
      "0                        6  \n",
      "1                       12  \n",
      "2                        5  \n",
      "3                        5  \n",
      "4                        8  \n",
      "...                    ...  \n",
      "2799995                  7  \n",
      "2799996                  1  \n",
      "2799997                  6  \n",
      "2799998                  6  \n",
      "2799999                 17  \n",
      "\n",
      "[2800000 rows x 5 columns]\n"
     ]
    }
   ],
   "source": [
    "# FOR THE SUMMARIES, WE NEED TO SEPARATE EACH ENTITY OF THE UNIT \n",
    "\n",
    "# new dataframe having: SEED, ENTITY, SUMMARY_SIZE, WT_SUMMARY_SIZE, SUMMARY_TILDE_SIZE\n",
    "\n",
    "# we need to split the columns\n",
    "\n",
    "\n",
    "\n",
    "summary_df = pd.DataFrame(columns=[\"SEED\", \"ENTITY\", \"SUMMARY_SIZE\", \"WT_SUMMARY_SIZE\", \"SUMMARY_TILDE_SIZE\"])\n",
    "\n",
    "new_rows = []\n",
    "for index, row in merged.iterrows():\n",
    "    entities = row['UNIT'].split(',')\n",
    "    summary_sizes = row['SUMMARY_SIZES'].split(',')\n",
    "    wt_summary_sizes = row['WT_SUMMARY_SIZES'].split(',')\n",
    "    summary_tilde_sizes = row['SUMMARY_TILDE_SIZES'].split(',')\n",
    "\n",
    "    assert len(entities) == len(summary_sizes) == len(wt_summary_sizes) == len(summary_tilde_sizes)\n",
    "\n",
    "    for i in range(len(entities)):\n",
    "        new_rows.append([row['SEED'], entities[i], summary_sizes[i], wt_summary_sizes[i], summary_tilde_sizes[i]])\n",
    "\n",
    "summary_df = pd.DataFrame(new_rows, columns=[\"SEED\", \"ENTITY\", \"SUMMARY_SIZE\", \"WT_SUMMARY_SIZE\", \"SUMMARY_TILDE_SIZE\"])\n",
    "\n",
    "\n",
    "print(summary_df)\n",
    "\n",
    "\n",
    "\n",
    "\n",
    "\n"
   ]
  },
  {
   "cell_type": "code",
   "execution_count": 9,
   "metadata": {},
   "outputs": [],
   "source": [
    "# three new columns to add to the summary_df: 'TOP_SUMMARY_RATIO', 'TOP_TILDE_RATIO', 'NOTOP_TILDE_RATIO'\n",
    "\n",
    "# we need to calculate the ratios\n",
    "\n",
    "summary_df['TOP_SUMMARY_RATIO'] = summary_df['WT_SUMMARY_SIZE'].astype(int) / summary_df['SUMMARY_SIZE'].astype(int)\n",
    "summary_df['TOP_TILDE_RATIO'] = summary_df['WT_SUMMARY_SIZE'].astype(int) / summary_df['SUMMARY_TILDE_SIZE'].astype(int)\n",
    "summary_df['NOTOP_TILDE_RATIO'] = summary_df['SUMMARY_SIZE'].astype(int) / summary_df['SUMMARY_TILDE_SIZE'].astype(int)\n",
    " \n"
   ]
  },
  {
   "cell_type": "code",
   "execution_count": 10,
   "metadata": {},
   "outputs": [
    {
     "name": "stdout",
     "output_type": "stream",
     "text": [
      "                SEED  WT_SUMMARY_SIZE  SUMMARY_SIZE  SUMMARY_TILDE_SIZE  \\\n",
      "0              actor       519.890265    260.455575            6.694740   \n",
      "1     amusement_park       276.342320    138.265245            3.889175   \n",
      "2               band       273.557760    136.898740            2.883830   \n",
      "3       championship       307.850750    154.723845            4.180740   \n",
      "4   chemical_element       228.388075    125.149535            5.057490   \n",
      "5            company       469.996955    235.304820            3.915045   \n",
      "6             comune       641.193055    320.615320           11.986540   \n",
      "7            dialect       305.887115    171.197975            2.538780   \n",
      "8               film       180.347180     90.517490           11.896130   \n",
      "9          scientist       534.803660    268.017065            9.864155   \n",
      "10         sculpture       268.554825    134.410240            7.058285   \n",
      "11        university       303.931005    152.185130            3.014685   \n",
      "12           vehicle       233.148470    120.032445            3.373320   \n",
      "13        video_game       325.248840    162.927150            7.674115   \n",
      "\n",
      "    TOP_SUMMARY_RATIO  TOP_TILDE_RATIO  NOTOP_TILDE_RATIO  \n",
      "0            1.996158        93.110694          46.646694  \n",
      "1            1.999136       109.434395          54.742894  \n",
      "2            1.999053       124.845152          62.483693  \n",
      "3            1.993770       106.307113          53.443206  \n",
      "4            1.787081        66.009010          36.792934  \n",
      "5            1.998304       187.726260          93.971833  \n",
      "6            1.999896        57.380791          28.691196  \n",
      "7            1.811336       201.156047         111.477858  \n",
      "8            1.991395        25.478721          12.770315  \n",
      "9            1.995592        73.818601          37.020265  \n",
      "10           1.998254        51.807456          25.924974  \n",
      "11           1.998108       146.629553          73.407488  \n",
      "12           1.959058        97.487118          49.925771  \n",
      "13           1.997055        69.993758          35.062728  \n"
     ]
    }
   ],
   "source": [
    "# FOR EACH SEED I WANT TO STORE THE AVERAGE OF WT_SUMMARY_SIZE, SUMMARY_SIZE, SUMMARY_TILDE_SIZE AND THE RATIOS\n",
    "# in a csv file \n",
    "\n",
    "summary_ratios = []\n",
    "\n",
    "for seed in SEEDS:\n",
    "    _tmp = summary_df[summary_df['SEED'] == seed]\n",
    "    summary_ratios.append([seed, _tmp['WT_SUMMARY_SIZE'].astype(int).mean(), _tmp['SUMMARY_SIZE'].astype(int).mean(), _tmp['SUMMARY_TILDE_SIZE'].astype(int).mean(), _tmp['TOP_SUMMARY_RATIO'].mean(), _tmp['TOP_TILDE_RATIO'].mean(), _tmp['NOTOP_TILDE_RATIO'].mean()])\n",
    "\n",
    "summary_ratios = pd.DataFrame(summary_ratios, columns=['SEED', 'WT_SUMMARY_SIZE', 'SUMMARY_SIZE', 'SUMMARY_TILDE_SIZE', 'TOP_SUMMARY_RATIO', 'TOP_TILDE_RATIO', 'NOTOP_TILDE_RATIO'])\n",
    "\n",
    "print(summary_ratios)\n",
    "\n",
    "summary_ratios.to_csv('summary_ratios.csv', sep=';', index=False)\n",
    "\n"
   ]
  },
  {
   "cell_type": "code",
   "execution_count": 20,
   "metadata": {},
   "outputs": [
    {
     "data": {
      "image/png": "[encoded data removed]",
      "text/plain": [
       "<Figure size 640x480 with 1 Axes>"
      ]
     },
     "metadata": {},
     "output_type": "display_data"
    }
   ],
   "source": [
    "# now i want a bar plot\n",
    "\n",
    "# in x-axis (rotated) the SEEDS\n",
    "# in y-axis the values of the columns: WT_SUMMARY_SIZE, SUMMARY_SIZE, SUMMARY_TILDE_SIZE (same bar)\n",
    "\n",
    "import matplotlib.pyplot as plt\n",
    "\n",
    "for col in ['WT_SUMMARY_SIZE', 'SUMMARY_TILDE_SIZE']:\n",
    "    plt.bar(summary_ratios['SEED'], summary_ratios[col], label=col)\n",
    "\n",
    "plt.xticks(rotation=90)\n",
    "plt.legend()\n",
    "plt.show()"
   ]
  },
  {
   "cell_type": "code",
   "execution_count": 14,
   "metadata": {},
   "outputs": [
    {
     "name": "stdout",
     "output_type": "stream",
     "text": [
      "(700000, 7)\n"
     ]
    }
   ],
   "source": [
    "# i want a new dataframe with the following: SEED, UNIT, UNIT_SIZE, WT_NEWKER_SIZE, NEWKER_SIZE, NEWCORE_SIZE, WT_NEWCORE_SIZE\n",
    "# no unpacking needed\n",
    "# just a projection of the columns\n",
    "\n",
    "new_df = merged[['SEED', 'UNIT', 'UNIT_SIZE', 'WT_NEWKER_SIZE', 'NEWKER_SIZE', 'NEWCORE_SIZE', 'WT_NEWCORE_SIZE']]\n",
    "\n",
    "print(new_df.shape)\n"
   ]
  },
  {
   "cell_type": "code",
   "execution_count": 18,
   "metadata": {},
   "outputs": [
    {
     "name": "stdout",
     "output_type": "stream",
     "text": [
      "                SEED  WT_NEWKER_SIZE  NEWKER_SIZE  NEWCORE_SIZE  \\\n",
      "0              actor         7.54480      3.50686     254.51884   \n",
      "1     amusement_park         4.83320      1.91668     119.27190   \n",
      "2               band         4.43930      1.71968     123.44452   \n",
      "3       championship         4.39382      1.69776     127.77020   \n",
      "4   chemical_element         4.70754      1.90230      44.20546   \n",
      "5            company         4.59180      1.79598     192.00712   \n",
      "6             comune        12.80386      5.90196     313.90274   \n",
      "7            dialect         4.19346      1.60452     134.46642   \n",
      "8               film         7.85422      3.43534      39.09970   \n",
      "9          scientist         8.28902      3.76020     234.20552   \n",
      "10         sculpture         9.86856      4.43454      70.47124   \n",
      "11        university         3.79548      1.39822     139.50980   \n",
      "12           vehicle         3.68278      1.34232      61.98046   \n",
      "13        video_game         6.58122      2.79474     152.82004   \n",
      "\n",
      "    WT_NEWCORE_SIZE  top_coreker_ratio  notop_coreker_ratio  top_notop_ratio  \n",
      "0         509.56876          74.892685            85.097022       170.401673  \n",
      "1         239.54364          53.366050            70.663506       141.921493  \n",
      "2         247.88822          60.693621            83.071552       166.818630  \n",
      "3         256.53150          63.720230            87.693542       176.075791  \n",
      "4          86.12996          19.720000            26.703139        53.009260  \n",
      "5         385.01408          99.832082           142.149533       285.043746  \n",
      "6         628.80542          49.422300            53.599131       107.369031  \n",
      "7         257.59066          68.876258           100.458998       197.044305  \n",
      "8          79.18294          12.120893            15.132190        30.684253  \n",
      "9         469.17956          67.726337            83.664947       167.689116  \n",
      "10        141.94196          18.737696            22.228264        44.789433  \n",
      "11        280.01864          80.233299           115.580357       231.990492  \n",
      "12        124.85146          37.570237            54.913288       110.698733  \n",
      "13        306.63182          61.936618            83.991804       168.535405  \n"
     ]
    }
   ],
   "source": [
    "# in new_df i want to add the following columns: 'top_coreker_ratio', 'notop_coreker_ratio'\n",
    "\n",
    "new_df['top_coreker_ratio'] = new_df['WT_NEWCORE_SIZE'].astype(int) / new_df['WT_NEWKER_SIZE'].astype(int)\n",
    "\n",
    "new_df['notop_coreker_ratio'] = new_df['NEWCORE_SIZE'].astype(int) / new_df['NEWKER_SIZE'].astype(int)\n",
    "\n",
    "new_df['top_notop_ratio'] = new_df['WT_NEWCORE_SIZE'] / new_df['NEWKER_SIZE']\n",
    "\n",
    "# group by SEED and calculate the mean of the ratios and the sizes\n",
    "\n",
    "new_ratios = []\n",
    "\n",
    "for seed in SEEDS:\n",
    "    _tmp = new_df[new_df['SEED'] == seed]\n",
    "    new_ratios.append([seed, _tmp['WT_NEWKER_SIZE'].astype(int).mean(), _tmp['NEWKER_SIZE'].astype(int).mean(), _tmp['NEWCORE_SIZE'].astype(int).mean(), _tmp['WT_NEWCORE_SIZE'].astype(int).mean(), _tmp['top_coreker_ratio'].mean(), _tmp['notop_coreker_ratio'].mean(), _tmp['top_notop_ratio'].mean()])\n",
    "\n",
    "\n",
    "new_ratios = pd.DataFrame(new_ratios, columns=['SEED', 'WT_NEWKER_SIZE', 'NEWKER_SIZE', 'NEWCORE_SIZE', 'WT_NEWCORE_SIZE', 'top_coreker_ratio', 'notop_coreker_ratio', 'top_notop_ratio'])\n",
    "\n",
    "print(new_ratios)\n",
    "\n",
    "new_ratios.to_csv('new_ratios.csv', sep=';', index=False)\n"
   ]
  },
  {
   "cell_type": "code",
   "execution_count": 19,
   "metadata": {},
   "outputs": [
    {
     "data": {
      "image/png": "[encoded data removed]",
      "text/plain": [
       "<Figure size 640x480 with 1 Axes>"
      ]
     },
     "metadata": {},
     "output_type": "display_data"
    }
   ],
   "source": [
    "# from new_ratios i want to plot the following columns: 'WT_NEWCORE_SIZE', 'NEWCORE_SIZE', 'WT_NEWKER_SIZE', 'NEWKER_SIZE'\n",
    "\n",
    "for col in ['WT_NEWCORE_SIZE',  'NEWKER_SIZE']:\n",
    "\n",
    "    plt.bar(new_ratios['SEED'], new_ratios[col], label=col)\n",
    "\n",
    "plt.xticks(rotation=90)\n",
    "plt.legend()\n",
    "plt.show()\n"
   ]
  }
 ],
 "metadata": {
  "kernelspec": {
   "display_name": "venv",
   "language": "python",
   "name": "python3"
  },
  "language_info": {
   "codemirror_mode": {
    "name": "ipython",
    "version": 3
   },
   "file_extension": ".py",
   "mimetype": "text/x-python",
   "name": "python",
   "nbconvert_exporter": "python",
   "pygments_lexer": "ipython3",
   "version": "3.10.12"
  }
 },
 "nbformat": 4,
 "nbformat_minor": 2
}
