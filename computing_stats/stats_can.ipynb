{
 "cells": [
  {
   "cell_type": "markdown",
   "metadata": {},
   "source": [
    "The current notebook was used to generate the following tables / graphs:\n",
    "\n",
    "1. Minimum, maximum and average size of can (no top) grouped by seed (Table 1 in the report)\n",
    "2. Minimum, maximum and average size of can (w. top) grouped by seed (Table 2 in the report)"
   ]
  },
  {
   "cell_type": "markdown",
   "metadata": {},
   "source": [
    "Install dependencies and import packages"
   ]
  },
  {
   "cell_type": "code",
   "execution_count": 2,
   "metadata": {},
   "outputs": [
    {
     "name": "stdout",
     "output_type": "stream",
     "text": [
      "Requirement already satisfied: pandas in /home/derek/git/neXSim-core-ker-experiments/venv/lib/python3.12/site-packages (2.2.3)\n",
      "Requirement already satisfied: numpy>=1.26.0 in /home/derek/git/neXSim-core-ker-experiments/venv/lib/python3.12/site-packages (from pandas) (2.1.3)\n",
      "Requirement already satisfied: python-dateutil>=2.8.2 in /home/derek/git/neXSim-core-ker-experiments/venv/lib/python3.12/site-packages (from pandas) (2.9.0.post0)\n",
      "Requirement already satisfied: pytz>=2020.1 in /home/derek/git/neXSim-core-ker-experiments/venv/lib/python3.12/site-packages (from pandas) (2024.2)\n",
      "Requirement already satisfied: tzdata>=2022.7 in /home/derek/git/neXSim-core-ker-experiments/venv/lib/python3.12/site-packages (from pandas) (2024.2)\n",
      "Requirement already satisfied: six>=1.5 in /home/derek/git/neXSim-core-ker-experiments/venv/lib/python3.12/site-packages (from python-dateutil>=2.8.2->pandas) (1.16.0)\n"
     ]
    }
   ],
   "source": [
    "! pip install pandas\n",
    "\n",
    "\n",
    "import pandas as pd\n",
    "import os"
   ]
  },
  {
   "cell_type": "markdown",
   "metadata": {},
   "source": [
    "Seeds and sizes interested in"
   ]
  },
  {
   "cell_type": "code",
   "execution_count": 3,
   "metadata": {},
   "outputs": [],
   "source": [
    "SEEDS = ['actor', \n",
    "         'amusement_park', \n",
    "         'band', \n",
    "         'championship', \n",
    "         'chemical_element', \n",
    "         'company', \n",
    "         'comune', \n",
    "         'dialect', \n",
    "         'film', \n",
    "         'scientist', \n",
    "         'sculpture', \n",
    "         'university', \n",
    "         'vehicle', \n",
    "         'video_game']\n",
    "\n",
    "\n",
    "SIZES = [2]"
   ]
  },
  {
   "cell_type": "markdown",
   "metadata": {},
   "source": [
    "Input folder"
   ]
  },
  {
   "cell_type": "code",
   "execution_count": 4,
   "metadata": {},
   "outputs": [
    {
     "name": "stdout",
     "output_type": "stream",
     "text": [
      "['vehicle', 'comune', 'university', 'dialect', 'sculpture', 'amusement_park', 'film', 'video_game', 'scientist', 'chemical_element', 'company', 'championship', 'actor', 'band']\n"
     ]
    }
   ],
   "source": [
    "print(os.listdir('../experiments_can_wt'))\n",
    "\n",
    "INPUT_FOLDER = '../experiments_can_wt'"
   ]
  },
  {
   "cell_type": "markdown",
   "metadata": {},
   "source": [
    "Read input files"
   ]
  },
  {
   "cell_type": "code",
   "execution_count": 5,
   "metadata": {},
   "outputs": [],
   "source": [
    "_can = None\n",
    "\n",
    "\n",
    "for seed in SEEDS:\n",
    "    for size in SIZES:\n",
    "        _tmp = pd.read_csv(f'{INPUT_FOLDER}/{seed}/{size}.csv', sep=';')\n",
    "        if _can is None:\n",
    "            _can = _tmp\n",
    "        else:\n",
    "            _can = pd.concat([_can, _tmp])\n",
    "\n"
   ]
  },
  {
   "cell_type": "markdown",
   "metadata": {},
   "source": [
    "Cleaning of blank columns"
   ]
  },
  {
   "cell_type": "code",
   "execution_count": 6,
   "metadata": {},
   "outputs": [
    {
     "name": "stdout",
     "output_type": "stream",
     "text": [
      "Index(['SEED', 'UNIT', 'UNIT_SIZE', 'SUMMARY_SIZES', 'WT_SUMMARY_SIZES',\n",
      "       'CAN_SIZE', 'WT_CAN_SIZE', 'SUMMARY_COMPUTATION_TIME',\n",
      "       'CAN_COMPUTATION_TIME', 'Unnamed: 9'],\n",
      "      dtype='object')\n",
      "(140000, 10)\n",
      "    SEED                       UNIT  UNIT_SIZE SUMMARY_SIZES WT_SUMMARY_SIZES  \\\n",
      "0  actor  bn:00915979n,bn:02426205n          2       260,265          519,528   \n",
      "1  actor  bn:15939213n,bn:05144812n          2       257,256          512,512   \n",
      "2  actor  bn:02688185n,bn:05472498n          2       260,256          519,511   \n",
      "3  actor  bn:08476136n,bn:03875359n          2       255,258          510,515   \n",
      "4  actor  bn:03340439n,bn:02366938n          2       259,270          517,538   \n",
      "\n",
      "   CAN_SIZE  WT_CAN_SIZE  SUMMARY_COMPUTATION_TIME  CAN_COMPUTATION_TIME  \n",
      "0     65033       130065                  21.31712             498.59935  \n",
      "1     63762       127525                  15.58194             482.08496  \n",
      "2     63761       127522                  18.10442             493.95610  \n",
      "3     63508       127017                  18.11145             451.90233  \n",
      "4     66553       133105                  18.65452             538.11368  \n"
     ]
    }
   ],
   "source": [
    "print(_can.columns)\n",
    "print(_can.shape)\n",
    "\n",
    "# drop the Unnamed: 9 column\n",
    "_can = _can.drop('Unnamed: 9', axis=1)\n",
    "\n",
    "#print(_can.columns)\n",
    "#print(_can.shape)\n",
    "\n",
    "\n",
    "print(_can.head())\n"
   ]
  },
  {
   "cell_type": "markdown",
   "metadata": {},
   "source": [
    "Generate table 1 and save to a .csv"
   ]
  },
  {
   "cell_type": "code",
   "execution_count": 7,
   "metadata": {},
   "outputs": [],
   "source": [
    "\n",
    "_byseed = _can.groupby('SEED')['CAN_SIZE'].describe(percentiles=[])\n",
    "\n",
    "\n",
    "\n",
    "_byseed = _byseed[['mean', 'min', 'max']]\n",
    "\n",
    "\n",
    "\n",
    "_byseed['min'] = _byseed['min'].astype(int)\n",
    "_byseed['max'] = _byseed['max'].astype(int)\n",
    "\n",
    "_byseed\n",
    "\n",
    "\n",
    "_byseed.to_csv('tables/can_sizes.csv', sep=';')\n",
    "\n",
    "\n"
   ]
  },
  {
   "cell_type": "markdown",
   "metadata": {},
   "source": [
    "Generate Table 2 and save to a csv "
   ]
  },
  {
   "cell_type": "code",
   "execution_count": 8,
   "metadata": {},
   "outputs": [],
   "source": [
    "\n",
    "_byseed = _can.groupby('SEED')['WT_CAN_SIZE'].describe(percentiles=[])\n",
    "\n",
    "\n",
    "\n",
    "_byseed = _byseed[['mean', 'min', 'max']]\n",
    "\n",
    "_byseed['min'] = _byseed['min'].astype(int)\n",
    "_byseed['max'] = _byseed['max'].astype(int)\n",
    "\n",
    "_byseed\n",
    "\n",
    "\n",
    "_byseed.to_csv('tables/can_sizes_w_top.csv', sep=';')\n",
    "\n",
    "\n"
   ]
  },
  {
   "cell_type": "markdown",
   "metadata": {},
   "source": [
    "\n",
    "OUTFILE_1 = '../computing_stats/CAN/can_sizes.csv' \n",
    "\n",
    "OUTFILE_2 = '../computing_stats/CAN/can_sizes_w_top.csv'"
   ]
  }
 ],
 "metadata": {
  "kernelspec": {
   "display_name": "venv",
   "language": "python",
   "name": "python3"
  },
  "language_info": {
   "codemirror_mode": {
    "name": "ipython",
    "version": 3
   },
   "file_extension": ".py",
   "mimetype": "text/x-python",
   "name": "python",
   "nbconvert_exporter": "python",
   "pygments_lexer": "ipython3",
   "version": "3.12.3"
  }
 },
 "nbformat": 4,
 "nbformat_minor": 2
}
