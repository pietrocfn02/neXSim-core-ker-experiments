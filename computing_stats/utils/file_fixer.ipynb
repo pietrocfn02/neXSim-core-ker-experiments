{
 "cells": [
  {
   "cell_type": "markdown",
   "metadata": {},
   "source": [
    "Some files are missing the \"\\n\" at the end of the header line, so we need to add it manually"
   ]
  },
  {
   "cell_type": "code",
   "execution_count": null,
   "metadata": {},
   "outputs": [],
   "source": [
    "SEEDS = ['actor', \n",
    "         'amusement_park', \n",
    "         'band', \n",
    "         'championship', \n",
    "         'chemical_element', \n",
    "         'company', \n",
    "         'comune', \n",
    "         'dialect', \n",
    "         'film', \n",
    "         'scientist', \n",
    "         'sculpture', \n",
    "         'university', \n",
    "         'vehicle', \n",
    "         'video_game']\n",
    "\n",
    "\n",
    "SIZES = [2,3,4,5,6]"
   ]
  },
  {
   "cell_type": "code",
   "execution_count": null,
   "metadata": {},
   "outputs": [],
   "source": [
    "# open all the files into '../pyrunlim_output_false_true'\n",
    "\n",
    "for seed in SEEDS:\n",
    "    for size in SIZES:\n",
    "        # open the file '../pyrunlim_output_false_true/{seed}/{size}.csv' and substitute the string 'UNIT;SEED;SIZE;TILDE;NEW;REALTIME;CHARACTERIZATION' with 'UNIT;SEED;SIZE;TILDE;NEW;REALTIME;CHARACTERIZATION\\n'\n",
    "\n",
    "        content = None\n",
    "        with open(f'../pyrunlim_output_false_true/{seed}/{size}.csv', 'r') as f:\n",
    "            content = f.read()\n",
    "            content = content.replace('UNIT;SEED;SIZE;TILDE;NEW;REALTIME;CHARACTERIZATION', 'UNIT;SEED;SIZE;TILDE;NEW;REALTIME;CHARACTERIZATION\\n')\n",
    "\n",
    "        with open(f'../pyrunlim_output_false_true/{seed}/{size}.csv', 'w') as f:\n",
    "            f.write(content)\n",
    "\n",
    "        "
   ]
  },
  {
   "cell_type": "code",
   "execution_count": null,
   "metadata": {},
   "outputs": [],
   "source": [
    "# open all the files into '../pyrunlim_output_true_true'\n",
    "\n",
    "for seed in SEEDS:\n",
    "    for size in SIZES:\n",
    "        \n",
    "        content = None\n",
    "        with open(f'../pyrunlim_output_true_true/{seed}/{size}.csv', 'r') as f:\n",
    "            content = f.read()\n",
    "            content = content.replace('UNIT;SEED;SIZE;TILDE;NEW;REALTIME;CHARACTERIZATION', 'UNIT;SEED;SIZE;TILDE;NEW;REALTIME;CHARACTERIZATION\\n')\n",
    "\n",
    "        with open(f'../pyrunlim_output_true_true/{seed}/{size}.csv', 'w') as f:\n",
    "            f.write(content)\n",
    "\n",
    "        "
   ]
  },
  {
   "cell_type": "code",
   "execution_count": null,
   "metadata": {},
   "outputs": [],
   "source": []
  }
 ],
 "metadata": {
  "language_info": {
   "name": "python"
  }
 },
 "nbformat": 4,
 "nbformat_minor": 2
}
